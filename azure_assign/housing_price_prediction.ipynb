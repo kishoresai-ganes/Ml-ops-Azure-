{
  "cells": [
    {
      "cell_type": "markdown",
      "metadata": {
        "id": "view-in-github"
      },
      "source": [
        "<a href=\"https://colab.research.google.com/github/Tejas-TA/Machine-Learning-Prediction-of-California-House-Prices/blob/main/California_Housing_Prices.ipynb\" target=\"_parent\"><img src=\"https://colab.research.google.com/assets/colab-badge.svg\" alt=\"Open In Colab\"/></a>"
      ]
    },
    {
      "cell_type": "markdown",
      "metadata": {
        "id": "-1tbevuZExOf"
      },
      "source": [
        "# **California Housing Prices Prediction - Machine Learning**\n",
        "\n"
      ]
    },
    {
      "cell_type": "markdown",
      "metadata": {
        "id": "3zT5YKE6ExOg"
      },
      "source": [
        "### Exploratory Data Analysis (EDA)"
      ]
    },
    {
      "cell_type": "code",
      "execution_count": 2,
      "metadata": {
        "id": "amLePjDeExOh"
      },
      "outputs": [],
      "source": [
        "import pandas as pd\n",
        "df = pd.read_csv(\"housing.csv\")"
      ]
    },
    {
      "cell_type": "code",
      "execution_count": 3,
      "metadata": {
        "colab": {
          "base_uri": "https://localhost:8080/"
        },
        "id": "E-Ordf51ExOj",
        "outputId": "3507f872-ae09-413b-ad75-2cfd4a9303d7"
      },
      "outputs": [
        {
          "data": {
            "text/plain": [
              "(20640, 10)"
            ]
          },
          "execution_count": 3,
          "metadata": {},
          "output_type": "execute_result"
        }
      ],
      "source": [
        "#Checking number of rows and columns (m*n)\n",
        "df.shape"
      ]
    },
    {
      "cell_type": "code",
      "execution_count": 4,
      "metadata": {
        "colab": {
          "base_uri": "https://localhost:8080/",
          "height": 364
        },
        "id": "7K-uFo1TExOk",
        "outputId": "cbe4e477-14a9-40f2-ed78-d87cb22c8cbc"
      },
      "outputs": [
        {
          "data": {
            "text/html": [
              "\n",
              "  <div id=\"df-1f378960-6195-4e42-8e89-80db97353567\">\n",
              "    <div class=\"colab-df-container\">\n",
              "      <div>\n",
              "<style scoped>\n",
              "    .dataframe tbody tr th:only-of-type {\n",
              "        vertical-align: middle;\n",
              "    }\n",
              "\n",
              "    .dataframe tbody tr th {\n",
              "        vertical-align: top;\n",
              "    }\n",
              "\n",
              "    .dataframe thead th {\n",
              "        text-align: right;\n",
              "    }\n",
              "</style>\n",
              "<table border=\"1\" class=\"dataframe\">\n",
              "  <thead>\n",
              "    <tr style=\"text-align: right;\">\n",
              "      <th></th>\n",
              "      <th>longitude</th>\n",
              "      <th>latitude</th>\n",
              "      <th>housing_median_age</th>\n",
              "      <th>total_rooms</th>\n",
              "      <th>total_bedrooms</th>\n",
              "      <th>population</th>\n",
              "      <th>households</th>\n",
              "      <th>median_income</th>\n",
              "      <th>median_house_value</th>\n",
              "    </tr>\n",
              "  </thead>\n",
              "  <tbody>\n",
              "    <tr>\n",
              "      <th>count</th>\n",
              "      <td>20640.000000</td>\n",
              "      <td>20640.000000</td>\n",
              "      <td>20640.000000</td>\n",
              "      <td>20640.000000</td>\n",
              "      <td>20433.000000</td>\n",
              "      <td>20640.000000</td>\n",
              "      <td>20640.000000</td>\n",
              "      <td>20640.000000</td>\n",
              "      <td>20640.000000</td>\n",
              "    </tr>\n",
              "    <tr>\n",
              "      <th>mean</th>\n",
              "      <td>-119.569704</td>\n",
              "      <td>35.631861</td>\n",
              "      <td>28.639486</td>\n",
              "      <td>2635.763081</td>\n",
              "      <td>537.870553</td>\n",
              "      <td>1425.476744</td>\n",
              "      <td>499.539680</td>\n",
              "      <td>3.870671</td>\n",
              "      <td>206855.816909</td>\n",
              "    </tr>\n",
              "    <tr>\n",
              "      <th>std</th>\n",
              "      <td>2.003532</td>\n",
              "      <td>2.135952</td>\n",
              "      <td>12.585558</td>\n",
              "      <td>2181.615252</td>\n",
              "      <td>421.385070</td>\n",
              "      <td>1132.462122</td>\n",
              "      <td>382.329753</td>\n",
              "      <td>1.899822</td>\n",
              "      <td>115395.615874</td>\n",
              "    </tr>\n",
              "    <tr>\n",
              "      <th>min</th>\n",
              "      <td>-124.350000</td>\n",
              "      <td>32.540000</td>\n",
              "      <td>1.000000</td>\n",
              "      <td>2.000000</td>\n",
              "      <td>1.000000</td>\n",
              "      <td>3.000000</td>\n",
              "      <td>1.000000</td>\n",
              "      <td>0.499900</td>\n",
              "      <td>14999.000000</td>\n",
              "    </tr>\n",
              "    <tr>\n",
              "      <th>25%</th>\n",
              "      <td>-121.800000</td>\n",
              "      <td>33.930000</td>\n",
              "      <td>18.000000</td>\n",
              "      <td>1447.750000</td>\n",
              "      <td>296.000000</td>\n",
              "      <td>787.000000</td>\n",
              "      <td>280.000000</td>\n",
              "      <td>2.563400</td>\n",
              "      <td>119600.000000</td>\n",
              "    </tr>\n",
              "    <tr>\n",
              "      <th>50%</th>\n",
              "      <td>-118.490000</td>\n",
              "      <td>34.260000</td>\n",
              "      <td>29.000000</td>\n",
              "      <td>2127.000000</td>\n",
              "      <td>435.000000</td>\n",
              "      <td>1166.000000</td>\n",
              "      <td>409.000000</td>\n",
              "      <td>3.534800</td>\n",
              "      <td>179700.000000</td>\n",
              "    </tr>\n",
              "    <tr>\n",
              "      <th>75%</th>\n",
              "      <td>-118.010000</td>\n",
              "      <td>37.710000</td>\n",
              "      <td>37.000000</td>\n",
              "      <td>3148.000000</td>\n",
              "      <td>647.000000</td>\n",
              "      <td>1725.000000</td>\n",
              "      <td>605.000000</td>\n",
              "      <td>4.743250</td>\n",
              "      <td>264725.000000</td>\n",
              "    </tr>\n",
              "    <tr>\n",
              "      <th>max</th>\n",
              "      <td>-114.310000</td>\n",
              "      <td>41.950000</td>\n",
              "      <td>52.000000</td>\n",
              "      <td>39320.000000</td>\n",
              "      <td>6445.000000</td>\n",
              "      <td>35682.000000</td>\n",
              "      <td>6082.000000</td>\n",
              "      <td>15.000100</td>\n",
              "      <td>500001.000000</td>\n",
              "    </tr>\n",
              "  </tbody>\n",
              "</table>\n",
              "</div>\n",
              "      <button class=\"colab-df-convert\" onclick=\"convertToInteractive('df-1f378960-6195-4e42-8e89-80db97353567')\"\n",
              "              title=\"Convert this dataframe to an interactive table.\"\n",
              "              style=\"display:none;\">\n",
              "        \n",
              "  <svg xmlns=\"http://www.w3.org/2000/svg\" height=\"24px\"viewBox=\"0 0 24 24\"\n",
              "       width=\"24px\">\n",
              "    <path d=\"M0 0h24v24H0V0z\" fill=\"none\"/>\n",
              "    <path d=\"M18.56 5.44l.94 2.06.94-2.06 2.06-.94-2.06-.94-.94-2.06-.94 2.06-2.06.94zm-11 1L8.5 8.5l.94-2.06 2.06-.94-2.06-.94L8.5 2.5l-.94 2.06-2.06.94zm10 10l.94 2.06.94-2.06 2.06-.94-2.06-.94-.94-2.06-.94 2.06-2.06.94z\"/><path d=\"M17.41 7.96l-1.37-1.37c-.4-.4-.92-.59-1.43-.59-.52 0-1.04.2-1.43.59L10.3 9.45l-7.72 7.72c-.78.78-.78 2.05 0 2.83L4 21.41c.39.39.9.59 1.41.59.51 0 1.02-.2 1.41-.59l7.78-7.78 2.81-2.81c.8-.78.8-2.07 0-2.86zM5.41 20L4 18.59l7.72-7.72 1.47 1.35L5.41 20z\"/>\n",
              "  </svg>\n",
              "      </button>\n",
              "      \n",
              "  <style>\n",
              "    .colab-df-container {\n",
              "      display:flex;\n",
              "      flex-wrap:wrap;\n",
              "      gap: 12px;\n",
              "    }\n",
              "\n",
              "    .colab-df-convert {\n",
              "      background-color: #E8F0FE;\n",
              "      border: none;\n",
              "      border-radius: 50%;\n",
              "      cursor: pointer;\n",
              "      display: none;\n",
              "      fill: #1967D2;\n",
              "      height: 32px;\n",
              "      padding: 0 0 0 0;\n",
              "      width: 32px;\n",
              "    }\n",
              "\n",
              "    .colab-df-convert:hover {\n",
              "      background-color: #E2EBFA;\n",
              "      box-shadow: 0px 1px 2px rgba(60, 64, 67, 0.3), 0px 1px 3px 1px rgba(60, 64, 67, 0.15);\n",
              "      fill: #174EA6;\n",
              "    }\n",
              "\n",
              "    [theme=dark] .colab-df-convert {\n",
              "      background-color: #3B4455;\n",
              "      fill: #D2E3FC;\n",
              "    }\n",
              "\n",
              "    [theme=dark] .colab-df-convert:hover {\n",
              "      background-color: #434B5C;\n",
              "      box-shadow: 0px 1px 3px 1px rgba(0, 0, 0, 0.15);\n",
              "      filter: drop-shadow(0px 1px 2px rgba(0, 0, 0, 0.3));\n",
              "      fill: #FFFFFF;\n",
              "    }\n",
              "  </style>\n",
              "\n",
              "      <script>\n",
              "        const buttonEl =\n",
              "          document.querySelector('#df-1f378960-6195-4e42-8e89-80db97353567 button.colab-df-convert');\n",
              "        buttonEl.style.display =\n",
              "          google.colab.kernel.accessAllowed ? 'block' : 'none';\n",
              "\n",
              "        async function convertToInteractive(key) {\n",
              "          const element = document.querySelector('#df-1f378960-6195-4e42-8e89-80db97353567');\n",
              "          const dataTable =\n",
              "            await google.colab.kernel.invokeFunction('convertToInteractive',\n",
              "                                                     [key], {});\n",
              "          if (!dataTable) return;\n",
              "\n",
              "          const docLinkHtml = 'Like what you see? Visit the ' +\n",
              "            '<a target=\"_blank\" href=https://colab.research.google.com/notebooks/data_table.ipynb>data table notebook</a>'\n",
              "            + ' to learn more about interactive tables.';\n",
              "          element.innerHTML = '';\n",
              "          dataTable['output_type'] = 'display_data';\n",
              "          await google.colab.output.renderOutput(dataTable, element);\n",
              "          const docLink = document.createElement('div');\n",
              "          docLink.innerHTML = docLinkHtml;\n",
              "          element.appendChild(docLink);\n",
              "        }\n",
              "      </script>\n",
              "    </div>\n",
              "  </div>\n",
              "  "
            ],
            "text/plain": [
              "          longitude      latitude  housing_median_age   total_rooms  \\\n",
              "count  20640.000000  20640.000000        20640.000000  20640.000000   \n",
              "mean    -119.569704     35.631861           28.639486   2635.763081   \n",
              "std        2.003532      2.135952           12.585558   2181.615252   \n",
              "min     -124.350000     32.540000            1.000000      2.000000   \n",
              "25%     -121.800000     33.930000           18.000000   1447.750000   \n",
              "50%     -118.490000     34.260000           29.000000   2127.000000   \n",
              "75%     -118.010000     37.710000           37.000000   3148.000000   \n",
              "max     -114.310000     41.950000           52.000000  39320.000000   \n",
              "\n",
              "       total_bedrooms    population    households  median_income  \\\n",
              "count    20433.000000  20640.000000  20640.000000   20640.000000   \n",
              "mean       537.870553   1425.476744    499.539680       3.870671   \n",
              "std        421.385070   1132.462122    382.329753       1.899822   \n",
              "min          1.000000      3.000000      1.000000       0.499900   \n",
              "25%        296.000000    787.000000    280.000000       2.563400   \n",
              "50%        435.000000   1166.000000    409.000000       3.534800   \n",
              "75%        647.000000   1725.000000    605.000000       4.743250   \n",
              "max       6445.000000  35682.000000   6082.000000      15.000100   \n",
              "\n",
              "       median_house_value  \n",
              "count        20640.000000  \n",
              "mean        206855.816909  \n",
              "std         115395.615874  \n",
              "min          14999.000000  \n",
              "25%         119600.000000  \n",
              "50%         179700.000000  \n",
              "75%         264725.000000  \n",
              "max         500001.000000  "
            ]
          },
          "execution_count": 4,
          "metadata": {},
          "output_type": "execute_result"
        }
      ],
      "source": [
        "#25%, 75%, standard deviaiton etc are displayed for all features\n",
        "df.describe()"
      ]
    },
    {
      "cell_type": "code",
      "execution_count": 5,
      "metadata": {
        "colab": {
          "base_uri": "https://localhost:8080/"
        },
        "id": "3eXJpD7aExOl",
        "outputId": "b2ee2f6b-0b97-45e8-ae67-8dded6d8f7a4"
      },
      "outputs": [
        {
          "name": "stdout",
          "output_type": "stream",
          "text": [
            "<class 'pandas.core.frame.DataFrame'>\n",
            "RangeIndex: 20640 entries, 0 to 20639\n",
            "Data columns (total 10 columns):\n",
            " #   Column              Non-Null Count  Dtype  \n",
            "---  ------              --------------  -----  \n",
            " 0   longitude           20640 non-null  float64\n",
            " 1   latitude            20640 non-null  float64\n",
            " 2   housing_median_age  20640 non-null  int64  \n",
            " 3   total_rooms         20640 non-null  int64  \n",
            " 4   total_bedrooms      20433 non-null  float64\n",
            " 5   population          20640 non-null  int64  \n",
            " 6   households          20640 non-null  int64  \n",
            " 7   median_income       20640 non-null  float64\n",
            " 8   ocean_proximity     20640 non-null  object \n",
            " 9   median_house_value  20640 non-null  int64  \n",
            "dtypes: float64(4), int64(5), object(1)\n",
            "memory usage: 1.6+ MB\n"
          ]
        }
      ],
      "source": [
        "#To check non-null count\n",
        "df.info()"
      ]
    },
    {
      "cell_type": "code",
      "execution_count": 6,
      "metadata": {
        "id": "FP1tMu_JExOl"
      },
      "outputs": [],
      "source": [
        "#Using matplotlib and seaborn for visualization\n",
        "import matplotlib.pyplot as plt\n",
        "import seaborn as sns"
      ]
    },
    {
      "cell_type": "code",
      "execution_count": 7,
      "metadata": {
        "colab": {
          "base_uri": "https://localhost:8080/",
          "height": 377
        },
        "id": "8B3v2f9yExOl",
        "outputId": "a2fd97c9-5db5-4020-b50c-a18e4b82ce27"
      },
      "outputs": [
        {
          "data": {
            "image/png": "[encoded data removed]",
            "text/plain": [
              "<Figure size 432x288 with 2 Axes>"
            ]
          },
          "metadata": {
            "needs_background": "light"
          },
          "output_type": "display_data"
        }
      ],
      "source": [
        "#Visualizing missing data\n",
        "sns.heatmap(df.isnull(),cmap='Greens',cbar=True,yticklabels=False)\n",
        "plt.title('Missing Data in Total Bedrooms')\n",
        "plt.show()"
      ]
    },
    {
      "cell_type": "code",
      "execution_count": 8,
      "metadata": {
        "colab": {
          "base_uri": "https://localhost:8080/"
        },
        "id": "fCwVc7fTExOm",
        "outputId": "a9021358-fc1e-4332-c80d-dc8f467f8307"
      },
      "outputs": [
        {
          "data": {
            "text/plain": [
              "longitude             False\n",
              "latitude              False\n",
              "housing_median_age    False\n",
              "total_rooms           False\n",
              "total_bedrooms         True\n",
              "population            False\n",
              "households            False\n",
              "median_income         False\n",
              "ocean_proximity       False\n",
              "median_house_value    False\n",
              "dtype: bool"
            ]
          },
          "execution_count": 8,
          "metadata": {},
          "output_type": "execute_result"
        }
      ],
      "source": [
        "#Checking as to which feature has missing values using boolean commands\n",
        "df.isnull().any()"
      ]
    },
    {
      "cell_type": "code",
      "execution_count": 9,
      "metadata": {
        "colab": {
          "base_uri": "https://localhost:8080/"
        },
        "id": "JtwS2r9KExOm",
        "outputId": "92393060-8e43-458e-d0a2-8f4fc33e4002"
      },
      "outputs": [
        {
          "data": {
            "text/plain": [
              "longitude               0\n",
              "latitude                0\n",
              "housing_median_age      0\n",
              "total_rooms             0\n",
              "total_bedrooms        207\n",
              "population              0\n",
              "households              0\n",
              "median_income           0\n",
              "ocean_proximity         0\n",
              "median_house_value      0\n",
              "dtype: int64"
            ]
          },
          "execution_count": 9,
          "metadata": {},
          "output_type": "execute_result"
        }
      ],
      "source": [
        "#So, total_bedrooms has missing values\n",
        "#Counting how many rows do not have bedrooms \n",
        "df.isnull().sum()"
      ]
    },
    {
      "cell_type": "markdown",
      "metadata": {
        "id": "NF7P1GplExOm"
      },
      "source": [
        "<b>We have 207 missing values for 'total_bedrooms' which will be handled during the next phase"
      ]
    },
    {
      "cell_type": "markdown",
      "metadata": {
        "id": "5t_si0jdExOn"
      },
      "source": [
        "### Data Cleaning, Visualization, Feature Engineering and Selection"
      ]
    },
    {
      "cell_type": "code",
      "execution_count": 10,
      "metadata": {
        "colab": {
          "base_uri": "https://localhost:8080/"
        },
        "id": "gfOOYK3yExOn",
        "outputId": "c625a371-ec5f-444e-8436-6bf5294f00c2"
      },
      "outputs": [
        {
          "data": {
            "text/plain": [
              "array([[-122.23, 37.88, 41, ..., 8.3252, 'NEAR BAY', 452600],\n",
              "       [-122.22, 37.86, 21, ..., 8.3014, 'NEAR BAY', 358500],\n",
              "       [-122.24, 37.85, 52, ..., 7.2574, 'NEAR BAY', 352100],\n",
              "       ...,\n",
              "       [-121.22, 39.43, 17, ..., 1.7, 'INLAND', 92300],\n",
              "       [-121.32, 39.43, 18, ..., 1.8672, 'INLAND', 84700],\n",
              "       [-121.24, 39.37, 16, ..., 2.3886, 'INLAND', 89400]], dtype=object)"
            ]
          },
          "execution_count": 10,
          "metadata": {},
          "output_type": "execute_result"
        }
      ],
      "source": [
        "#Another version of df.head() but without feature names\n",
        "df.values"
      ]
    },
    {
      "cell_type": "code",
      "execution_count": 11,
      "metadata": {
        "colab": {
          "base_uri": "https://localhost:8080/",
          "height": 427
        },
        "id": "jNs7txYYExOn",
        "outputId": "84244f98-7631-467b-8941-bdc276a4ffee"
      },
      "outputs": [
        {
          "data": {
            "text/html": [
              "\n",
              "  <div id=\"df-2089208a-d750-4fb2-ab8d-d02fa5142894\">\n",
              "    <div class=\"colab-df-container\">\n",
              "      <div>\n",
              "<style scoped>\n",
              "    .dataframe tbody tr th:only-of-type {\n",
              "        vertical-align: middle;\n",
              "    }\n",
              "\n",
              "    .dataframe tbody tr th {\n",
              "        vertical-align: top;\n",
              "    }\n",
              "\n",
              "    .dataframe thead th {\n",
              "        text-align: right;\n",
              "    }\n",
              "</style>\n",
              "<table border=\"1\" class=\"dataframe\">\n",
              "  <thead>\n",
              "    <tr style=\"text-align: right;\">\n",
              "      <th></th>\n",
              "      <th>longitude</th>\n",
              "      <th>latitude</th>\n",
              "      <th>housing_median_age</th>\n",
              "      <th>total_rooms</th>\n",
              "      <th>total_bedrooms</th>\n",
              "      <th>population</th>\n",
              "      <th>households</th>\n",
              "      <th>median_income</th>\n",
              "      <th>ocean_proximity</th>\n",
              "      <th>median_house_value</th>\n",
              "    </tr>\n",
              "  </thead>\n",
              "  <tbody>\n",
              "    <tr>\n",
              "      <th>16830</th>\n",
              "      <td>-122.54</td>\n",
              "      <td>37.62</td>\n",
              "      <td>35</td>\n",
              "      <td>1481</td>\n",
              "      <td>277.0</td>\n",
              "      <td>747</td>\n",
              "      <td>254</td>\n",
              "      <td>4.4286</td>\n",
              "      <td>NEAR OCEAN</td>\n",
              "      <td>262100</td>\n",
              "    </tr>\n",
              "    <tr>\n",
              "      <th>13455</th>\n",
              "      <td>-117.39</td>\n",
              "      <td>34.11</td>\n",
              "      <td>5</td>\n",
              "      <td>2987</td>\n",
              "      <td>457.0</td>\n",
              "      <td>1821</td>\n",
              "      <td>485</td>\n",
              "      <td>4.8889</td>\n",
              "      <td>INLAND</td>\n",
              "      <td>138900</td>\n",
              "    </tr>\n",
              "    <tr>\n",
              "      <th>3925</th>\n",
              "      <td>-118.56</td>\n",
              "      <td>34.18</td>\n",
              "      <td>36</td>\n",
              "      <td>1366</td>\n",
              "      <td>224.0</td>\n",
              "      <td>719</td>\n",
              "      <td>270</td>\n",
              "      <td>4.8264</td>\n",
              "      <td>&lt;1H OCEAN</td>\n",
              "      <td>251000</td>\n",
              "    </tr>\n",
              "    <tr>\n",
              "      <th>5077</th>\n",
              "      <td>-118.29</td>\n",
              "      <td>33.98</td>\n",
              "      <td>44</td>\n",
              "      <td>2261</td>\n",
              "      <td>555.0</td>\n",
              "      <td>1348</td>\n",
              "      <td>455</td>\n",
              "      <td>1.9125</td>\n",
              "      <td>&lt;1H OCEAN</td>\n",
              "      <td>97200</td>\n",
              "    </tr>\n",
              "    <tr>\n",
              "      <th>13694</th>\n",
              "      <td>-117.23</td>\n",
              "      <td>34.13</td>\n",
              "      <td>10</td>\n",
              "      <td>1145</td>\n",
              "      <td>293.0</td>\n",
              "      <td>726</td>\n",
              "      <td>251</td>\n",
              "      <td>1.6450</td>\n",
              "      <td>INLAND</td>\n",
              "      <td>68700</td>\n",
              "    </tr>\n",
              "    <tr>\n",
              "      <th>18227</th>\n",
              "      <td>-122.09</td>\n",
              "      <td>37.41</td>\n",
              "      <td>14</td>\n",
              "      <td>753</td>\n",
              "      <td>193.0</td>\n",
              "      <td>421</td>\n",
              "      <td>153</td>\n",
              "      <td>4.2463</td>\n",
              "      <td>NEAR BAY</td>\n",
              "      <td>266700</td>\n",
              "    </tr>\n",
              "    <tr>\n",
              "      <th>49</th>\n",
              "      <td>-122.27</td>\n",
              "      <td>37.82</td>\n",
              "      <td>40</td>\n",
              "      <td>946</td>\n",
              "      <td>375.0</td>\n",
              "      <td>700</td>\n",
              "      <td>352</td>\n",
              "      <td>1.7750</td>\n",
              "      <td>NEAR BAY</td>\n",
              "      <td>112500</td>\n",
              "    </tr>\n",
              "    <tr>\n",
              "      <th>7504</th>\n",
              "      <td>-118.27</td>\n",
              "      <td>33.92</td>\n",
              "      <td>35</td>\n",
              "      <td>1818</td>\n",
              "      <td>374.0</td>\n",
              "      <td>1444</td>\n",
              "      <td>372</td>\n",
              "      <td>2.7450</td>\n",
              "      <td>&lt;1H OCEAN</td>\n",
              "      <td>106800</td>\n",
              "    </tr>\n",
              "    <tr>\n",
              "      <th>16063</th>\n",
              "      <td>-122.48</td>\n",
              "      <td>37.75</td>\n",
              "      <td>52</td>\n",
              "      <td>2515</td>\n",
              "      <td>494.0</td>\n",
              "      <td>1583</td>\n",
              "      <td>477</td>\n",
              "      <td>4.3393</td>\n",
              "      <td>NEAR BAY</td>\n",
              "      <td>317600</td>\n",
              "    </tr>\n",
              "    <tr>\n",
              "      <th>18487</th>\n",
              "      <td>-121.58</td>\n",
              "      <td>37.01</td>\n",
              "      <td>15</td>\n",
              "      <td>2873</td>\n",
              "      <td>547.0</td>\n",
              "      <td>1582</td>\n",
              "      <td>567</td>\n",
              "      <td>5.1519</td>\n",
              "      <td>INLAND</td>\n",
              "      <td>264700</td>\n",
              "    </tr>\n",
              "  </tbody>\n",
              "</table>\n",
              "</div>\n",
              "      <button class=\"colab-df-convert\" onclick=\"convertToInteractive('df-2089208a-d750-4fb2-ab8d-d02fa5142894')\"\n",
              "              title=\"Convert this dataframe to an interactive table.\"\n",
              "              style=\"display:none;\">\n",
              "        \n",
              "  <svg xmlns=\"http://www.w3.org/2000/svg\" height=\"24px\"viewBox=\"0 0 24 24\"\n",
              "       width=\"24px\">\n",
              "    <path d=\"M0 0h24v24H0V0z\" fill=\"none\"/>\n",
              "    <path d=\"M18.56 5.44l.94 2.06.94-2.06 2.06-.94-2.06-.94-.94-2.06-.94 2.06-2.06.94zm-11 1L8.5 8.5l.94-2.06 2.06-.94-2.06-.94L8.5 2.5l-.94 2.06-2.06.94zm10 10l.94 2.06.94-2.06 2.06-.94-2.06-.94-.94-2.06-.94 2.06-2.06.94z\"/><path d=\"M17.41 7.96l-1.37-1.37c-.4-.4-.92-.59-1.43-.59-.52 0-1.04.2-1.43.59L10.3 9.45l-7.72 7.72c-.78.78-.78 2.05 0 2.83L4 21.41c.39.39.9.59 1.41.59.51 0 1.02-.2 1.41-.59l7.78-7.78 2.81-2.81c.8-.78.8-2.07 0-2.86zM5.41 20L4 18.59l7.72-7.72 1.47 1.35L5.41 20z\"/>\n",
              "  </svg>\n",
              "      </button>\n",
              "      \n",
              "  <style>\n",
              "    .colab-df-container {\n",
              "      display:flex;\n",
              "      flex-wrap:wrap;\n",
              "      gap: 12px;\n",
              "    }\n",
              "\n",
              "    .colab-df-convert {\n",
              "      background-color: #E8F0FE;\n",
              "      border: none;\n",
              "      border-radius: 50%;\n",
              "      cursor: pointer;\n",
              "      display: none;\n",
              "      fill: #1967D2;\n",
              "      height: 32px;\n",
              "      padding: 0 0 0 0;\n",
              "      width: 32px;\n",
              "    }\n",
              "\n",
              "    .colab-df-convert:hover {\n",
              "      background-color: #E2EBFA;\n",
              "      box-shadow: 0px 1px 2px rgba(60, 64, 67, 0.3), 0px 1px 3px 1px rgba(60, 64, 67, 0.15);\n",
              "      fill: #174EA6;\n",
              "    }\n",
              "\n",
              "    [theme=dark] .colab-df-convert {\n",
              "      background-color: #3B4455;\n",
              "      fill: #D2E3FC;\n",
              "    }\n",
              "\n",
              "    [theme=dark] .colab-df-convert:hover {\n",
              "      background-color: #434B5C;\n",
              "      box-shadow: 0px 1px 3px 1px rgba(0, 0, 0, 0.15);\n",
              "      filter: drop-shadow(0px 1px 2px rgba(0, 0, 0, 0.3));\n",
              "      fill: #FFFFFF;\n",
              "    }\n",
              "  </style>\n",
              "\n",
              "      <script>\n",
              "        const buttonEl =\n",
              "          document.querySelector('#df-2089208a-d750-4fb2-ab8d-d02fa5142894 button.colab-df-convert');\n",
              "        buttonEl.style.display =\n",
              "          google.colab.kernel.accessAllowed ? 'block' : 'none';\n",
              "\n",
              "        async function convertToInteractive(key) {\n",
              "          const element = document.querySelector('#df-2089208a-d750-4fb2-ab8d-d02fa5142894');\n",
              "          const dataTable =\n",
              "            await google.colab.kernel.invokeFunction('convertToInteractive',\n",
              "                                                     [key], {});\n",
              "          if (!dataTable) return;\n",
              "\n",
              "          const docLinkHtml = 'Like what you see? Visit the ' +\n",
              "            '<a target=\"_blank\" href=https://colab.research.google.com/notebooks/data_table.ipynb>data table notebook</a>'\n",
              "            + ' to learn more about interactive tables.';\n",
              "          element.innerHTML = '';\n",
              "          dataTable['output_type'] = 'display_data';\n",
              "          await google.colab.output.renderOutput(dataTable, element);\n",
              "          const docLink = document.createElement('div');\n",
              "          docLink.innerHTML = docLinkHtml;\n",
              "          element.appendChild(docLink);\n",
              "        }\n",
              "      </script>\n",
              "    </div>\n",
              "  </div>\n",
              "  "
            ],
            "text/plain": [
              "       longitude  latitude  housing_median_age  total_rooms  total_bedrooms  \\\n",
              "16830    -122.54     37.62                  35         1481           277.0   \n",
              "13455    -117.39     34.11                   5         2987           457.0   \n",
              "3925     -118.56     34.18                  36         1366           224.0   \n",
              "5077     -118.29     33.98                  44         2261           555.0   \n",
              "13694    -117.23     34.13                  10         1145           293.0   \n",
              "18227    -122.09     37.41                  14          753           193.0   \n",
              "49       -122.27     37.82                  40          946           375.0   \n",
              "7504     -118.27     33.92                  35         1818           374.0   \n",
              "16063    -122.48     37.75                  52         2515           494.0   \n",
              "18487    -121.58     37.01                  15         2873           547.0   \n",
              "\n",
              "       population  households  median_income ocean_proximity  \\\n",
              "16830         747         254         4.4286      NEAR OCEAN   \n",
              "13455        1821         485         4.8889          INLAND   \n",
              "3925          719         270         4.8264       <1H OCEAN   \n",
              "5077         1348         455         1.9125       <1H OCEAN   \n",
              "13694         726         251         1.6450          INLAND   \n",
              "18227         421         153         4.2463        NEAR BAY   \n",
              "49            700         352         1.7750        NEAR BAY   \n",
              "7504         1444         372         2.7450       <1H OCEAN   \n",
              "16063        1583         477         4.3393        NEAR BAY   \n",
              "18487        1582         567         5.1519          INLAND   \n",
              "\n",
              "       median_house_value  \n",
              "16830              262100  \n",
              "13455              138900  \n",
              "3925               251000  \n",
              "5077                97200  \n",
              "13694               68700  \n",
              "18227              266700  \n",
              "49                 112500  \n",
              "7504               106800  \n",
              "16063              317600  \n",
              "18487              264700  "
            ]
          },
          "execution_count": 11,
          "metadata": {},
          "output_type": "execute_result"
        }
      ],
      "source": [
        "# Shuffling all rows(frac=1)\n",
        "df = df.sample(frac=1)\n",
        "df.head(10)"
      ]
    },
    {
      "cell_type": "code",
      "execution_count": 12,
      "metadata": {
        "colab": {
          "base_uri": "https://localhost:8080/"
        },
        "id": "GfpX9TZuExOo",
        "outputId": "c2115ce9-052f-49e9-a5b3-9740c50fabb2"
      },
      "outputs": [
        {
          "data": {
            "text/plain": [
              "array(['NEAR OCEAN', 'INLAND', '<1H OCEAN', 'NEAR BAY', 'ISLAND'],\n",
              "      dtype=object)"
            ]
          },
          "execution_count": 12,
          "metadata": {},
          "output_type": "execute_result"
        }
      ],
      "source": [
        "#Categorical Data, so, will enumerate and replace all data with unique values for each type of data\n",
        "df['ocean_proximity'].unique()"
      ]
    },
    {
      "cell_type": "code",
      "execution_count": 13,
      "metadata": {
        "colab": {
          "base_uri": "https://localhost:8080/",
          "height": 406
        },
        "id": "DsKVDPyPExOo",
        "outputId": "16e73e09-e9f2-4bb4-f9c4-5b3755b3f440"
      },
      "outputs": [
        {
          "data": {
            "text/plain": [
              "[]"
            ]
          },
          "execution_count": 13,
          "metadata": {},
          "output_type": "execute_result"
        },
        {
          "data": {
            "image/png": "[encoded data removed]",
            "text/plain": [
              "<Figure size 720x432 with 1 Axes>"
            ]
          },
          "metadata": {
            "needs_background": "light"
          },
          "output_type": "display_data"
        }
      ],
      "source": [
        "plt.figure(figsize=(10,6))\n",
        "sns.countplot(data=df,x='ocean_proximity')\n",
        "plt.plot()"
      ]
    },
    {
      "cell_type": "code",
      "execution_count": 14,
      "metadata": {
        "id": "aD8LMyc8ExOo"
      },
      "outputs": [],
      "source": [
        "# Replace ocean proximity with values to help our model\n",
        "ocean_proximity = {a:b for b,a in enumerate(df['ocean_proximity'].unique())}\n",
        "df.replace(ocean_proximity, inplace=True)"
      ]
    },
    {
      "cell_type": "code",
      "execution_count": 15,
      "metadata": {
        "colab": {
          "base_uri": "https://localhost:8080/"
        },
        "id": "vg0MMirMExOp",
        "outputId": "c4df9028-8b7f-4a6c-9ac6-d9879d703758"
      },
      "outputs": [
        {
          "data": {
            "text/plain": [
              "array([0, 1, 2, 3, 4])"
            ]
          },
          "execution_count": 15,
          "metadata": {},
          "output_type": "execute_result"
        }
      ],
      "source": [
        "df.ocean_proximity.unique()"
      ]
    },
    {
      "cell_type": "code",
      "execution_count": 16,
      "metadata": {
        "id": "Gb4CRLX-ExOp"
      },
      "outputs": [],
      "source": [
        "# The feature 'total_bedrooms' has NaN values so I will replace them with the mean of the feature\n",
        "df = df.apply(lambda x: x.fillna(x.mean()))"
      ]
    },
    {
      "cell_type": "code",
      "execution_count": 17,
      "metadata": {
        "id": "z0wq1oESExOp"
      },
      "outputs": [],
      "source": [
        "#Run this cell to check if mean values are populated into the csv. \n",
        "#Note that data frame has been shuffled\n",
        "#new=df.to_csv(\"total_bedrooms\".csv\")"
      ]
    },
    {
      "cell_type": "code",
      "execution_count": 18,
      "metadata": {
        "colab": {
          "base_uri": "https://localhost:8080/"
        },
        "id": "nnTarZs3ExOp",
        "outputId": "f2b5994c-f4d8-455e-e083-533c72f0069f"
      },
      "outputs": [
        {
          "data": {
            "text/plain": [
              "longitude             False\n",
              "latitude              False\n",
              "housing_median_age    False\n",
              "total_rooms           False\n",
              "total_bedrooms        False\n",
              "population            False\n",
              "households            False\n",
              "median_income         False\n",
              "ocean_proximity       False\n",
              "median_house_value    False\n",
              "dtype: bool"
            ]
          },
          "execution_count": 18,
          "metadata": {},
          "output_type": "execute_result"
        }
      ],
      "source": [
        "#Verifying Data is balanced\n",
        "df.isnull().any()"
      ]
    },
    {
      "cell_type": "code",
      "execution_count": 19,
      "metadata": {
        "colab": {
          "base_uri": "https://localhost:8080/",
          "height": 717
        },
        "id": "kuH-26VdExOq",
        "outputId": "3596f20e-bb66-42d2-a764-85cee6c81c4a"
      },
      "outputs": [
        {
          "data": {
            "image/png": "[encoded data removed]",
            "text/plain": [
              "<Figure size 1440x1080 with 12 Axes>"
            ]
          },
          "metadata": {
            "needs_background": "light"
          },
          "output_type": "display_data"
        }
      ],
      "source": [
        "import matplotlib.pyplot as plt\n",
        "df.hist(bins=50,figsize=(20,15))\n",
        "plt.show()"
      ]
    },
    {
      "cell_type": "code",
      "execution_count": 20,
      "metadata": {
        "colab": {
          "base_uri": "https://localhost:8080/",
          "height": 282
        },
        "id": "xp03ZUq0ExOq",
        "outputId": "ba264b2a-8a3a-40a4-9ea2-62907af2de90"
      },
      "outputs": [
        {
          "data": {
            "text/plain": [
              "<matplotlib.axes._subplots.AxesSubplot at 0x7fb5c1938710>"
            ]
          },
          "execution_count": 20,
          "metadata": {},
          "output_type": "execute_result"
        },
        {
          "data": {
            "image/png": "[encoded data removed]",
            "text/plain": [
              "<Figure size 432x288 with 1 Axes>"
            ]
          },
          "metadata": {
            "needs_background": "light"
          },
          "output_type": "display_data"
        }
      ],
      "source": [
        "#Analyzing the median income range\n",
        "df[\"median_income\"].hist(bins=40)"
      ]
    },
    {
      "cell_type": "code",
      "execution_count": 21,
      "metadata": {
        "colab": {
          "base_uri": "https://localhost:8080/",
          "height": 427
        },
        "id": "Mpw0SYQnExOq",
        "outputId": "3e06201f-ee37-40f0-c68f-fc8ea3a98169"
      },
      "outputs": [
        {
          "data": {
            "text/html": [
              "\n",
              "  <div id=\"df-ff7b73f2-51a4-478b-9071-53e11c704840\">\n",
              "    <div class=\"colab-df-container\">\n",
              "      <div>\n",
              "<style scoped>\n",
              "    .dataframe tbody tr th:only-of-type {\n",
              "        vertical-align: middle;\n",
              "    }\n",
              "\n",
              "    .dataframe tbody tr th {\n",
              "        vertical-align: top;\n",
              "    }\n",
              "\n",
              "    .dataframe thead th {\n",
              "        text-align: right;\n",
              "    }\n",
              "</style>\n",
              "<table border=\"1\" class=\"dataframe\">\n",
              "  <thead>\n",
              "    <tr style=\"text-align: right;\">\n",
              "      <th></th>\n",
              "      <th>longitude</th>\n",
              "      <th>latitude</th>\n",
              "      <th>housing_median_age</th>\n",
              "      <th>total_rooms</th>\n",
              "      <th>total_bedrooms</th>\n",
              "      <th>population</th>\n",
              "      <th>households</th>\n",
              "      <th>median_income</th>\n",
              "      <th>ocean_proximity</th>\n",
              "      <th>median_house_value</th>\n",
              "    </tr>\n",
              "  </thead>\n",
              "  <tbody>\n",
              "    <tr>\n",
              "      <th>longitude</th>\n",
              "      <td>1.000000</td>\n",
              "      <td>-0.924664</td>\n",
              "      <td>-0.108197</td>\n",
              "      <td>0.044568</td>\n",
              "      <td>0.069260</td>\n",
              "      <td>0.099773</td>\n",
              "      <td>0.055310</td>\n",
              "      <td>-0.015176</td>\n",
              "      <td>-0.179531</td>\n",
              "      <td>-0.045967</td>\n",
              "    </tr>\n",
              "    <tr>\n",
              "      <th>latitude</th>\n",
              "      <td>-0.924664</td>\n",
              "      <td>1.000000</td>\n",
              "      <td>0.011173</td>\n",
              "      <td>-0.036100</td>\n",
              "      <td>-0.066658</td>\n",
              "      <td>-0.108785</td>\n",
              "      <td>-0.071035</td>\n",
              "      <td>-0.079809</td>\n",
              "      <td>0.066080</td>\n",
              "      <td>-0.144160</td>\n",
              "    </tr>\n",
              "    <tr>\n",
              "      <th>housing_median_age</th>\n",
              "      <td>-0.108197</td>\n",
              "      <td>0.011173</td>\n",
              "      <td>1.000000</td>\n",
              "      <td>-0.361262</td>\n",
              "      <td>-0.318998</td>\n",
              "      <td>-0.296244</td>\n",
              "      <td>-0.302916</td>\n",
              "      <td>-0.119034</td>\n",
              "      <td>0.206445</td>\n",
              "      <td>0.105623</td>\n",
              "    </tr>\n",
              "    <tr>\n",
              "      <th>total_rooms</th>\n",
              "      <td>0.044568</td>\n",
              "      <td>-0.036100</td>\n",
              "      <td>-0.361262</td>\n",
              "      <td>1.000000</td>\n",
              "      <td>0.927253</td>\n",
              "      <td>0.857126</td>\n",
              "      <td>0.918484</td>\n",
              "      <td>0.198050</td>\n",
              "      <td>-0.015509</td>\n",
              "      <td>0.134153</td>\n",
              "    </tr>\n",
              "    <tr>\n",
              "      <th>total_bedrooms</th>\n",
              "      <td>0.069260</td>\n",
              "      <td>-0.066658</td>\n",
              "      <td>-0.318998</td>\n",
              "      <td>0.927253</td>\n",
              "      <td>1.000000</td>\n",
              "      <td>0.873910</td>\n",
              "      <td>0.974725</td>\n",
              "      <td>-0.007682</td>\n",
              "      <td>-0.004458</td>\n",
              "      <td>0.049454</td>\n",
              "    </tr>\n",
              "    <tr>\n",
              "      <th>population</th>\n",
              "      <td>0.099773</td>\n",
              "      <td>-0.108785</td>\n",
              "      <td>-0.296244</td>\n",
              "      <td>0.857126</td>\n",
              "      <td>0.873910</td>\n",
              "      <td>1.000000</td>\n",
              "      <td>0.907222</td>\n",
              "      <td>0.004834</td>\n",
              "      <td>0.007563</td>\n",
              "      <td>-0.024650</td>\n",
              "    </tr>\n",
              "    <tr>\n",
              "      <th>households</th>\n",
              "      <td>0.055310</td>\n",
              "      <td>-0.071035</td>\n",
              "      <td>-0.302916</td>\n",
              "      <td>0.918484</td>\n",
              "      <td>0.974725</td>\n",
              "      <td>0.907222</td>\n",
              "      <td>1.000000</td>\n",
              "      <td>0.013033</td>\n",
              "      <td>0.016085</td>\n",
              "      <td>0.065843</td>\n",
              "    </tr>\n",
              "    <tr>\n",
              "      <th>median_income</th>\n",
              "      <td>-0.015176</td>\n",
              "      <td>-0.079809</td>\n",
              "      <td>-0.119034</td>\n",
              "      <td>0.198050</td>\n",
              "      <td>-0.007682</td>\n",
              "      <td>0.004834</td>\n",
              "      <td>0.013033</td>\n",
              "      <td>1.000000</td>\n",
              "      <td>0.128302</td>\n",
              "      <td>0.688075</td>\n",
              "    </tr>\n",
              "    <tr>\n",
              "      <th>ocean_proximity</th>\n",
              "      <td>-0.179531</td>\n",
              "      <td>0.066080</td>\n",
              "      <td>0.206445</td>\n",
              "      <td>-0.015509</td>\n",
              "      <td>-0.004458</td>\n",
              "      <td>0.007563</td>\n",
              "      <td>0.016085</td>\n",
              "      <td>0.128302</td>\n",
              "      <td>1.000000</td>\n",
              "      <td>0.212746</td>\n",
              "    </tr>\n",
              "    <tr>\n",
              "      <th>median_house_value</th>\n",
              "      <td>-0.045967</td>\n",
              "      <td>-0.144160</td>\n",
              "      <td>0.105623</td>\n",
              "      <td>0.134153</td>\n",
              "      <td>0.049454</td>\n",
              "      <td>-0.024650</td>\n",
              "      <td>0.065843</td>\n",
              "      <td>0.688075</td>\n",
              "      <td>0.212746</td>\n",
              "      <td>1.000000</td>\n",
              "    </tr>\n",
              "  </tbody>\n",
              "</table>\n",
              "</div>\n",
              "      <button class=\"colab-df-convert\" onclick=\"convertToInteractive('df-ff7b73f2-51a4-478b-9071-53e11c704840')\"\n",
              "              title=\"Convert this dataframe to an interactive table.\"\n",
              "              style=\"display:none;\">\n",
              "        \n",
              "  <svg xmlns=\"http://www.w3.org/2000/svg\" height=\"24px\"viewBox=\"0 0 24 24\"\n",
              "       width=\"24px\">\n",
              "    <path d=\"M0 0h24v24H0V0z\" fill=\"none\"/>\n",
              "    <path d=\"M18.56 5.44l.94 2.06.94-2.06 2.06-.94-2.06-.94-.94-2.06-.94 2.06-2.06.94zm-11 1L8.5 8.5l.94-2.06 2.06-.94-2.06-.94L8.5 2.5l-.94 2.06-2.06.94zm10 10l.94 2.06.94-2.06 2.06-.94-2.06-.94-.94-2.06-.94 2.06-2.06.94z\"/><path d=\"M17.41 7.96l-1.37-1.37c-.4-.4-.92-.59-1.43-.59-.52 0-1.04.2-1.43.59L10.3 9.45l-7.72 7.72c-.78.78-.78 2.05 0 2.83L4 21.41c.39.39.9.59 1.41.59.51 0 1.02-.2 1.41-.59l7.78-7.78 2.81-2.81c.8-.78.8-2.07 0-2.86zM5.41 20L4 18.59l7.72-7.72 1.47 1.35L5.41 20z\"/>\n",
              "  </svg>\n",
              "      </button>\n",
              "      \n",
              "  <style>\n",
              "    .colab-df-container {\n",
              "      display:flex;\n",
              "      flex-wrap:wrap;\n",
              "      gap: 12px;\n",
              "    }\n",
              "\n",
              "    .colab-df-convert {\n",
              "      background-color: #E8F0FE;\n",
              "      border: none;\n",
              "      border-radius: 50%;\n",
              "      cursor: pointer;\n",
              "      display: none;\n",
              "      fill: #1967D2;\n",
              "      height: 32px;\n",
              "      padding: 0 0 0 0;\n",
              "      width: 32px;\n",
              "    }\n",
              "\n",
              "    .colab-df-convert:hover {\n",
              "      background-color: #E2EBFA;\n",
              "      box-shadow: 0px 1px 2px rgba(60, 64, 67, 0.3), 0px 1px 3px 1px rgba(60, 64, 67, 0.15);\n",
              "      fill: #174EA6;\n",
              "    }\n",
              "\n",
              "    [theme=dark] .colab-df-convert {\n",
              "      background-color: #3B4455;\n",
              "      fill: #D2E3FC;\n",
              "    }\n",
              "\n",
              "    [theme=dark] .colab-df-convert:hover {\n",
              "      background-color: #434B5C;\n",
              "      box-shadow: 0px 1px 3px 1px rgba(0, 0, 0, 0.15);\n",
              "      filter: drop-shadow(0px 1px 2px rgba(0, 0, 0, 0.3));\n",
              "      fill: #FFFFFF;\n",
              "    }\n",
              "  </style>\n",
              "\n",
              "      <script>\n",
              "        const buttonEl =\n",
              "          document.querySelector('#df-ff7b73f2-51a4-478b-9071-53e11c704840 button.colab-df-convert');\n",
              "        buttonEl.style.display =\n",
              "          google.colab.kernel.accessAllowed ? 'block' : 'none';\n",
              "\n",
              "        async function convertToInteractive(key) {\n",
              "          const element = document.querySelector('#df-ff7b73f2-51a4-478b-9071-53e11c704840');\n",
              "          const dataTable =\n",
              "            await google.colab.kernel.invokeFunction('convertToInteractive',\n",
              "                                                     [key], {});\n",
              "          if (!dataTable) return;\n",
              "\n",
              "          const docLinkHtml = 'Like what you see? Visit the ' +\n",
              "            '<a target=\"_blank\" href=https://colab.research.google.com/notebooks/data_table.ipynb>data table notebook</a>'\n",
              "            + ' to learn more about interactive tables.';\n",
              "          element.innerHTML = '';\n",
              "          dataTable['output_type'] = 'display_data';\n",
              "          await google.colab.output.renderOutput(dataTable, element);\n",
              "          const docLink = document.createElement('div');\n",
              "          docLink.innerHTML = docLinkHtml;\n",
              "          element.appendChild(docLink);\n",
              "        }\n",
              "      </script>\n",
              "    </div>\n",
              "  </div>\n",
              "  "
            ],
            "text/plain": [
              "                    longitude  latitude  housing_median_age  total_rooms  \\\n",
              "longitude            1.000000 -0.924664           -0.108197     0.044568   \n",
              "latitude            -0.924664  1.000000            0.011173    -0.036100   \n",
              "housing_median_age  -0.108197  0.011173            1.000000    -0.361262   \n",
              "total_rooms          0.044568 -0.036100           -0.361262     1.000000   \n",
              "total_bedrooms       0.069260 -0.066658           -0.318998     0.927253   \n",
              "population           0.099773 -0.108785           -0.296244     0.857126   \n",
              "households           0.055310 -0.071035           -0.302916     0.918484   \n",
              "median_income       -0.015176 -0.079809           -0.119034     0.198050   \n",
              "ocean_proximity     -0.179531  0.066080            0.206445    -0.015509   \n",
              "median_house_value  -0.045967 -0.144160            0.105623     0.134153   \n",
              "\n",
              "                    total_bedrooms  population  households  median_income  \\\n",
              "longitude                 0.069260    0.099773    0.055310      -0.015176   \n",
              "latitude                 -0.066658   -0.108785   -0.071035      -0.079809   \n",
              "housing_median_age       -0.318998   -0.296244   -0.302916      -0.119034   \n",
              "total_rooms               0.927253    0.857126    0.918484       0.198050   \n",
              "total_bedrooms            1.000000    0.873910    0.974725      -0.007682   \n",
              "population                0.873910    1.000000    0.907222       0.004834   \n",
              "households                0.974725    0.907222    1.000000       0.013033   \n",
              "median_income            -0.007682    0.004834    0.013033       1.000000   \n",
              "ocean_proximity          -0.004458    0.007563    0.016085       0.128302   \n",
              "median_house_value        0.049454   -0.024650    0.065843       0.688075   \n",
              "\n",
              "                    ocean_proximity  median_house_value  \n",
              "longitude                 -0.179531           -0.045967  \n",
              "latitude                   0.066080           -0.144160  \n",
              "housing_median_age         0.206445            0.105623  \n",
              "total_rooms               -0.015509            0.134153  \n",
              "total_bedrooms            -0.004458            0.049454  \n",
              "population                 0.007563           -0.024650  \n",
              "households                 0.016085            0.065843  \n",
              "median_income              0.128302            0.688075  \n",
              "ocean_proximity            1.000000            0.212746  \n",
              "median_house_value         0.212746            1.000000  "
            ]
          },
          "execution_count": 21,
          "metadata": {},
          "output_type": "execute_result"
        }
      ],
      "source": [
        "# Calculating correlation\n",
        "corr_matrix=df.corr()\n",
        "corr_matrix"
      ]
    },
    {
      "cell_type": "code",
      "execution_count": 22,
      "metadata": {
        "colab": {
          "base_uri": "https://localhost:8080/",
          "height": 386
        },
        "id": "hse3k3XpExOr",
        "outputId": "42cdd909-8810-4f28-84d6-2fc146093ce5"
      },
      "outputs": [
        {
          "data": {
            "text/plain": [
              "<Figure size 720x432 with 0 Axes>"
            ]
          },
          "metadata": {},
          "output_type": "display_data"
        },
        {
          "data": {
            "image/png": "[encoded data removed]",
            "text/plain": [
              "<Figure size 360x360 with 1 Axes>"
            ]
          },
          "metadata": {
            "needs_background": "light"
          },
          "output_type": "display_data"
        }
      ],
      "source": [
        "plt.figure(figsize=(10,6))\n",
        "sns.displot(df['median_house_value'],color='magenta')\n",
        "plt.show()"
      ]
    },
    {
      "cell_type": "markdown",
      "metadata": {
        "id": "zOp248HtExOr"
      },
      "source": [
        "As we see from above data, house values > 500000 are outliers, so we remove them"
      ]
    },
    {
      "cell_type": "code",
      "execution_count": 23,
      "metadata": {
        "colab": {
          "base_uri": "https://localhost:8080/"
        },
        "id": "Cx-B3iNRExOr",
        "outputId": "365f4067-0b0e-4b4d-9263-8757fbb9ca37"
      },
      "outputs": [
        {
          "data": {
            "text/plain": [
              "500001    965\n",
              "500000     27\n",
              "475000      8\n",
              "483300      6\n",
              "466700      4\n",
              "Name: median_house_value, dtype: int64"
            ]
          },
          "execution_count": 23,
          "metadata": {},
          "output_type": "execute_result"
        }
      ],
      "source": [
        "df[df['median_house_value']>450000]['median_house_value'].value_counts().head()"
      ]
    },
    {
      "cell_type": "code",
      "execution_count": 24,
      "metadata": {
        "id": "4fPPcQk1ExOs"
      },
      "outputs": [],
      "source": [
        "df=df.loc[df['median_house_value']<500001,:]"
      ]
    },
    {
      "cell_type": "code",
      "execution_count": 25,
      "metadata": {
        "id": "0d-PSHQvExOs"
      },
      "outputs": [],
      "source": [
        "df=df[df['population']<25000]"
      ]
    },
    {
      "cell_type": "code",
      "execution_count": 26,
      "metadata": {
        "colab": {
          "base_uri": "https://localhost:8080/",
          "height": 386
        },
        "id": "gSbHjmnsExOs",
        "outputId": "90309209-16dd-4fc9-cb25-4dff385f6802"
      },
      "outputs": [
        {
          "data": {
            "text/plain": [
              "<Figure size 1008x576 with 0 Axes>"
            ]
          },
          "metadata": {},
          "output_type": "display_data"
        },
        {
          "data": {
            "image/png": "[encoded data removed]",
            "text/plain": [
              "<Figure size 360x360 with 1 Axes>"
            ]
          },
          "metadata": {
            "needs_background": "light"
          },
          "output_type": "display_data"
        }
      ],
      "source": [
        "plt.figure(figsize=(14,8))\n",
        "sns.displot(df['median_house_value'],color='magenta')\n",
        "plt.show()"
      ]
    },
    {
      "cell_type": "markdown",
      "metadata": {
        "id": "3VCWVzqyExOs"
      },
      "source": [
        "<b>The outliers of median house value >500000 are removed"
      ]
    },
    {
      "cell_type": "code",
      "execution_count": 27,
      "metadata": {
        "colab": {
          "base_uri": "https://localhost:8080/",
          "height": 540
        },
        "id": "dgqxxZ4qExOs",
        "outputId": "d2759f9d-3c27-48af-8094-8fa52d31592e"
      },
      "outputs": [
        {
          "data": {
            "image/png": "[encoded data removed]",
            "text/plain": [
              "<Figure size 792x504 with 1 Axes>"
            ]
          },
          "metadata": {
            "needs_background": "light"
          },
          "output_type": "display_data"
        }
      ],
      "source": [
        "plt.figure(figsize=(11,7))\n",
        "sns.heatmap(cbar=False,annot=True,data=df.corr()*100,cmap='coolwarm')\n",
        "plt.title('% Corelation Matrix')\n",
        "plt.show()"
      ]
    },
    {
      "cell_type": "code",
      "execution_count": 28,
      "metadata": {
        "colab": {
          "base_uri": "https://localhost:8080/",
          "height": 406
        },
        "id": "wUa6QPXpExOt",
        "outputId": "c8bfe528-6cf9-4209-a9a3-b616513ee447"
      },
      "outputs": [
        {
          "data": {
            "text/plain": [
              "<matplotlib.axes._subplots.AxesSubplot at 0x7fb5c195c690>"
            ]
          },
          "execution_count": 28,
          "metadata": {},
          "output_type": "execute_result"
        },
        {
          "data": {
            "image/png": "[encoded data removed]",
            "text/plain": [
              "<Figure size 720x432 with 1 Axes>"
            ]
          },
          "metadata": {
            "needs_background": "light"
          },
          "output_type": "display_data"
        }
      ],
      "source": [
        "plt.figure(figsize=(10,6))\n",
        "sns.stripplot(data=df,x='ocean_proximity',y='median_house_value',jitter=0.3)"
      ]
    },
    {
      "cell_type": "code",
      "execution_count": 29,
      "metadata": {
        "colab": {
          "base_uri": "https://localhost:8080/",
          "height": 406
        },
        "id": "Cxb8vKjkExOt",
        "outputId": "8eb4c73c-4147-4070-d52e-5dc5395a8b3e"
      },
      "outputs": [
        {
          "data": {
            "text/plain": [
              "[]"
            ]
          },
          "execution_count": 29,
          "metadata": {},
          "output_type": "execute_result"
        },
        {
          "data": {
            "image/png": "[encoded data removed]",
            "text/plain": [
              "<Figure size 720x432 with 1 Axes>"
            ]
          },
          "metadata": {
            "needs_background": "light"
          },
          "output_type": "display_data"
        }
      ],
      "source": [
        "plt.figure(figsize=(10,6))\n",
        "sns.boxplot(data=df,x='ocean_proximity',y='median_house_value',palette='viridis')\n",
        "plt.plot()"
      ]
    },
    {
      "cell_type": "markdown",
      "metadata": {
        "id": "3VFTmi27ExOt"
      },
      "source": [
        "### Modelling and Evaluation"
      ]
    },
    {
      "cell_type": "code",
      "execution_count": 30,
      "metadata": {
        "id": "mFjksRXiExOu"
      },
      "outputs": [],
      "source": [
        "X = df.drop('median_house_value',axis=1)\n",
        "y = df['median_house_value']"
      ]
    },
    {
      "cell_type": "code",
      "execution_count": 31,
      "metadata": {
        "colab": {
          "base_uri": "https://localhost:8080/",
          "height": 427
        },
        "id": "vC6GSXzpExOu",
        "outputId": "d33bf504-b90c-4460-ada1-c075ba7b2e4f"
      },
      "outputs": [
        {
          "data": {
            "text/html": [
              "\n",
              "  <div id=\"df-0b2c775e-1e47-4bd4-8ccb-6090317b2197\">\n",
              "    <div class=\"colab-df-container\">\n",
              "      <div>\n",
              "<style scoped>\n",
              "    .dataframe tbody tr th:only-of-type {\n",
              "        vertical-align: middle;\n",
              "    }\n",
              "\n",
              "    .dataframe tbody tr th {\n",
              "        vertical-align: top;\n",
              "    }\n",
              "\n",
              "    .dataframe thead th {\n",
              "        text-align: right;\n",
              "    }\n",
              "</style>\n",
              "<table border=\"1\" class=\"dataframe\">\n",
              "  <thead>\n",
              "    <tr style=\"text-align: right;\">\n",
              "      <th></th>\n",
              "      <th>longitude</th>\n",
              "      <th>latitude</th>\n",
              "      <th>housing_median_age</th>\n",
              "      <th>total_rooms</th>\n",
              "      <th>total_bedrooms</th>\n",
              "      <th>population</th>\n",
              "      <th>households</th>\n",
              "      <th>median_income</th>\n",
              "      <th>ocean_proximity</th>\n",
              "    </tr>\n",
              "  </thead>\n",
              "  <tbody>\n",
              "    <tr>\n",
              "      <th>16830</th>\n",
              "      <td>-122.54</td>\n",
              "      <td>37.62</td>\n",
              "      <td>35</td>\n",
              "      <td>1481</td>\n",
              "      <td>277.0</td>\n",
              "      <td>747</td>\n",
              "      <td>254</td>\n",
              "      <td>4.4286</td>\n",
              "      <td>0</td>\n",
              "    </tr>\n",
              "    <tr>\n",
              "      <th>13455</th>\n",
              "      <td>-117.39</td>\n",
              "      <td>34.11</td>\n",
              "      <td>5</td>\n",
              "      <td>2987</td>\n",
              "      <td>457.0</td>\n",
              "      <td>1821</td>\n",
              "      <td>485</td>\n",
              "      <td>4.8889</td>\n",
              "      <td>1</td>\n",
              "    </tr>\n",
              "    <tr>\n",
              "      <th>3925</th>\n",
              "      <td>-118.56</td>\n",
              "      <td>34.18</td>\n",
              "      <td>36</td>\n",
              "      <td>1366</td>\n",
              "      <td>224.0</td>\n",
              "      <td>719</td>\n",
              "      <td>270</td>\n",
              "      <td>4.8264</td>\n",
              "      <td>2</td>\n",
              "    </tr>\n",
              "    <tr>\n",
              "      <th>5077</th>\n",
              "      <td>-118.29</td>\n",
              "      <td>33.98</td>\n",
              "      <td>44</td>\n",
              "      <td>2261</td>\n",
              "      <td>555.0</td>\n",
              "      <td>1348</td>\n",
              "      <td>455</td>\n",
              "      <td>1.9125</td>\n",
              "      <td>2</td>\n",
              "    </tr>\n",
              "    <tr>\n",
              "      <th>13694</th>\n",
              "      <td>-117.23</td>\n",
              "      <td>34.13</td>\n",
              "      <td>10</td>\n",
              "      <td>1145</td>\n",
              "      <td>293.0</td>\n",
              "      <td>726</td>\n",
              "      <td>251</td>\n",
              "      <td>1.6450</td>\n",
              "      <td>1</td>\n",
              "    </tr>\n",
              "    <tr>\n",
              "      <th>18227</th>\n",
              "      <td>-122.09</td>\n",
              "      <td>37.41</td>\n",
              "      <td>14</td>\n",
              "      <td>753</td>\n",
              "      <td>193.0</td>\n",
              "      <td>421</td>\n",
              "      <td>153</td>\n",
              "      <td>4.2463</td>\n",
              "      <td>3</td>\n",
              "    </tr>\n",
              "    <tr>\n",
              "      <th>49</th>\n",
              "      <td>-122.27</td>\n",
              "      <td>37.82</td>\n",
              "      <td>40</td>\n",
              "      <td>946</td>\n",
              "      <td>375.0</td>\n",
              "      <td>700</td>\n",
              "      <td>352</td>\n",
              "      <td>1.7750</td>\n",
              "      <td>3</td>\n",
              "    </tr>\n",
              "    <tr>\n",
              "      <th>7504</th>\n",
              "      <td>-118.27</td>\n",
              "      <td>33.92</td>\n",
              "      <td>35</td>\n",
              "      <td>1818</td>\n",
              "      <td>374.0</td>\n",
              "      <td>1444</td>\n",
              "      <td>372</td>\n",
              "      <td>2.7450</td>\n",
              "      <td>2</td>\n",
              "    </tr>\n",
              "    <tr>\n",
              "      <th>16063</th>\n",
              "      <td>-122.48</td>\n",
              "      <td>37.75</td>\n",
              "      <td>52</td>\n",
              "      <td>2515</td>\n",
              "      <td>494.0</td>\n",
              "      <td>1583</td>\n",
              "      <td>477</td>\n",
              "      <td>4.3393</td>\n",
              "      <td>3</td>\n",
              "    </tr>\n",
              "    <tr>\n",
              "      <th>18487</th>\n",
              "      <td>-121.58</td>\n",
              "      <td>37.01</td>\n",
              "      <td>15</td>\n",
              "      <td>2873</td>\n",
              "      <td>547.0</td>\n",
              "      <td>1582</td>\n",
              "      <td>567</td>\n",
              "      <td>5.1519</td>\n",
              "      <td>1</td>\n",
              "    </tr>\n",
              "  </tbody>\n",
              "</table>\n",
              "</div>\n",
              "      <button class=\"colab-df-convert\" onclick=\"convertToInteractive('df-0b2c775e-1e47-4bd4-8ccb-6090317b2197')\"\n",
              "              title=\"Convert this dataframe to an interactive table.\"\n",
              "              style=\"display:none;\">\n",
              "        \n",
              "  <svg xmlns=\"http://www.w3.org/2000/svg\" height=\"24px\"viewBox=\"0 0 24 24\"\n",
              "       width=\"24px\">\n",
              "    <path d=\"M0 0h24v24H0V0z\" fill=\"none\"/>\n",
              "    <path d=\"M18.56 5.44l.94 2.06.94-2.06 2.06-.94-2.06-.94-.94-2.06-.94 2.06-2.06.94zm-11 1L8.5 8.5l.94-2.06 2.06-.94-2.06-.94L8.5 2.5l-.94 2.06-2.06.94zm10 10l.94 2.06.94-2.06 2.06-.94-2.06-.94-.94-2.06-.94 2.06-2.06.94z\"/><path d=\"M17.41 7.96l-1.37-1.37c-.4-.4-.92-.59-1.43-.59-.52 0-1.04.2-1.43.59L10.3 9.45l-7.72 7.72c-.78.78-.78 2.05 0 2.83L4 21.41c.39.39.9.59 1.41.59.51 0 1.02-.2 1.41-.59l7.78-7.78 2.81-2.81c.8-.78.8-2.07 0-2.86zM5.41 20L4 18.59l7.72-7.72 1.47 1.35L5.41 20z\"/>\n",
              "  </svg>\n",
              "      </button>\n",
              "      \n",
              "  <style>\n",
              "    .colab-df-container {\n",
              "      display:flex;\n",
              "      flex-wrap:wrap;\n",
              "      gap: 12px;\n",
              "    }\n",
              "\n",
              "    .colab-df-convert {\n",
              "      background-color: #E8F0FE;\n",
              "      border: none;\n",
              "      border-radius: 50%;\n",
              "      cursor: pointer;\n",
              "      display: none;\n",
              "      fill: #1967D2;\n",
              "      height: 32px;\n",
              "      padding: 0 0 0 0;\n",
              "      width: 32px;\n",
              "    }\n",
              "\n",
              "    .colab-df-convert:hover {\n",
              "      background-color: #E2EBFA;\n",
              "      box-shadow: 0px 1px 2px rgba(60, 64, 67, 0.3), 0px 1px 3px 1px rgba(60, 64, 67, 0.15);\n",
              "      fill: #174EA6;\n",
              "    }\n",
              "\n",
              "    [theme=dark] .colab-df-convert {\n",
              "      background-color: #3B4455;\n",
              "      fill: #D2E3FC;\n",
              "    }\n",
              "\n",
              "    [theme=dark] .colab-df-convert:hover {\n",
              "      background-color: #434B5C;\n",
              "      box-shadow: 0px 1px 3px 1px rgba(0, 0, 0, 0.15);\n",
              "      filter: drop-shadow(0px 1px 2px rgba(0, 0, 0, 0.3));\n",
              "      fill: #FFFFFF;\n",
              "    }\n",
              "  </style>\n",
              "\n",
              "      <script>\n",
              "        const buttonEl =\n",
              "          document.querySelector('#df-0b2c775e-1e47-4bd4-8ccb-6090317b2197 button.colab-df-convert');\n",
              "        buttonEl.style.display =\n",
              "          google.colab.kernel.accessAllowed ? 'block' : 'none';\n",
              "\n",
              "        async function convertToInteractive(key) {\n",
              "          const element = document.querySelector('#df-0b2c775e-1e47-4bd4-8ccb-6090317b2197');\n",
              "          const dataTable =\n",
              "            await google.colab.kernel.invokeFunction('convertToInteractive',\n",
              "                                                     [key], {});\n",
              "          if (!dataTable) return;\n",
              "\n",
              "          const docLinkHtml = 'Like what you see? Visit the ' +\n",
              "            '<a target=\"_blank\" href=https://colab.research.google.com/notebooks/data_table.ipynb>data table notebook</a>'\n",
              "            + ' to learn more about interactive tables.';\n",
              "          element.innerHTML = '';\n",
              "          dataTable['output_type'] = 'display_data';\n",
              "          await google.colab.output.renderOutput(dataTable, element);\n",
              "          const docLink = document.createElement('div');\n",
              "          docLink.innerHTML = docLinkHtml;\n",
              "          element.appendChild(docLink);\n",
              "        }\n",
              "      </script>\n",
              "    </div>\n",
              "  </div>\n",
              "  "
            ],
            "text/plain": [
              "       longitude  latitude  housing_median_age  total_rooms  total_bedrooms  \\\n",
              "16830    -122.54     37.62                  35         1481           277.0   \n",
              "13455    -117.39     34.11                   5         2987           457.0   \n",
              "3925     -118.56     34.18                  36         1366           224.0   \n",
              "5077     -118.29     33.98                  44         2261           555.0   \n",
              "13694    -117.23     34.13                  10         1145           293.0   \n",
              "18227    -122.09     37.41                  14          753           193.0   \n",
              "49       -122.27     37.82                  40          946           375.0   \n",
              "7504     -118.27     33.92                  35         1818           374.0   \n",
              "16063    -122.48     37.75                  52         2515           494.0   \n",
              "18487    -121.58     37.01                  15         2873           547.0   \n",
              "\n",
              "       population  households  median_income  ocean_proximity  \n",
              "16830         747         254         4.4286                0  \n",
              "13455        1821         485         4.8889                1  \n",
              "3925          719         270         4.8264                2  \n",
              "5077         1348         455         1.9125                2  \n",
              "13694         726         251         1.6450                1  \n",
              "18227         421         153         4.2463                3  \n",
              "49            700         352         1.7750                3  \n",
              "7504         1444         372         2.7450                2  \n",
              "16063        1583         477         4.3393                3  \n",
              "18487        1582         567         5.1519                1  "
            ]
          },
          "execution_count": 31,
          "metadata": {},
          "output_type": "execute_result"
        }
      ],
      "source": [
        "X.head(10)"
      ]
    },
    {
      "cell_type": "code",
      "execution_count": 32,
      "metadata": {
        "colab": {
          "base_uri": "https://localhost:8080/"
        },
        "id": "TYjLBOh6ExOu",
        "outputId": "97e0fade-22e4-47d6-cad0-6eb7987a6a75"
      },
      "outputs": [
        {
          "data": {
            "text/plain": [
              "(19673, 9)"
            ]
          },
          "execution_count": 32,
          "metadata": {},
          "output_type": "execute_result"
        }
      ],
      "source": [
        "X.shape"
      ]
    },
    {
      "cell_type": "code",
      "execution_count": 33,
      "metadata": {
        "colab": {
          "base_uri": "https://localhost:8080/"
        },
        "id": "yJ_fsUfVExOu",
        "outputId": "abdf0914-49a8-4d1a-9807-d07d4cc57726"
      },
      "outputs": [
        {
          "data": {
            "text/plain": [
              "16830    262100\n",
              "13455    138900\n",
              "3925     251000\n",
              "5077      97200\n",
              "13694     68700\n",
              "18227    266700\n",
              "49       112500\n",
              "7504     106800\n",
              "16063    317600\n",
              "18487    264700\n",
              "Name: median_house_value, dtype: int64"
            ]
          },
          "execution_count": 33,
          "metadata": {},
          "output_type": "execute_result"
        }
      ],
      "source": [
        "y.head(10)"
      ]
    },
    {
      "cell_type": "code",
      "execution_count": 34,
      "metadata": {
        "colab": {
          "base_uri": "https://localhost:8080/"
        },
        "id": "VJC38nPJExOv",
        "outputId": "36f1d80c-6419-4404-f9f7-d6289c72f9ca"
      },
      "outputs": [
        {
          "data": {
            "text/plain": [
              "(19673,)"
            ]
          },
          "execution_count": 34,
          "metadata": {},
          "output_type": "execute_result"
        }
      ],
      "source": [
        "y.shape"
      ]
    },
    {
      "cell_type": "code",
      "execution_count": 35,
      "metadata": {
        "id": "BliMF6sHExOv"
      },
      "outputs": [],
      "source": [
        "from sklearn.model_selection import train_test_split\n",
        "X_train, X_test, y_train, y_test = train_test_split(X, y, train_size=0.6)"
      ]
    },
    {
      "cell_type": "code",
      "execution_count": 36,
      "metadata": {
        "colab": {
          "base_uri": "https://localhost:8080/"
        },
        "id": "hSuqu-C6ExOv",
        "outputId": "972c79d5-326d-4ac7-c61a-ca302935a1d2"
      },
      "outputs": [
        {
          "name": "stdout",
          "output_type": "stream",
          "text": [
            "X_train shape is  (11803, 9)\n",
            "X_test shape is  (7870, 9)\n",
            "y_train shape is  (11803,)\n",
            "y_test shape is  (7870,)\n"
          ]
        }
      ],
      "source": [
        "print(\"X_train shape is \",X_train.shape)\n",
        "print(\"X_test shape is \",X_test.shape)\n",
        "print(\"y_train shape is \",y_train.shape)\n",
        "print(\"y_test shape is \",y_test.shape)"
      ]
    },
    {
      "cell_type": "markdown",
      "metadata": {
        "id": "fcqcpuBnExOv"
      },
      "source": [
        "### 1. Random Forest Regressor"
      ]
    },
    {
      "cell_type": "code",
      "execution_count": 37,
      "metadata": {
        "id": "5ADy6uPpExOw"
      },
      "outputs": [],
      "source": [
        "#Using this class to make my print statement look bold\n",
        "class color:\n",
        "    BOLD = '\\033[1m'"
      ]
    },
    {
      "cell_type": "code",
      "execution_count": 38,
      "metadata": {
        "colab": {
          "base_uri": "https://localhost:8080/"
        },
        "id": "Twn2fc2pExOw",
        "outputId": "a4423d8e-c762-43d1-e110-793973b52130"
      },
      "outputs": [
        {
          "name": "stdout",
          "output_type": "stream",
          "text": [
            "\u001b[1m\n",
            "R2 score is  0.7719696074905423\n",
            "\u001b[1m\n",
            "Adjusted R2 score is  0.7393938371320483\n",
            "\u001b[1m\n",
            "Mean Absolute Error is 31506.07\n",
            "\u001b[1m\n",
            "Mean Squared Error is 2194682756.69\n",
            "\u001b[1m\n",
            "Root Mean Squared Error is 46847.44\n",
            "\u001b[1m\n",
            "Accuracy of Random Forest Regressor is  77.2 %\n"
          ]
        }
      ],
      "source": [
        "from sklearn.ensemble import RandomForestRegressor\n",
        "from sklearn import metrics\n",
        "from sklearn.metrics import r2_score\n",
        "from sklearn.metrics import accuracy_score\n",
        "from sklearn.metrics import mean_squared_error\n",
        "import numpy as np\n",
        "\n",
        "rf = RandomForestRegressor(random_state=0)\n",
        "rf.fit(X_train, y_train)\n",
        "\n",
        "y_pred = rf.predict(X_test)\n",
        "\n",
        "accuracies = {}\n",
        "\n",
        "accuracy = rf.score(X_test, y_test)\n",
        "accuracy_rounded = round(accuracy*100,2)\n",
        "accuracies['Random Forest'] = accuracy_rounded\n",
        "\n",
        "r2 = metrics.r2_score(y_test, y_pred)\n",
        "Adj_r2 = 1-(1-r2)*(9-1)/(9-1-1)\n",
        "\n",
        "print(color.BOLD + '\\nR2 score is ',r2)\n",
        "\n",
        "print(color.BOLD + '\\nAdjusted R2 score is ',Adj_r2)\n",
        "\n",
        "print(color.BOLD + '\\nMean Absolute Error is',round(metrics.mean_absolute_error(y_test,rf.predict(X_test)),2))\n",
        "\n",
        "print(color.BOLD + '\\nMean Squared Error is',round(metrics.mean_squared_error(y_test,rf.predict(X_test)),2))\n",
        "\n",
        "print(color.BOLD + '\\nRoot Mean Squared Error is',round(np.sqrt(mean_squared_error(y_test,rf.predict(X_test))),2))\n",
        "\n",
        "print(color.BOLD + \"\\nAccuracy of Random Forest Regressor is \", accuracy_rounded,'%')"
      ]
    },
    {
      "cell_type": "markdown",
      "metadata": {
        "id": "xsKntNzWExOw"
      },
      "source": [
        "### 2. Decision Tree Regressor"
      ]
    },
    {
      "cell_type": "code",
      "execution_count": 39,
      "metadata": {
        "colab": {
          "base_uri": "https://localhost:8080/"
        },
        "id": "N6aIrD7LExOx",
        "outputId": "7d0dc00d-918c-499b-8a8e-e372107e874b"
      },
      "outputs": [
        {
          "name": "stdout",
          "output_type": "stream",
          "text": [
            "\u001b[1m\n",
            "R2 score is  0.5599979849410713\n",
            "\u001b[1m\n",
            "Adjusted R2 score is  0.4971405542183672\n",
            "\u001b[1m\n",
            "Mean Absolute Error is 43503.0\n",
            "\u001b[1m\n",
            "Mean Squared Error is 4234807583.02\n",
            "\u001b[1m\n",
            "Root Mean Squared Error is 65075.4\n",
            "\u001b[1m\n",
            "Accuracy of Decision Tree Regressor is  56.0 %\n"
          ]
        }
      ],
      "source": [
        "from sklearn.tree import DecisionTreeRegressor\n",
        "\n",
        "dt = DecisionTreeRegressor(random_state=42)\n",
        "dt.fit(X_train,y_train)\n",
        "\n",
        "y_pred = dt.predict(X_test)\n",
        "\n",
        "accuracy = dt.score(X_test, y_test)\n",
        "accuracy_rounded = round(accuracy*100,2)\n",
        "accuracies['Decision Tree'] = accuracy_rounded\n",
        "\n",
        "r2 = metrics.r2_score(y_test, y_pred)\n",
        "Adj_r2 = 1-(1-r2)*(9-1)/(9-1-1)\n",
        "\n",
        "print(color.BOLD + '\\nR2 score is ',r2)\n",
        "\n",
        "print(color.BOLD + '\\nAdjusted R2 score is ',Adj_r2)\n",
        "\n",
        "print(color.BOLD + '\\nMean Absolute Error is',round(metrics.mean_absolute_error(y_test,dt.predict(X_test)),2))\n",
        "\n",
        "print(color.BOLD + '\\nMean Squared Error is',round(metrics.mean_squared_error(y_test,dt.predict(X_test)),2))\n",
        "\n",
        "print(color.BOLD + '\\nRoot Mean Squared Error is',round(np.sqrt(metrics.mean_squared_error(y_test,dt.predict(X_test))),2))\n",
        "\n",
        "print(color.BOLD + \"\\nAccuracy of Decision Tree Regressor is \", accuracy_rounded,'%')"
      ]
    },
    {
      "cell_type": "markdown",
      "metadata": {
        "id": "crwxCa3eExOy"
      },
      "source": [
        "### 4. XGBoost Regressor"
      ]
    },
    {
      "cell_type": "code",
      "execution_count": 40,
      "metadata": {
        "colab": {
          "base_uri": "https://localhost:8080/"
        },
        "id": "7-7TsCiaExOy",
        "outputId": "f4ea1902-987a-4578-cdef-9a034e41320b"
      },
      "outputs": [
        {
          "name": "stdout",
          "output_type": "stream",
          "text": [
            "[06:10:35] WARNING: /workspace/src/objective/regression_obj.cu:152: reg:linear is now deprecated in favor of reg:squarederror.\n",
            "\u001b[1m\n",
            "R2 score is  0.7280181471991933\n",
            "\u001b[1m\n",
            "Adjusted R2 score is  0.6891635967990781\n",
            "\u001b[1m\n",
            "Mean Absolute Error is 36177.01\n",
            "\u001b[1m\n",
            "Mean Squared Error is 2617694404.27\n",
            "\u001b[1m\n",
            "Root Mean Squared Error is 51163.41\n",
            "\u001b[1m\n",
            "Accuracy of XGBoost Regressor is  72.8 %\n"
          ]
        }
      ],
      "source": [
        "from xgboost import XGBRegressor\n",
        "from sklearn.metrics import accuracy_score\n",
        "\n",
        "xg = XGBRegressor()\n",
        "xg.fit(X_train,y_train)\n",
        "\n",
        "y_pred = xg.predict(X_test)\n",
        "\n",
        "accuracy = xg.score(X_test, y_test)\n",
        "accuracy_rounded = round(accuracy*100,2)\n",
        "accuracies['XGBoost'] = accuracy_rounded\n",
        "\n",
        "r2 = metrics.r2_score(y_test, y_pred)\n",
        "Adj_r2 = 1-(1-r2)*(9-1)/(9-1-1)\n",
        "\n",
        "print(color.BOLD + '\\nR2 score is ',r2)\n",
        "\n",
        "print(color.BOLD + '\\nAdjusted R2 score is ',Adj_r2)\n",
        "\n",
        "print(color.BOLD + '\\nMean Absolute Error is',round(metrics.mean_absolute_error(y_test,xg.predict(X_test)),2))\n",
        "\n",
        "print(color.BOLD + '\\nMean Squared Error is',round(metrics.mean_squared_error(y_test,xg.predict(X_test)),2))\n",
        "\n",
        "print(color.BOLD + '\\nRoot Mean Squared Error is',round(np.sqrt(mean_squared_error(y_test,xg.predict(X_test))),2))\n",
        "\n",
        "print(color.BOLD + \"\\nAccuracy of XGBoost Regressor is \", accuracy_rounded,'%')"
      ]
    },
    {
      "cell_type": "markdown",
      "metadata": {
        "id": "VM2qHHYBExOz"
      },
      "source": [
        "### 5. Gradient Boost Regressor"
      ]
    },
    {
      "cell_type": "code",
      "execution_count": 41,
      "metadata": {
        "colab": {
          "base_uri": "https://localhost:8080/"
        },
        "id": "4HtUdLgFExOz",
        "outputId": "0dc12862-50b9-4966-8f7c-800c9e26335b"
      },
      "outputs": [
        {
          "name": "stdout",
          "output_type": "stream",
          "text": [
            "\u001b[1m\n",
            "R2 score is  0.7269824340782831\n",
            "\u001b[1m\n",
            "Adjusted R2 score is  0.687979924660895\n",
            "\u001b[1m\n",
            "Mean Absolute Error is 36237.69\n",
            "\u001b[1m\n",
            "Mean Squared Error is 2627662644.48\n",
            "\u001b[1m\n",
            "Root Mean Squared Error is 51260.73\n",
            "\u001b[1m\n",
            "Accuracy of Gradient Boost Regressor is  72.7 %\n"
          ]
        }
      ],
      "source": [
        "from sklearn.ensemble import GradientBoostingRegressor\n",
        "\n",
        "gboost = GradientBoostingRegressor(random_state=42)\n",
        "\n",
        "gboost.fit(X_train,y_train)\n",
        "\n",
        "y_pred = gboost.predict(X_test)\n",
        "\n",
        "accuracy = gboost.score(X_test, y_test)\n",
        "accuracy_rounded = round(accuracy*100,2)\n",
        "accuracies['Gradient Boost'] = accuracy_rounded\n",
        "\n",
        "r2 = metrics.r2_score(y_test, y_pred)\n",
        "Adj_r2 = 1-(1-r2)*(9-1)/(9-1-1)\n",
        "\n",
        "print(color.BOLD + '\\nR2 score is ',r2)\n",
        "\n",
        "print(color.BOLD + '\\nAdjusted R2 score is ',Adj_r2)\n",
        "\n",
        "print(color.BOLD + '\\nMean Absolute Error is',round(metrics.mean_absolute_error(y_test,gboost.predict(X_test)),2))\n",
        "\n",
        "print(color.BOLD + '\\nMean Squared Error is',round(metrics.mean_squared_error(y_test,gboost.predict(X_test)),2))\n",
        "\n",
        "print(color.BOLD + '\\nRoot Mean Squared Error is',round(np.sqrt(mean_squared_error(y_test,gboost.predict(X_test))),2))\n",
        "\n",
        "print(color.BOLD + \"\\nAccuracy of Gradient Boost Regressor is \", accuracy_rounded,'%')"
      ]
    },
    {
      "cell_type": "code",
      "execution_count": 42,
      "metadata": {
        "colab": {
          "base_uri": "https://localhost:8080/"
        },
        "id": "YMHNvzb2ExO0",
        "outputId": "5f10352e-baa8-473d-fd34-f98f29fc56e0"
      },
      "outputs": [
        {
          "name": "stdout",
          "output_type": "stream",
          "text": [
            "\u001b[1m\n",
            "R2 score is  0.6055338150739438\n",
            "\u001b[1m\n",
            "Adjusted R2 score is  0.54918150294165\n",
            "\u001b[1m\n",
            "Mean Absolute Error is 45657.58\n",
            "\u001b[1m\n",
            "Mean Squared Error is 3796547138.42\n",
            "\u001b[1m\n",
            "Root Mean Squared Error is 61616.13\n",
            "\u001b[1m\n",
            "Accuracy of Ridge Regression is  60.55 %\n"
          ]
        }
      ],
      "source": [
        "from sklearn.linear_model import Ridge\n",
        "\n",
        "rid = Ridge(alpha=0.1)\n",
        "\n",
        "rid.fit(X_train,y_train)\n",
        "\n",
        "y_pred = rid.predict(X_test)\n",
        "\n",
        "accuracy = rid.score(X_test, y_test)\n",
        "accuracy_rounded = round(accuracy*100,2)\n",
        "accuracies['Ridge Regression'] = accuracy_rounded\n",
        "\n",
        "r2 = metrics.r2_score(y_test, y_pred)\n",
        "Adj_r2 = 1-(1-r2)*(9-1)/(9-1-1)\n",
        "\n",
        "print(color.BOLD + '\\nR2 score is ',r2)\n",
        "\n",
        "print(color.BOLD + '\\nAdjusted R2 score is ',Adj_r2)\n",
        "\n",
        "print(color.BOLD + '\\nMean Absolute Error is',round(metrics.mean_absolute_error(y_test,rid.predict(X_test)),2))\n",
        "\n",
        "print(color.BOLD + '\\nMean Squared Error is',round(metrics.mean_squared_error(y_test,rid.predict(X_test)),2))\n",
        "\n",
        "print(color.BOLD + '\\nRoot Mean Squared Error is',round(np.sqrt(mean_squared_error(y_test,rid.predict(X_test))),2))\n",
        "\n",
        "print(color.BOLD + \"\\nAccuracy of Ridge Regression is \", accuracy_rounded,'%')"
      ]
    },
    {
      "cell_type": "code",
      "execution_count": 43,
      "metadata": {
        "colab": {
          "base_uri": "https://localhost:8080/"
        },
        "id": "VHZR3S32ExO1",
        "outputId": "f7132f85-51aa-4d0b-9cc4-571cb9d63fa2"
      },
      "outputs": [
        {
          "name": "stdout",
          "output_type": "stream",
          "text": [
            "\u001b[1m\n",
            "R2 score is  0.6055337054490619\n",
            "\u001b[1m\n",
            "Adjusted R2 score is  0.5491813776560708\n",
            "\u001b[1m\n",
            "Mean Absolute Error is 45657.59\n",
            "\u001b[1m\n",
            "Mean Squared Error is 3796548193.51\n",
            "\u001b[1m\n",
            "Root Mean Squared Error is 61616.14\n",
            "\u001b[1m\n",
            "Accuracy of Lasso Regression is  60.55 %\n"
          ]
        }
      ],
      "source": [
        "from sklearn import linear_model\n",
        "\n",
        "lasso = linear_model.Lasso(alpha=0.3)\n",
        "\n",
        "lasso.fit(X_train,y_train)\n",
        "\n",
        "y_pred = lasso.predict(X_test)\n",
        "\n",
        "accuracy = lasso.score(X_test, y_test)\n",
        "accuracy_rounded = round(accuracy*100,2)\n",
        "accuracies['Lasso Regression'] = accuracy_rounded\n",
        "\n",
        "r2 = metrics.r2_score(y_test, y_pred)\n",
        "Adj_r2 = 1-(1-r2)*(9-1)/(9-1-1)\n",
        "\n",
        "print(color.BOLD + '\\nR2 score is ',r2)\n",
        "\n",
        "print(color.BOLD + '\\nAdjusted R2 score is ',Adj_r2)\n",
        "\n",
        "print(color.BOLD + '\\nMean Absolute Error is',round(metrics.mean_absolute_error(y_test,lasso.predict(X_test)),2))\n",
        "\n",
        "print(color.BOLD + '\\nMean Squared Error is',round(metrics.mean_squared_error(y_test,lasso.predict(X_test)),2))\n",
        "\n",
        "print(color.BOLD + '\\nRoot Mean Squared Error is',round(np.sqrt(mean_squared_error(y_test,lasso.predict(X_test))),2))\n",
        "\n",
        "print(color.BOLD + \"\\nAccuracy of Lasso Regression is \", accuracy_rounded,'%')"
      ]
    },
    {
      "cell_type": "markdown",
      "metadata": {
        "id": "-55vOHQ0ExO2"
      },
      "source": [
        "### 9. CatBoost"
      ]
    },
    {
      "cell_type": "code",
      "execution_count": 44,
      "metadata": {
        "colab": {
          "base_uri": "https://localhost:8080/"
        },
        "id": "lWRZ6r-KF3Hp",
        "outputId": "83e4035b-a1e3-4363-8df3-cbbe067ca1e0"
      },
      "outputs": [
        {
          "name": "stdout",
          "output_type": "stream",
          "text": [
            "Looking in indexes: https://pypi.org/simple, https://us-python.pkg.dev/colab-wheels/public/simple/\n",
            "Collecting catboost\n",
            "  Downloading catboost-1.0.6-cp37-none-manylinux1_x86_64.whl (76.6 MB)\n",
            "\u001b[K     |████████████████████████████████| 76.6 MB 75 kB/s \n",
            "\u001b[?25hRequirement already satisfied: scipy in /usr/local/lib/python3.7/dist-packages (from catboost) (1.7.3)\n",
            "Requirement already satisfied: numpy>=1.16.0 in /usr/local/lib/python3.7/dist-packages (from catboost) (1.21.6)\n",
            "Requirement already satisfied: graphviz in /usr/local/lib/python3.7/dist-packages (from catboost) (0.10.1)\n",
            "Requirement already satisfied: pandas>=0.24.0 in /usr/local/lib/python3.7/dist-packages (from catboost) (1.3.5)\n",
            "Requirement already satisfied: six in /usr/local/lib/python3.7/dist-packages (from catboost) (1.15.0)\n",
            "Requirement already satisfied: matplotlib in /usr/local/lib/python3.7/dist-packages (from catboost) (3.2.2)\n",
            "Requirement already satisfied: plotly in /usr/local/lib/python3.7/dist-packages (from catboost) (5.5.0)\n",
            "Requirement already satisfied: pytz>=2017.3 in /usr/local/lib/python3.7/dist-packages (from pandas>=0.24.0->catboost) (2022.2.1)\n",
            "Requirement already satisfied: python-dateutil>=2.7.3 in /usr/local/lib/python3.7/dist-packages (from pandas>=0.24.0->catboost) (2.8.2)\n",
            "Requirement already satisfied: kiwisolver>=1.0.1 in /usr/local/lib/python3.7/dist-packages (from matplotlib->catboost) (1.4.4)\n",
            "Requirement already satisfied: cycler>=0.10 in /usr/local/lib/python3.7/dist-packages (from matplotlib->catboost) (0.11.0)\n",
            "Requirement already satisfied: pyparsing!=2.0.4,!=2.1.2,!=2.1.6,>=2.0.1 in /usr/local/lib/python3.7/dist-packages (from matplotlib->catboost) (3.0.9)\n",
            "Requirement already satisfied: typing-extensions in /usr/local/lib/python3.7/dist-packages (from kiwisolver>=1.0.1->matplotlib->catboost) (4.1.1)\n",
            "Requirement already satisfied: tenacity>=6.2.0 in /usr/local/lib/python3.7/dist-packages (from plotly->catboost) (8.0.1)\n",
            "Installing collected packages: catboost\n",
            "Successfully installed catboost-1.0.6\n"
          ]
        }
      ],
      "source": [
        "!pip install catboost"
      ]
    },
    {
      "cell_type": "code",
      "execution_count": 45,
      "metadata": {
        "colab": {
          "base_uri": "https://localhost:8080/"
        },
        "id": "BLAKNVDmExO3",
        "outputId": "f1cb1588-c4c4-4cb5-bb0b-06d8c9fbacd0",
        "scrolled": true
      },
      "outputs": [
        {
          "name": "stdout",
          "output_type": "stream",
          "text": [
            "Learning rate set to 0.060472\n",
            "0:\tlearn: 94473.1388666\ttotal: 52.1ms\tremaining: 52.1s\n",
            "1:\tlearn: 91651.3523844\ttotal: 56.4ms\tremaining: 28.1s\n",
            "2:\tlearn: 88901.0835577\ttotal: 60.3ms\tremaining: 20.1s\n",
            "3:\tlearn: 86640.0316417\ttotal: 64.2ms\tremaining: 16s\n",
            "4:\tlearn: 84387.6545189\ttotal: 68.2ms\tremaining: 13.6s\n",
            "5:\tlearn: 82279.1062996\ttotal: 72.2ms\tremaining: 12s\n",
            "6:\tlearn: 80536.6765474\ttotal: 76ms\tremaining: 10.8s\n",
            "7:\tlearn: 78733.5999916\ttotal: 80.1ms\tremaining: 9.93s\n",
            "8:\tlearn: 77165.5504030\ttotal: 83.9ms\tremaining: 9.24s\n",
            "9:\tlearn: 75728.1031843\ttotal: 88.1ms\tremaining: 8.72s\n",
            "10:\tlearn: 74428.7109040\ttotal: 93.4ms\tremaining: 8.4s\n",
            "11:\tlearn: 73326.8266258\ttotal: 101ms\tremaining: 8.36s\n",
            "12:\tlearn: 72214.5989164\ttotal: 105ms\tremaining: 8.01s\n",
            "13:\tlearn: 71122.7257596\ttotal: 110ms\tremaining: 7.73s\n",
            "14:\tlearn: 70130.9958352\ttotal: 114ms\tremaining: 7.49s\n",
            "15:\tlearn: 69148.4532842\ttotal: 118ms\tremaining: 7.26s\n",
            "16:\tlearn: 68300.2414444\ttotal: 122ms\tremaining: 7.06s\n",
            "17:\tlearn: 67505.2168492\ttotal: 126ms\tremaining: 6.87s\n",
            "18:\tlearn: 66817.9071390\ttotal: 130ms\tremaining: 6.7s\n",
            "19:\tlearn: 66094.7959776\ttotal: 134ms\tremaining: 6.56s\n",
            "20:\tlearn: 65509.5517529\ttotal: 138ms\tremaining: 6.43s\n",
            "21:\tlearn: 64945.2503924\ttotal: 142ms\tremaining: 6.32s\n",
            "22:\tlearn: 64455.5313989\ttotal: 146ms\tremaining: 6.21s\n",
            "23:\tlearn: 63985.7196217\ttotal: 150ms\tremaining: 6.11s\n",
            "24:\tlearn: 63572.4944588\ttotal: 154ms\tremaining: 6s\n",
            "25:\tlearn: 63166.4881034\ttotal: 158ms\tremaining: 5.93s\n",
            "26:\tlearn: 62692.6323575\ttotal: 162ms\tremaining: 5.85s\n",
            "27:\tlearn: 62304.0686618\ttotal: 166ms\tremaining: 5.78s\n",
            "28:\tlearn: 61939.5810602\ttotal: 170ms\tremaining: 5.7s\n",
            "29:\tlearn: 61571.7731791\ttotal: 174ms\tremaining: 5.63s\n",
            "30:\tlearn: 61287.8030470\ttotal: 178ms\tremaining: 5.57s\n",
            "31:\tlearn: 60999.2376811\ttotal: 182ms\tremaining: 5.51s\n",
            "32:\tlearn: 60759.0758576\ttotal: 186ms\tremaining: 5.46s\n",
            "33:\tlearn: 60433.0324191\ttotal: 191ms\tremaining: 5.43s\n",
            "34:\tlearn: 60187.6960510\ttotal: 199ms\tremaining: 5.48s\n",
            "35:\tlearn: 59812.1641391\ttotal: 203ms\tremaining: 5.44s\n",
            "36:\tlearn: 59578.5619312\ttotal: 207ms\tremaining: 5.39s\n",
            "37:\tlearn: 59299.0113553\ttotal: 211ms\tremaining: 5.35s\n",
            "38:\tlearn: 59024.9685874\ttotal: 215ms\tremaining: 5.31s\n",
            "39:\tlearn: 58829.6099892\ttotal: 219ms\tremaining: 5.26s\n",
            "40:\tlearn: 58627.7541143\ttotal: 223ms\tremaining: 5.22s\n",
            "41:\tlearn: 58429.1921311\ttotal: 227ms\tremaining: 5.17s\n",
            "42:\tlearn: 58244.0493131\ttotal: 231ms\tremaining: 5.13s\n",
            "43:\tlearn: 58069.1114130\ttotal: 235ms\tremaining: 5.1s\n",
            "44:\tlearn: 57857.6940668\ttotal: 239ms\tremaining: 5.06s\n",
            "45:\tlearn: 57520.9541946\ttotal: 243ms\tremaining: 5.03s\n",
            "46:\tlearn: 57261.7032478\ttotal: 246ms\tremaining: 5s\n",
            "47:\tlearn: 56983.6138981\ttotal: 250ms\tremaining: 4.96s\n",
            "48:\tlearn: 56703.5008249\ttotal: 254ms\tremaining: 4.94s\n",
            "49:\tlearn: 56513.1931398\ttotal: 259ms\tremaining: 4.91s\n",
            "50:\tlearn: 56294.4724836\ttotal: 263ms\tremaining: 4.89s\n",
            "51:\tlearn: 56157.2111486\ttotal: 266ms\tremaining: 4.86s\n",
            "52:\tlearn: 55906.8658246\ttotal: 271ms\tremaining: 4.83s\n",
            "53:\tlearn: 55755.2262834\ttotal: 275ms\tremaining: 4.81s\n",
            "54:\tlearn: 55582.4104621\ttotal: 279ms\tremaining: 4.79s\n",
            "55:\tlearn: 55443.4713102\ttotal: 283ms\tremaining: 4.77s\n",
            "56:\tlearn: 55235.5881153\ttotal: 287ms\tremaining: 4.74s\n",
            "57:\tlearn: 55052.8918923\ttotal: 291ms\tremaining: 4.72s\n",
            "58:\tlearn: 54919.9668223\ttotal: 295ms\tremaining: 4.7s\n",
            "59:\tlearn: 54823.9402735\ttotal: 299ms\tremaining: 4.68s\n",
            "60:\tlearn: 54693.0990734\ttotal: 302ms\tremaining: 4.66s\n",
            "61:\tlearn: 54530.8412295\ttotal: 306ms\tremaining: 4.63s\n",
            "62:\tlearn: 54411.8700647\ttotal: 310ms\tremaining: 4.62s\n",
            "63:\tlearn: 54279.6560399\ttotal: 314ms\tremaining: 4.59s\n",
            "64:\tlearn: 54175.9684197\ttotal: 318ms\tremaining: 4.58s\n",
            "65:\tlearn: 54006.4615791\ttotal: 322ms\tremaining: 4.56s\n",
            "66:\tlearn: 53903.2809164\ttotal: 326ms\tremaining: 4.54s\n",
            "67:\tlearn: 53770.6271734\ttotal: 330ms\tremaining: 4.52s\n",
            "68:\tlearn: 53625.7417258\ttotal: 334ms\tremaining: 4.51s\n",
            "69:\tlearn: 53429.6782408\ttotal: 338ms\tremaining: 4.49s\n",
            "70:\tlearn: 53346.1891525\ttotal: 342ms\tremaining: 4.47s\n",
            "71:\tlearn: 53209.7275561\ttotal: 346ms\tremaining: 4.46s\n",
            "72:\tlearn: 53121.3149542\ttotal: 350ms\tremaining: 4.44s\n",
            "73:\tlearn: 53007.2200938\ttotal: 353ms\tremaining: 4.42s\n",
            "74:\tlearn: 52910.5770688\ttotal: 358ms\tremaining: 4.41s\n",
            "75:\tlearn: 52813.2398090\ttotal: 362ms\tremaining: 4.4s\n",
            "76:\tlearn: 52739.4119526\ttotal: 365ms\tremaining: 4.38s\n",
            "77:\tlearn: 52632.4580477\ttotal: 370ms\tremaining: 4.37s\n",
            "78:\tlearn: 52537.1663682\ttotal: 374ms\tremaining: 4.36s\n",
            "79:\tlearn: 52458.4006736\ttotal: 378ms\tremaining: 4.34s\n",
            "80:\tlearn: 52387.5503556\ttotal: 383ms\tremaining: 4.34s\n",
            "81:\tlearn: 52281.1064036\ttotal: 391ms\tremaining: 4.37s\n",
            "82:\tlearn: 52202.6502210\ttotal: 395ms\tremaining: 4.36s\n",
            "83:\tlearn: 52134.8084979\ttotal: 399ms\tremaining: 4.35s\n",
            "84:\tlearn: 52081.3750288\ttotal: 403ms\tremaining: 4.34s\n",
            "85:\tlearn: 51977.7501547\ttotal: 408ms\tremaining: 4.33s\n",
            "86:\tlearn: 51922.6465435\ttotal: 412ms\tremaining: 4.32s\n",
            "87:\tlearn: 51880.7291344\ttotal: 416ms\tremaining: 4.31s\n",
            "88:\tlearn: 51767.4471523\ttotal: 420ms\tremaining: 4.3s\n",
            "89:\tlearn: 51628.9036067\ttotal: 424ms\tremaining: 4.29s\n",
            "90:\tlearn: 51547.3658603\ttotal: 428ms\tremaining: 4.28s\n",
            "91:\tlearn: 51442.7452361\ttotal: 432ms\tremaining: 4.27s\n",
            "92:\tlearn: 51376.6578498\ttotal: 436ms\tremaining: 4.25s\n",
            "93:\tlearn: 51277.3966537\ttotal: 440ms\tremaining: 4.24s\n",
            "94:\tlearn: 51177.9835927\ttotal: 444ms\tremaining: 4.23s\n",
            "95:\tlearn: 51108.6192933\ttotal: 448ms\tremaining: 4.22s\n",
            "96:\tlearn: 51051.0934909\ttotal: 452ms\tremaining: 4.21s\n",
            "97:\tlearn: 50974.1355612\ttotal: 456ms\tremaining: 4.2s\n",
            "98:\tlearn: 50938.9809533\ttotal: 460ms\tremaining: 4.19s\n",
            "99:\tlearn: 50870.3936464\ttotal: 464ms\tremaining: 4.17s\n",
            "100:\tlearn: 50803.2038364\ttotal: 468ms\tremaining: 4.16s\n",
            "101:\tlearn: 50752.2943963\ttotal: 472ms\tremaining: 4.15s\n",
            "102:\tlearn: 50645.4575439\ttotal: 476ms\tremaining: 4.14s\n",
            "103:\tlearn: 50574.8463423\ttotal: 480ms\tremaining: 4.13s\n",
            "104:\tlearn: 50475.8779418\ttotal: 484ms\tremaining: 4.12s\n",
            "105:\tlearn: 50419.8000077\ttotal: 488ms\tremaining: 4.11s\n",
            "106:\tlearn: 50240.4421925\ttotal: 492ms\tremaining: 4.1s\n",
            "107:\tlearn: 50185.6079941\ttotal: 496ms\tremaining: 4.09s\n",
            "108:\tlearn: 50150.3919173\ttotal: 501ms\tremaining: 4.1s\n",
            "109:\tlearn: 50105.1766758\ttotal: 506ms\tremaining: 4.09s\n",
            "110:\tlearn: 50049.8089098\ttotal: 510ms\tremaining: 4.08s\n",
            "111:\tlearn: 49987.4503044\ttotal: 514ms\tremaining: 4.08s\n",
            "112:\tlearn: 49925.2703820\ttotal: 518ms\tremaining: 4.07s\n",
            "113:\tlearn: 49801.2579863\ttotal: 522ms\tremaining: 4.06s\n",
            "114:\tlearn: 49680.1597701\ttotal: 526ms\tremaining: 4.05s\n",
            "115:\tlearn: 49593.8694337\ttotal: 531ms\tremaining: 4.04s\n",
            "116:\tlearn: 49562.4536792\ttotal: 535ms\tremaining: 4.04s\n",
            "117:\tlearn: 49480.2362689\ttotal: 539ms\tremaining: 4.03s\n",
            "118:\tlearn: 49423.5221548\ttotal: 543ms\tremaining: 4.02s\n",
            "119:\tlearn: 49338.6287591\ttotal: 547ms\tremaining: 4.01s\n",
            "120:\tlearn: 49306.5674321\ttotal: 551ms\tremaining: 4s\n",
            "121:\tlearn: 49240.0913134\ttotal: 555ms\tremaining: 4s\n",
            "122:\tlearn: 49081.2193712\ttotal: 559ms\tremaining: 3.99s\n",
            "123:\tlearn: 49009.2611175\ttotal: 563ms\tremaining: 3.98s\n",
            "124:\tlearn: 48960.7888220\ttotal: 567ms\tremaining: 3.97s\n",
            "125:\tlearn: 48918.2621139\ttotal: 571ms\tremaining: 3.96s\n",
            "126:\tlearn: 48866.8311847\ttotal: 575ms\tremaining: 3.95s\n",
            "127:\tlearn: 48763.5416349\ttotal: 584ms\tremaining: 3.98s\n",
            "128:\tlearn: 48713.3217095\ttotal: 589ms\tremaining: 3.98s\n",
            "129:\tlearn: 48672.2750291\ttotal: 593ms\tremaining: 3.97s\n",
            "130:\tlearn: 48586.6258602\ttotal: 597ms\tremaining: 3.96s\n",
            "131:\tlearn: 48488.2163776\ttotal: 601ms\tremaining: 3.96s\n",
            "132:\tlearn: 48397.2570746\ttotal: 605ms\tremaining: 3.95s\n",
            "133:\tlearn: 48322.0754239\ttotal: 609ms\tremaining: 3.94s\n",
            "134:\tlearn: 48240.2157806\ttotal: 614ms\tremaining: 3.93s\n",
            "135:\tlearn: 48191.6772703\ttotal: 617ms\tremaining: 3.92s\n",
            "136:\tlearn: 48153.2049891\ttotal: 621ms\tremaining: 3.91s\n",
            "137:\tlearn: 48078.7255362\ttotal: 625ms\tremaining: 3.91s\n",
            "138:\tlearn: 48042.3124108\ttotal: 629ms\tremaining: 3.9s\n",
            "139:\tlearn: 47979.7591086\ttotal: 634ms\tremaining: 3.89s\n",
            "140:\tlearn: 47915.3217300\ttotal: 638ms\tremaining: 3.88s\n",
            "141:\tlearn: 47880.0494351\ttotal: 642ms\tremaining: 3.88s\n",
            "142:\tlearn: 47830.5242791\ttotal: 646ms\tremaining: 3.87s\n",
            "143:\tlearn: 47795.7457514\ttotal: 650ms\tremaining: 3.86s\n",
            "144:\tlearn: 47757.6692531\ttotal: 653ms\tremaining: 3.85s\n",
            "145:\tlearn: 47722.7297141\ttotal: 657ms\tremaining: 3.85s\n",
            "146:\tlearn: 47681.5987680\ttotal: 662ms\tremaining: 3.84s\n",
            "147:\tlearn: 47592.2674231\ttotal: 666ms\tremaining: 3.83s\n",
            "148:\tlearn: 47532.7880769\ttotal: 670ms\tremaining: 3.82s\n",
            "149:\tlearn: 47454.8535815\ttotal: 674ms\tremaining: 3.82s\n",
            "150:\tlearn: 47414.1042169\ttotal: 678ms\tremaining: 3.81s\n",
            "151:\tlearn: 47358.4458428\ttotal: 682ms\tremaining: 3.8s\n",
            "152:\tlearn: 47326.7546258\ttotal: 686ms\tremaining: 3.8s\n",
            "153:\tlearn: 47296.9912932\ttotal: 692ms\tremaining: 3.8s\n",
            "154:\tlearn: 47223.8193570\ttotal: 698ms\tremaining: 3.81s\n",
            "155:\tlearn: 47157.6255870\ttotal: 702ms\tremaining: 3.8s\n",
            "156:\tlearn: 47106.0121789\ttotal: 706ms\tremaining: 3.79s\n",
            "157:\tlearn: 47060.6041609\ttotal: 710ms\tremaining: 3.78s\n",
            "158:\tlearn: 47012.7365989\ttotal: 714ms\tremaining: 3.78s\n",
            "159:\tlearn: 46953.8223686\ttotal: 718ms\tremaining: 3.77s\n",
            "160:\tlearn: 46904.3987865\ttotal: 722ms\tremaining: 3.76s\n",
            "161:\tlearn: 46825.9459993\ttotal: 730ms\tremaining: 3.78s\n",
            "162:\tlearn: 46761.5468835\ttotal: 740ms\tremaining: 3.8s\n",
            "163:\tlearn: 46712.5166968\ttotal: 751ms\tremaining: 3.83s\n",
            "164:\tlearn: 46665.1208300\ttotal: 767ms\tremaining: 3.88s\n",
            "165:\tlearn: 46575.2541874\ttotal: 775ms\tremaining: 3.9s\n",
            "166:\tlearn: 46538.4667083\ttotal: 782ms\tremaining: 3.9s\n",
            "167:\tlearn: 46478.0962349\ttotal: 787ms\tremaining: 3.9s\n",
            "168:\tlearn: 46430.9013713\ttotal: 791ms\tremaining: 3.89s\n",
            "169:\tlearn: 46301.4359005\ttotal: 795ms\tremaining: 3.88s\n",
            "170:\tlearn: 46212.9725506\ttotal: 799ms\tremaining: 3.88s\n",
            "171:\tlearn: 46154.8662879\ttotal: 803ms\tremaining: 3.87s\n",
            "172:\tlearn: 46090.4149616\ttotal: 808ms\tremaining: 3.86s\n",
            "173:\tlearn: 46059.0747826\ttotal: 812ms\tremaining: 3.85s\n",
            "174:\tlearn: 45949.2103725\ttotal: 816ms\tremaining: 3.85s\n",
            "175:\tlearn: 45914.1472781\ttotal: 820ms\tremaining: 3.84s\n",
            "176:\tlearn: 45858.2220808\ttotal: 824ms\tremaining: 3.83s\n",
            "177:\tlearn: 45772.6193639\ttotal: 828ms\tremaining: 3.82s\n",
            "178:\tlearn: 45731.8334390\ttotal: 832ms\tremaining: 3.81s\n",
            "179:\tlearn: 45687.5995494\ttotal: 836ms\tremaining: 3.81s\n",
            "180:\tlearn: 45647.3715725\ttotal: 840ms\tremaining: 3.8s\n",
            "181:\tlearn: 45592.3575390\ttotal: 844ms\tremaining: 3.79s\n",
            "182:\tlearn: 45566.3471770\ttotal: 848ms\tremaining: 3.79s\n",
            "183:\tlearn: 45506.1680028\ttotal: 852ms\tremaining: 3.78s\n",
            "184:\tlearn: 45460.1935215\ttotal: 881ms\tremaining: 3.88s\n",
            "185:\tlearn: 45419.7983742\ttotal: 888ms\tremaining: 3.88s\n",
            "186:\tlearn: 45340.5192632\ttotal: 895ms\tremaining: 3.89s\n",
            "187:\tlearn: 45313.6779291\ttotal: 900ms\tremaining: 3.89s\n",
            "188:\tlearn: 45277.4828982\ttotal: 911ms\tremaining: 3.91s\n",
            "189:\tlearn: 45240.9735317\ttotal: 933ms\tremaining: 3.98s\n",
            "190:\tlearn: 45193.5056633\ttotal: 955ms\tremaining: 4.04s\n",
            "191:\tlearn: 45159.3696706\ttotal: 982ms\tremaining: 4.13s\n",
            "192:\tlearn: 45093.7404398\ttotal: 998ms\tremaining: 4.17s\n",
            "193:\tlearn: 45045.9615257\ttotal: 1.01s\tremaining: 4.2s\n",
            "194:\tlearn: 45006.3224592\ttotal: 1.02s\tremaining: 4.22s\n",
            "195:\tlearn: 44970.2191675\ttotal: 1.04s\tremaining: 4.25s\n",
            "196:\tlearn: 44916.4394951\ttotal: 1.05s\tremaining: 4.28s\n",
            "197:\tlearn: 44833.7596560\ttotal: 1.06s\tremaining: 4.3s\n",
            "198:\tlearn: 44796.1437533\ttotal: 1.07s\tremaining: 4.31s\n",
            "199:\tlearn: 44775.4081061\ttotal: 1.08s\tremaining: 4.31s\n",
            "200:\tlearn: 44735.6170006\ttotal: 1.08s\tremaining: 4.3s\n",
            "201:\tlearn: 44685.5991880\ttotal: 1.09s\tremaining: 4.3s\n",
            "202:\tlearn: 44652.6619331\ttotal: 1.09s\tremaining: 4.29s\n",
            "203:\tlearn: 44614.7775891\ttotal: 1.1s\tremaining: 4.28s\n",
            "204:\tlearn: 44563.3052146\ttotal: 1.1s\tremaining: 4.28s\n",
            "205:\tlearn: 44528.9781837\ttotal: 1.11s\tremaining: 4.3s\n",
            "206:\tlearn: 44494.1954453\ttotal: 1.13s\tremaining: 4.32s\n",
            "207:\tlearn: 44456.9862288\ttotal: 1.13s\tremaining: 4.32s\n",
            "208:\tlearn: 44392.8971265\ttotal: 1.14s\tremaining: 4.31s\n",
            "209:\tlearn: 44326.7164052\ttotal: 1.14s\tremaining: 4.3s\n",
            "210:\tlearn: 44290.7890895\ttotal: 1.15s\tremaining: 4.3s\n",
            "211:\tlearn: 44252.2200448\ttotal: 1.15s\tremaining: 4.29s\n",
            "212:\tlearn: 44183.1805258\ttotal: 1.16s\tremaining: 4.29s\n",
            "213:\tlearn: 44140.2400137\ttotal: 1.16s\tremaining: 4.28s\n",
            "214:\tlearn: 44077.3645577\ttotal: 1.18s\tremaining: 4.29s\n",
            "215:\tlearn: 44019.2801343\ttotal: 1.19s\tremaining: 4.31s\n",
            "216:\tlearn: 43977.6408904\ttotal: 1.2s\tremaining: 4.33s\n",
            "217:\tlearn: 43942.7924121\ttotal: 1.21s\tremaining: 4.34s\n",
            "218:\tlearn: 43923.4499844\ttotal: 1.22s\tremaining: 4.35s\n",
            "219:\tlearn: 43879.2590826\ttotal: 1.23s\tremaining: 4.37s\n",
            "220:\tlearn: 43834.0935760\ttotal: 1.24s\tremaining: 4.36s\n",
            "221:\tlearn: 43799.1838467\ttotal: 1.24s\tremaining: 4.36s\n",
            "222:\tlearn: 43745.0795651\ttotal: 1.25s\tremaining: 4.36s\n",
            "223:\tlearn: 43710.9791830\ttotal: 1.27s\tremaining: 4.4s\n",
            "224:\tlearn: 43673.5093677\ttotal: 1.28s\tremaining: 4.42s\n",
            "225:\tlearn: 43654.5808044\ttotal: 1.29s\tremaining: 4.44s\n",
            "226:\tlearn: 43619.1603928\ttotal: 1.3s\tremaining: 4.43s\n",
            "227:\tlearn: 43575.2765156\ttotal: 1.3s\tremaining: 4.42s\n",
            "228:\tlearn: 43531.8518773\ttotal: 1.31s\tremaining: 4.41s\n",
            "229:\tlearn: 43482.1504617\ttotal: 1.31s\tremaining: 4.4s\n",
            "230:\tlearn: 43440.4982719\ttotal: 1.32s\tremaining: 4.38s\n",
            "231:\tlearn: 43409.4893445\ttotal: 1.32s\tremaining: 4.37s\n",
            "232:\tlearn: 43375.1952218\ttotal: 1.32s\tremaining: 4.36s\n",
            "233:\tlearn: 43356.7245520\ttotal: 1.33s\tremaining: 4.35s\n",
            "234:\tlearn: 43322.8461934\ttotal: 1.33s\tremaining: 4.34s\n",
            "235:\tlearn: 43288.8128033\ttotal: 1.34s\tremaining: 4.33s\n",
            "236:\tlearn: 43240.4569119\ttotal: 1.34s\tremaining: 4.32s\n",
            "237:\tlearn: 43202.2516717\ttotal: 1.34s\tremaining: 4.31s\n",
            "238:\tlearn: 43166.6926710\ttotal: 1.35s\tremaining: 4.29s\n",
            "239:\tlearn: 43124.5072359\ttotal: 1.35s\tremaining: 4.29s\n",
            "240:\tlearn: 43082.2664366\ttotal: 1.36s\tremaining: 4.28s\n",
            "241:\tlearn: 43054.6808873\ttotal: 1.36s\tremaining: 4.27s\n",
            "242:\tlearn: 43019.4034766\ttotal: 1.37s\tremaining: 4.26s\n",
            "243:\tlearn: 42974.4690768\ttotal: 1.37s\tremaining: 4.25s\n",
            "244:\tlearn: 42928.3271132\ttotal: 1.37s\tremaining: 4.24s\n",
            "245:\tlearn: 42891.3198918\ttotal: 1.38s\tremaining: 4.24s\n",
            "246:\tlearn: 42863.4367785\ttotal: 1.39s\tremaining: 4.24s\n",
            "247:\tlearn: 42848.4193681\ttotal: 1.39s\tremaining: 4.22s\n",
            "248:\tlearn: 42819.4478852\ttotal: 1.4s\tremaining: 4.21s\n",
            "249:\tlearn: 42796.9277320\ttotal: 1.4s\tremaining: 4.2s\n",
            "250:\tlearn: 42757.9880757\ttotal: 1.41s\tremaining: 4.19s\n",
            "251:\tlearn: 42724.8370827\ttotal: 1.41s\tremaining: 4.18s\n",
            "252:\tlearn: 42668.4984225\ttotal: 1.41s\tremaining: 4.17s\n",
            "253:\tlearn: 42646.2021122\ttotal: 1.42s\tremaining: 4.16s\n",
            "254:\tlearn: 42612.1037303\ttotal: 1.42s\tremaining: 4.15s\n",
            "255:\tlearn: 42584.2570014\ttotal: 1.43s\tremaining: 4.14s\n",
            "256:\tlearn: 42552.6251885\ttotal: 1.43s\tremaining: 4.13s\n",
            "257:\tlearn: 42522.6008459\ttotal: 1.43s\tremaining: 4.12s\n",
            "258:\tlearn: 42494.2186198\ttotal: 1.44s\tremaining: 4.12s\n",
            "259:\tlearn: 42459.9294742\ttotal: 1.44s\tremaining: 4.1s\n",
            "260:\tlearn: 42432.2581285\ttotal: 1.45s\tremaining: 4.09s\n",
            "261:\tlearn: 42397.1426057\ttotal: 1.45s\tremaining: 4.08s\n",
            "262:\tlearn: 42357.3380995\ttotal: 1.45s\tremaining: 4.08s\n",
            "263:\tlearn: 42327.7073000\ttotal: 1.46s\tremaining: 4.07s\n",
            "264:\tlearn: 42305.5957582\ttotal: 1.46s\tremaining: 4.06s\n",
            "265:\tlearn: 42273.8861383\ttotal: 1.47s\tremaining: 4.05s\n",
            "266:\tlearn: 42242.0963089\ttotal: 1.47s\tremaining: 4.04s\n",
            "267:\tlearn: 42206.4271626\ttotal: 1.47s\tremaining: 4.03s\n",
            "268:\tlearn: 42177.7873973\ttotal: 1.48s\tremaining: 4.02s\n",
            "269:\tlearn: 42160.5184399\ttotal: 1.48s\tremaining: 4.01s\n",
            "270:\tlearn: 42123.3155785\ttotal: 1.49s\tremaining: 4s\n",
            "271:\tlearn: 42092.6729333\ttotal: 1.49s\tremaining: 3.99s\n",
            "272:\tlearn: 42062.3799753\ttotal: 1.49s\tremaining: 3.98s\n",
            "273:\tlearn: 42033.3821103\ttotal: 1.5s\tremaining: 3.97s\n",
            "274:\tlearn: 41993.1860007\ttotal: 1.5s\tremaining: 3.96s\n",
            "275:\tlearn: 41962.1144477\ttotal: 1.51s\tremaining: 3.95s\n",
            "276:\tlearn: 41928.5148884\ttotal: 1.51s\tremaining: 3.94s\n",
            "277:\tlearn: 41898.2779282\ttotal: 1.51s\tremaining: 3.93s\n",
            "278:\tlearn: 41882.9872247\ttotal: 1.52s\tremaining: 3.92s\n",
            "279:\tlearn: 41855.4815254\ttotal: 1.52s\tremaining: 3.91s\n",
            "280:\tlearn: 41844.7216115\ttotal: 1.52s\tremaining: 3.9s\n",
            "281:\tlearn: 41813.2288819\ttotal: 1.53s\tremaining: 3.9s\n",
            "282:\tlearn: 41786.6872127\ttotal: 1.53s\tremaining: 3.88s\n",
            "283:\tlearn: 41770.2714778\ttotal: 1.54s\tremaining: 3.88s\n",
            "284:\tlearn: 41749.4561402\ttotal: 1.54s\tremaining: 3.87s\n",
            "285:\tlearn: 41726.1753563\ttotal: 1.54s\tremaining: 3.86s\n",
            "286:\tlearn: 41699.6550548\ttotal: 1.55s\tremaining: 3.85s\n",
            "287:\tlearn: 41676.2217526\ttotal: 1.55s\tremaining: 3.84s\n",
            "288:\tlearn: 41652.3995158\ttotal: 1.56s\tremaining: 3.83s\n",
            "289:\tlearn: 41617.4955190\ttotal: 1.57s\tremaining: 3.83s\n",
            "290:\tlearn: 41590.6971254\ttotal: 1.57s\tremaining: 3.83s\n",
            "291:\tlearn: 41546.7577681\ttotal: 1.58s\tremaining: 3.83s\n",
            "292:\tlearn: 41532.7788056\ttotal: 1.59s\tremaining: 3.83s\n",
            "293:\tlearn: 41499.0488993\ttotal: 1.59s\tremaining: 3.82s\n",
            "294:\tlearn: 41457.0298086\ttotal: 1.6s\tremaining: 3.81s\n",
            "295:\tlearn: 41423.9658379\ttotal: 1.6s\tremaining: 3.81s\n",
            "296:\tlearn: 41394.8195613\ttotal: 1.6s\tremaining: 3.8s\n",
            "297:\tlearn: 41380.1887071\ttotal: 1.61s\tremaining: 3.79s\n",
            "298:\tlearn: 41353.4674311\ttotal: 1.61s\tremaining: 3.78s\n",
            "299:\tlearn: 41330.6020687\ttotal: 1.62s\tremaining: 3.77s\n",
            "300:\tlearn: 41311.4807674\ttotal: 1.62s\tremaining: 3.76s\n",
            "301:\tlearn: 41299.4952253\ttotal: 1.62s\tremaining: 3.75s\n",
            "302:\tlearn: 41273.4225767\ttotal: 1.63s\tremaining: 3.75s\n",
            "303:\tlearn: 41249.1768904\ttotal: 1.63s\tremaining: 3.74s\n",
            "304:\tlearn: 41227.4643171\ttotal: 1.64s\tremaining: 3.73s\n",
            "305:\tlearn: 41207.3446550\ttotal: 1.64s\tremaining: 3.72s\n",
            "306:\tlearn: 41185.6146946\ttotal: 1.64s\tremaining: 3.71s\n",
            "307:\tlearn: 41153.7620517\ttotal: 1.65s\tremaining: 3.7s\n",
            "308:\tlearn: 41134.6994247\ttotal: 1.65s\tremaining: 3.69s\n",
            "309:\tlearn: 41109.9020054\ttotal: 1.66s\tremaining: 3.69s\n",
            "310:\tlearn: 41074.6706788\ttotal: 1.66s\tremaining: 3.68s\n",
            "311:\tlearn: 41058.5272523\ttotal: 1.66s\tremaining: 3.67s\n",
            "312:\tlearn: 41032.2154365\ttotal: 1.67s\tremaining: 3.66s\n",
            "313:\tlearn: 41003.1590765\ttotal: 1.67s\tremaining: 3.65s\n",
            "314:\tlearn: 40969.3111417\ttotal: 1.68s\tremaining: 3.65s\n",
            "315:\tlearn: 40943.1610062\ttotal: 1.68s\tremaining: 3.64s\n",
            "316:\tlearn: 40912.2175097\ttotal: 1.68s\tremaining: 3.63s\n",
            "317:\tlearn: 40890.7089530\ttotal: 1.69s\tremaining: 3.62s\n",
            "318:\tlearn: 40851.7824117\ttotal: 1.69s\tremaining: 3.61s\n",
            "319:\tlearn: 40826.1976120\ttotal: 1.7s\tremaining: 3.6s\n",
            "320:\tlearn: 40805.7681823\ttotal: 1.7s\tremaining: 3.6s\n",
            "321:\tlearn: 40782.3829335\ttotal: 1.7s\tremaining: 3.59s\n",
            "322:\tlearn: 40761.1823779\ttotal: 1.71s\tremaining: 3.58s\n",
            "323:\tlearn: 40733.6180068\ttotal: 1.71s\tremaining: 3.57s\n",
            "324:\tlearn: 40724.3054704\ttotal: 1.72s\tremaining: 3.56s\n",
            "325:\tlearn: 40697.0281685\ttotal: 1.72s\tremaining: 3.56s\n",
            "326:\tlearn: 40652.0945882\ttotal: 1.72s\tremaining: 3.55s\n",
            "327:\tlearn: 40635.7006091\ttotal: 1.73s\tremaining: 3.54s\n",
            "328:\tlearn: 40611.4505077\ttotal: 1.73s\tremaining: 3.53s\n",
            "329:\tlearn: 40592.9571281\ttotal: 1.74s\tremaining: 3.52s\n",
            "330:\tlearn: 40574.8219616\ttotal: 1.74s\tremaining: 3.52s\n",
            "331:\tlearn: 40548.1730908\ttotal: 1.74s\tremaining: 3.51s\n",
            "332:\tlearn: 40526.5459965\ttotal: 1.75s\tremaining: 3.5s\n",
            "333:\tlearn: 40508.8747370\ttotal: 1.75s\tremaining: 3.49s\n",
            "334:\tlearn: 40489.1946779\ttotal: 1.75s\tremaining: 3.48s\n",
            "335:\tlearn: 40453.9501010\ttotal: 1.76s\tremaining: 3.48s\n",
            "336:\tlearn: 40431.6887828\ttotal: 1.76s\tremaining: 3.47s\n",
            "337:\tlearn: 40413.8147273\ttotal: 1.77s\tremaining: 3.46s\n",
            "338:\tlearn: 40390.5874759\ttotal: 1.77s\tremaining: 3.46s\n",
            "339:\tlearn: 40368.1037425\ttotal: 1.78s\tremaining: 3.46s\n",
            "340:\tlearn: 40345.3103128\ttotal: 1.78s\tremaining: 3.45s\n",
            "341:\tlearn: 40328.8330654\ttotal: 1.79s\tremaining: 3.44s\n",
            "342:\tlearn: 40308.2506541\ttotal: 1.79s\tremaining: 3.43s\n",
            "343:\tlearn: 40293.2442274\ttotal: 1.8s\tremaining: 3.42s\n",
            "344:\tlearn: 40278.3662865\ttotal: 1.8s\tremaining: 3.42s\n",
            "345:\tlearn: 40259.7525333\ttotal: 1.8s\tremaining: 3.41s\n",
            "346:\tlearn: 40246.7948125\ttotal: 1.81s\tremaining: 3.4s\n",
            "347:\tlearn: 40230.8995230\ttotal: 1.81s\tremaining: 3.4s\n",
            "348:\tlearn: 40215.0413194\ttotal: 1.82s\tremaining: 3.39s\n",
            "349:\tlearn: 40187.6667285\ttotal: 1.83s\tremaining: 3.39s\n",
            "350:\tlearn: 40161.3604115\ttotal: 1.83s\tremaining: 3.39s\n",
            "351:\tlearn: 40139.3919199\ttotal: 1.84s\tremaining: 3.39s\n",
            "352:\tlearn: 40113.6534657\ttotal: 1.84s\tremaining: 3.38s\n",
            "353:\tlearn: 40085.4333355\ttotal: 1.85s\tremaining: 3.37s\n",
            "354:\tlearn: 40072.9810293\ttotal: 1.85s\tremaining: 3.36s\n",
            "355:\tlearn: 40040.5033191\ttotal: 1.85s\tremaining: 3.35s\n",
            "356:\tlearn: 40017.0159840\ttotal: 1.86s\tremaining: 3.35s\n",
            "357:\tlearn: 39998.5762310\ttotal: 1.86s\tremaining: 3.34s\n",
            "358:\tlearn: 39978.9447069\ttotal: 1.87s\tremaining: 3.33s\n",
            "359:\tlearn: 39957.1235201\ttotal: 1.87s\tremaining: 3.33s\n",
            "360:\tlearn: 39929.6534908\ttotal: 1.88s\tremaining: 3.32s\n",
            "361:\tlearn: 39919.6577684\ttotal: 1.88s\tremaining: 3.31s\n",
            "362:\tlearn: 39902.1250192\ttotal: 1.88s\tremaining: 3.31s\n",
            "363:\tlearn: 39875.1721523\ttotal: 1.89s\tremaining: 3.3s\n",
            "364:\tlearn: 39856.5885888\ttotal: 1.89s\tremaining: 3.29s\n",
            "365:\tlearn: 39824.0603038\ttotal: 1.9s\tremaining: 3.29s\n",
            "366:\tlearn: 39809.4457359\ttotal: 1.9s\tremaining: 3.28s\n",
            "367:\tlearn: 39786.4634728\ttotal: 1.9s\tremaining: 3.27s\n",
            "368:\tlearn: 39767.4274800\ttotal: 1.91s\tremaining: 3.26s\n",
            "369:\tlearn: 39742.1114060\ttotal: 1.91s\tremaining: 3.26s\n",
            "370:\tlearn: 39732.9148685\ttotal: 1.92s\tremaining: 3.25s\n",
            "371:\tlearn: 39721.7801557\ttotal: 1.93s\tremaining: 3.26s\n",
            "372:\tlearn: 39698.4254894\ttotal: 1.94s\tremaining: 3.25s\n",
            "373:\tlearn: 39675.2234597\ttotal: 1.94s\tremaining: 3.25s\n",
            "374:\tlearn: 39655.9688258\ttotal: 1.94s\tremaining: 3.24s\n",
            "375:\tlearn: 39641.1607773\ttotal: 1.95s\tremaining: 3.23s\n",
            "376:\tlearn: 39615.9609005\ttotal: 1.96s\tremaining: 3.23s\n",
            "377:\tlearn: 39602.1259300\ttotal: 1.96s\tremaining: 3.23s\n",
            "378:\tlearn: 39573.7045542\ttotal: 1.97s\tremaining: 3.23s\n",
            "379:\tlearn: 39557.8568493\ttotal: 1.98s\tremaining: 3.22s\n",
            "380:\tlearn: 39538.3522118\ttotal: 1.98s\tremaining: 3.22s\n",
            "381:\tlearn: 39512.0567914\ttotal: 1.98s\tremaining: 3.21s\n",
            "382:\tlearn: 39490.5959472\ttotal: 1.99s\tremaining: 3.2s\n",
            "383:\tlearn: 39475.3863546\ttotal: 1.99s\tremaining: 3.19s\n",
            "384:\tlearn: 39458.2843059\ttotal: 2s\tremaining: 3.19s\n",
            "385:\tlearn: 39436.7530714\ttotal: 2s\tremaining: 3.18s\n",
            "386:\tlearn: 39420.5302490\ttotal: 2s\tremaining: 3.17s\n",
            "387:\tlearn: 39400.2330636\ttotal: 2.01s\tremaining: 3.17s\n",
            "388:\tlearn: 39384.5581643\ttotal: 2.01s\tremaining: 3.16s\n",
            "389:\tlearn: 39374.5147619\ttotal: 2.02s\tremaining: 3.15s\n",
            "390:\tlearn: 39356.4453811\ttotal: 2.02s\tremaining: 3.15s\n",
            "391:\tlearn: 39335.7846804\ttotal: 2.02s\tremaining: 3.14s\n",
            "392:\tlearn: 39314.3338231\ttotal: 2.03s\tremaining: 3.13s\n",
            "393:\tlearn: 39290.5756240\ttotal: 2.03s\tremaining: 3.13s\n",
            "394:\tlearn: 39264.6185832\ttotal: 2.04s\tremaining: 3.12s\n",
            "395:\tlearn: 39242.7700440\ttotal: 2.04s\tremaining: 3.11s\n",
            "396:\tlearn: 39225.3874137\ttotal: 2.04s\tremaining: 3.1s\n",
            "397:\tlearn: 39215.6939158\ttotal: 2.05s\tremaining: 3.1s\n",
            "398:\tlearn: 39189.7069896\ttotal: 2.05s\tremaining: 3.09s\n",
            "399:\tlearn: 39172.0192401\ttotal: 2.06s\tremaining: 3.08s\n",
            "400:\tlearn: 39153.2232287\ttotal: 2.06s\tremaining: 3.08s\n",
            "401:\tlearn: 39135.3564567\ttotal: 2.06s\tremaining: 3.07s\n",
            "402:\tlearn: 39112.5529544\ttotal: 2.07s\tremaining: 3.06s\n",
            "403:\tlearn: 39091.3928727\ttotal: 2.07s\tremaining: 3.06s\n",
            "404:\tlearn: 39077.9422883\ttotal: 2.08s\tremaining: 3.05s\n",
            "405:\tlearn: 39055.8390221\ttotal: 2.08s\tremaining: 3.04s\n",
            "406:\tlearn: 39043.4822271\ttotal: 2.08s\tremaining: 3.04s\n",
            "407:\tlearn: 39028.4853913\ttotal: 2.09s\tremaining: 3.03s\n",
            "408:\tlearn: 39018.7554984\ttotal: 2.09s\tremaining: 3.02s\n",
            "409:\tlearn: 39010.6392530\ttotal: 2.1s\tremaining: 3.02s\n",
            "410:\tlearn: 38981.9973498\ttotal: 2.1s\tremaining: 3.01s\n",
            "411:\tlearn: 38973.6779144\ttotal: 2.1s\tremaining: 3s\n",
            "412:\tlearn: 38954.4462449\ttotal: 2.11s\tremaining: 2.99s\n",
            "413:\tlearn: 38939.1985449\ttotal: 2.11s\tremaining: 2.99s\n",
            "414:\tlearn: 38917.2312629\ttotal: 2.11s\tremaining: 2.98s\n",
            "415:\tlearn: 38902.5946725\ttotal: 2.12s\tremaining: 2.97s\n",
            "416:\tlearn: 38891.3408539\ttotal: 2.12s\tremaining: 2.97s\n",
            "417:\tlearn: 38876.5827430\ttotal: 2.13s\tremaining: 2.96s\n",
            "418:\tlearn: 38861.4323659\ttotal: 2.13s\tremaining: 2.95s\n",
            "419:\tlearn: 38852.5596013\ttotal: 2.13s\tremaining: 2.95s\n",
            "420:\tlearn: 38838.0562760\ttotal: 2.14s\tremaining: 2.94s\n",
            "421:\tlearn: 38826.5869918\ttotal: 2.14s\tremaining: 2.93s\n",
            "422:\tlearn: 38806.9688707\ttotal: 2.15s\tremaining: 2.93s\n",
            "423:\tlearn: 38797.4885305\ttotal: 2.15s\tremaining: 2.92s\n",
            "424:\tlearn: 38776.4930135\ttotal: 2.16s\tremaining: 2.92s\n",
            "425:\tlearn: 38754.4275060\ttotal: 2.16s\tremaining: 2.92s\n",
            "426:\tlearn: 38727.4360686\ttotal: 2.17s\tremaining: 2.91s\n",
            "427:\tlearn: 38708.8457409\ttotal: 2.17s\tremaining: 2.9s\n",
            "428:\tlearn: 38691.2124383\ttotal: 2.17s\tremaining: 2.9s\n",
            "429:\tlearn: 38670.1127918\ttotal: 2.18s\tremaining: 2.89s\n",
            "430:\tlearn: 38654.2241350\ttotal: 2.18s\tremaining: 2.88s\n",
            "431:\tlearn: 38632.1989776\ttotal: 2.19s\tremaining: 2.88s\n",
            "432:\tlearn: 38616.4028174\ttotal: 2.19s\tremaining: 2.87s\n",
            "433:\tlearn: 38581.2712367\ttotal: 2.2s\tremaining: 2.87s\n",
            "434:\tlearn: 38564.0067617\ttotal: 2.2s\tremaining: 2.86s\n",
            "435:\tlearn: 38551.4055756\ttotal: 2.21s\tremaining: 2.85s\n",
            "436:\tlearn: 38530.9431416\ttotal: 2.21s\tremaining: 2.85s\n",
            "437:\tlearn: 38506.3196056\ttotal: 2.21s\tremaining: 2.84s\n",
            "438:\tlearn: 38487.6530532\ttotal: 2.22s\tremaining: 2.84s\n",
            "439:\tlearn: 38461.0217273\ttotal: 2.22s\tremaining: 2.83s\n",
            "440:\tlearn: 38437.0526138\ttotal: 2.23s\tremaining: 2.82s\n",
            "441:\tlearn: 38407.5465147\ttotal: 2.23s\tremaining: 2.82s\n",
            "442:\tlearn: 38390.4938684\ttotal: 2.24s\tremaining: 2.81s\n",
            "443:\tlearn: 38374.1358358\ttotal: 2.24s\tremaining: 2.81s\n",
            "444:\tlearn: 38364.0792152\ttotal: 2.25s\tremaining: 2.8s\n",
            "445:\tlearn: 38329.7743788\ttotal: 2.25s\tremaining: 2.79s\n",
            "446:\tlearn: 38306.2839489\ttotal: 2.25s\tremaining: 2.79s\n",
            "447:\tlearn: 38284.6746947\ttotal: 2.26s\tremaining: 2.78s\n",
            "448:\tlearn: 38261.8306976\ttotal: 2.26s\tremaining: 2.78s\n",
            "449:\tlearn: 38240.3898437\ttotal: 2.27s\tremaining: 2.77s\n",
            "450:\tlearn: 38217.5611832\ttotal: 2.27s\tremaining: 2.76s\n",
            "451:\tlearn: 38204.7473919\ttotal: 2.27s\tremaining: 2.76s\n",
            "452:\tlearn: 38186.2647391\ttotal: 2.28s\tremaining: 2.75s\n",
            "453:\tlearn: 38161.8475446\ttotal: 2.28s\tremaining: 2.75s\n",
            "454:\tlearn: 38145.7785263\ttotal: 2.29s\tremaining: 2.74s\n",
            "455:\tlearn: 38133.2484207\ttotal: 2.29s\tremaining: 2.74s\n",
            "456:\tlearn: 38125.2964632\ttotal: 2.3s\tremaining: 2.73s\n",
            "457:\tlearn: 38105.7243459\ttotal: 2.3s\tremaining: 2.72s\n",
            "458:\tlearn: 38085.3810783\ttotal: 2.31s\tremaining: 2.72s\n",
            "459:\tlearn: 38068.7106070\ttotal: 2.31s\tremaining: 2.71s\n",
            "460:\tlearn: 38056.5243839\ttotal: 2.31s\tremaining: 2.71s\n",
            "461:\tlearn: 38039.8057917\ttotal: 2.32s\tremaining: 2.7s\n",
            "462:\tlearn: 38025.5470778\ttotal: 2.32s\tremaining: 2.69s\n",
            "463:\tlearn: 38007.0247151\ttotal: 2.33s\tremaining: 2.69s\n",
            "464:\tlearn: 37998.0041114\ttotal: 2.33s\tremaining: 2.68s\n",
            "465:\tlearn: 37985.5829131\ttotal: 2.34s\tremaining: 2.68s\n",
            "466:\tlearn: 37974.9494953\ttotal: 2.34s\tremaining: 2.67s\n",
            "467:\tlearn: 37954.3876053\ttotal: 2.34s\tremaining: 2.66s\n",
            "468:\tlearn: 37937.8226844\ttotal: 2.35s\tremaining: 2.66s\n",
            "469:\tlearn: 37926.0835645\ttotal: 2.36s\tremaining: 2.66s\n",
            "470:\tlearn: 37906.8705403\ttotal: 2.36s\tremaining: 2.65s\n",
            "471:\tlearn: 37892.1255974\ttotal: 2.37s\tremaining: 2.65s\n",
            "472:\tlearn: 37878.5384186\ttotal: 2.37s\tremaining: 2.64s\n",
            "473:\tlearn: 37862.9094388\ttotal: 2.38s\tremaining: 2.63s\n",
            "474:\tlearn: 37846.6814157\ttotal: 2.38s\tremaining: 2.63s\n",
            "475:\tlearn: 37830.0403813\ttotal: 2.38s\tremaining: 2.62s\n",
            "476:\tlearn: 37810.7015713\ttotal: 2.39s\tremaining: 2.62s\n",
            "477:\tlearn: 37801.5398464\ttotal: 2.39s\tremaining: 2.61s\n",
            "478:\tlearn: 37779.8593646\ttotal: 2.4s\tremaining: 2.6s\n",
            "479:\tlearn: 37764.8845770\ttotal: 2.4s\tremaining: 2.6s\n",
            "480:\tlearn: 37747.7830262\ttotal: 2.41s\tremaining: 2.6s\n",
            "481:\tlearn: 37731.0994818\ttotal: 2.41s\tremaining: 2.59s\n",
            "482:\tlearn: 37711.3560835\ttotal: 2.41s\tremaining: 2.58s\n",
            "483:\tlearn: 37696.8093298\ttotal: 2.42s\tremaining: 2.58s\n",
            "484:\tlearn: 37690.1459003\ttotal: 2.42s\tremaining: 2.57s\n",
            "485:\tlearn: 37675.7404823\ttotal: 2.43s\tremaining: 2.57s\n",
            "486:\tlearn: 37651.7792892\ttotal: 2.43s\tremaining: 2.56s\n",
            "487:\tlearn: 37639.2892824\ttotal: 2.44s\tremaining: 2.56s\n",
            "488:\tlearn: 37626.2420303\ttotal: 2.44s\tremaining: 2.55s\n",
            "489:\tlearn: 37611.4052745\ttotal: 2.44s\tremaining: 2.54s\n",
            "490:\tlearn: 37597.5494309\ttotal: 2.45s\tremaining: 2.54s\n",
            "491:\tlearn: 37582.3578171\ttotal: 2.45s\tremaining: 2.53s\n",
            "492:\tlearn: 37569.7431686\ttotal: 2.46s\tremaining: 2.53s\n",
            "493:\tlearn: 37555.1318229\ttotal: 2.46s\tremaining: 2.52s\n",
            "494:\tlearn: 37542.8038033\ttotal: 2.46s\tremaining: 2.51s\n",
            "495:\tlearn: 37524.5308389\ttotal: 2.47s\tremaining: 2.51s\n",
            "496:\tlearn: 37517.0678769\ttotal: 2.47s\tremaining: 2.5s\n",
            "497:\tlearn: 37501.0483977\ttotal: 2.48s\tremaining: 2.5s\n",
            "498:\tlearn: 37480.9641190\ttotal: 2.48s\tremaining: 2.49s\n",
            "499:\tlearn: 37459.6721582\ttotal: 2.48s\tremaining: 2.48s\n",
            "500:\tlearn: 37446.7567931\ttotal: 2.49s\tremaining: 2.48s\n",
            "501:\tlearn: 37426.8106390\ttotal: 2.49s\tremaining: 2.47s\n",
            "502:\tlearn: 37413.9502902\ttotal: 2.5s\tremaining: 2.47s\n",
            "503:\tlearn: 37396.2689948\ttotal: 2.5s\tremaining: 2.46s\n",
            "504:\tlearn: 37377.3509459\ttotal: 2.5s\tremaining: 2.45s\n",
            "505:\tlearn: 37362.9952686\ttotal: 2.51s\tremaining: 2.45s\n",
            "506:\tlearn: 37351.1859225\ttotal: 2.51s\tremaining: 2.44s\n",
            "507:\tlearn: 37340.0684782\ttotal: 2.52s\tremaining: 2.44s\n",
            "508:\tlearn: 37327.7438441\ttotal: 2.52s\tremaining: 2.43s\n",
            "509:\tlearn: 37312.4173263\ttotal: 2.52s\tremaining: 2.42s\n",
            "510:\tlearn: 37305.3728726\ttotal: 2.53s\tremaining: 2.42s\n",
            "511:\tlearn: 37292.5632838\ttotal: 2.53s\tremaining: 2.41s\n",
            "512:\tlearn: 37280.5415139\ttotal: 2.54s\tremaining: 2.41s\n",
            "513:\tlearn: 37265.2639479\ttotal: 2.54s\tremaining: 2.4s\n",
            "514:\tlearn: 37243.0193113\ttotal: 2.54s\tremaining: 2.4s\n",
            "515:\tlearn: 37229.9858211\ttotal: 2.55s\tremaining: 2.4s\n",
            "516:\tlearn: 37218.2802140\ttotal: 2.56s\tremaining: 2.39s\n",
            "517:\tlearn: 37201.6370332\ttotal: 2.56s\tremaining: 2.38s\n",
            "518:\tlearn: 37195.0118370\ttotal: 2.57s\tremaining: 2.38s\n",
            "519:\tlearn: 37181.3007862\ttotal: 2.57s\tremaining: 2.37s\n",
            "520:\tlearn: 37168.1317725\ttotal: 2.58s\tremaining: 2.37s\n",
            "521:\tlearn: 37157.4494838\ttotal: 2.58s\tremaining: 2.36s\n",
            "522:\tlearn: 37142.3722042\ttotal: 2.58s\tremaining: 2.35s\n",
            "523:\tlearn: 37124.4937797\ttotal: 2.59s\tremaining: 2.35s\n",
            "524:\tlearn: 37115.8427693\ttotal: 2.59s\tremaining: 2.34s\n",
            "525:\tlearn: 37101.7864392\ttotal: 2.59s\tremaining: 2.34s\n",
            "526:\tlearn: 37095.5563965\ttotal: 2.6s\tremaining: 2.33s\n",
            "527:\tlearn: 37076.2503707\ttotal: 2.6s\tremaining: 2.33s\n",
            "528:\tlearn: 37061.8668507\ttotal: 2.61s\tremaining: 2.32s\n",
            "529:\tlearn: 37046.5460730\ttotal: 2.61s\tremaining: 2.31s\n",
            "530:\tlearn: 37036.2940248\ttotal: 2.61s\tremaining: 2.31s\n",
            "531:\tlearn: 37023.6518653\ttotal: 2.62s\tremaining: 2.3s\n",
            "532:\tlearn: 37016.5333692\ttotal: 2.62s\tremaining: 2.3s\n",
            "533:\tlearn: 37004.9216090\ttotal: 2.63s\tremaining: 2.29s\n",
            "534:\tlearn: 36988.5434101\ttotal: 2.63s\tremaining: 2.29s\n",
            "535:\tlearn: 36968.0545521\ttotal: 2.63s\tremaining: 2.28s\n",
            "536:\tlearn: 36951.3021143\ttotal: 2.64s\tremaining: 2.27s\n",
            "537:\tlearn: 36929.9608137\ttotal: 2.64s\tremaining: 2.27s\n",
            "538:\tlearn: 36912.7361754\ttotal: 2.65s\tremaining: 2.26s\n",
            "539:\tlearn: 36901.7934689\ttotal: 2.65s\tremaining: 2.26s\n",
            "540:\tlearn: 36881.5376098\ttotal: 2.65s\tremaining: 2.25s\n",
            "541:\tlearn: 36868.1818482\ttotal: 2.66s\tremaining: 2.25s\n",
            "542:\tlearn: 36858.7527985\ttotal: 2.66s\tremaining: 2.24s\n",
            "543:\tlearn: 36839.9055608\ttotal: 2.67s\tremaining: 2.23s\n",
            "544:\tlearn: 36826.8833552\ttotal: 2.67s\tremaining: 2.23s\n",
            "545:\tlearn: 36816.8676320\ttotal: 2.67s\tremaining: 2.22s\n",
            "546:\tlearn: 36801.1948903\ttotal: 2.68s\tremaining: 2.22s\n",
            "547:\tlearn: 36788.4000886\ttotal: 2.69s\tremaining: 2.21s\n",
            "548:\tlearn: 36771.8444602\ttotal: 2.69s\tremaining: 2.21s\n",
            "549:\tlearn: 36752.8809561\ttotal: 2.7s\tremaining: 2.21s\n",
            "550:\tlearn: 36740.5951463\ttotal: 2.71s\tremaining: 2.21s\n",
            "551:\tlearn: 36722.1570511\ttotal: 2.72s\tremaining: 2.2s\n",
            "552:\tlearn: 36705.3278244\ttotal: 2.72s\tremaining: 2.2s\n",
            "553:\tlearn: 36691.3504330\ttotal: 2.74s\tremaining: 2.2s\n",
            "554:\tlearn: 36678.4146497\ttotal: 2.75s\tremaining: 2.21s\n",
            "555:\tlearn: 36659.6664399\ttotal: 2.76s\tremaining: 2.21s\n",
            "556:\tlearn: 36642.4387481\ttotal: 2.77s\tremaining: 2.2s\n",
            "557:\tlearn: 36629.4198709\ttotal: 2.77s\tremaining: 2.2s\n",
            "558:\tlearn: 36615.0143668\ttotal: 2.78s\tremaining: 2.19s\n",
            "559:\tlearn: 36599.4205501\ttotal: 2.78s\tremaining: 2.19s\n",
            "560:\tlearn: 36579.8875139\ttotal: 2.79s\tremaining: 2.18s\n",
            "561:\tlearn: 36568.5421276\ttotal: 2.8s\tremaining: 2.19s\n",
            "562:\tlearn: 36552.8852124\ttotal: 2.82s\tremaining: 2.19s\n",
            "563:\tlearn: 36540.7061886\ttotal: 2.83s\tremaining: 2.19s\n",
            "564:\tlearn: 36528.2946427\ttotal: 2.83s\tremaining: 2.18s\n",
            "565:\tlearn: 36514.8286201\ttotal: 2.84s\tremaining: 2.17s\n",
            "566:\tlearn: 36499.7650538\ttotal: 2.84s\tremaining: 2.17s\n",
            "567:\tlearn: 36486.9750493\ttotal: 2.85s\tremaining: 2.17s\n",
            "568:\tlearn: 36464.6124481\ttotal: 2.85s\tremaining: 2.16s\n",
            "569:\tlearn: 36450.8958506\ttotal: 2.86s\tremaining: 2.15s\n",
            "570:\tlearn: 36429.4878780\ttotal: 2.86s\tremaining: 2.15s\n",
            "571:\tlearn: 36412.3213954\ttotal: 2.87s\tremaining: 2.14s\n",
            "572:\tlearn: 36398.7024972\ttotal: 2.87s\tremaining: 2.14s\n",
            "573:\tlearn: 36377.4788991\ttotal: 2.88s\tremaining: 2.13s\n",
            "574:\tlearn: 36370.2812567\ttotal: 2.89s\tremaining: 2.14s\n",
            "575:\tlearn: 36356.7733899\ttotal: 2.9s\tremaining: 2.13s\n",
            "576:\tlearn: 36346.0994558\ttotal: 2.9s\tremaining: 2.13s\n",
            "577:\tlearn: 36338.8447313\ttotal: 2.91s\tremaining: 2.12s\n",
            "578:\tlearn: 36325.7010709\ttotal: 2.91s\tremaining: 2.12s\n",
            "579:\tlearn: 36301.9435869\ttotal: 2.92s\tremaining: 2.11s\n",
            "580:\tlearn: 36281.4416943\ttotal: 2.92s\tremaining: 2.11s\n",
            "581:\tlearn: 36259.9080189\ttotal: 2.92s\tremaining: 2.1s\n",
            "582:\tlearn: 36242.5974226\ttotal: 2.94s\tremaining: 2.1s\n",
            "583:\tlearn: 36225.5976821\ttotal: 2.94s\tremaining: 2.1s\n",
            "584:\tlearn: 36210.9421418\ttotal: 2.95s\tremaining: 2.09s\n",
            "585:\tlearn: 36195.2410639\ttotal: 2.95s\tremaining: 2.08s\n",
            "586:\tlearn: 36185.8881606\ttotal: 2.96s\tremaining: 2.08s\n",
            "587:\tlearn: 36172.2433923\ttotal: 2.96s\tremaining: 2.08s\n",
            "588:\tlearn: 36149.1965609\ttotal: 2.97s\tremaining: 2.07s\n",
            "589:\tlearn: 36140.9426503\ttotal: 2.97s\tremaining: 2.07s\n",
            "590:\tlearn: 36132.6096650\ttotal: 2.98s\tremaining: 2.06s\n",
            "591:\tlearn: 36115.7974018\ttotal: 2.98s\tremaining: 2.06s\n",
            "592:\tlearn: 36108.4409108\ttotal: 2.99s\tremaining: 2.05s\n",
            "593:\tlearn: 36099.0718392\ttotal: 3.01s\tremaining: 2.06s\n",
            "594:\tlearn: 36088.6267109\ttotal: 3.01s\tremaining: 2.05s\n",
            "595:\tlearn: 36078.6151454\ttotal: 3.02s\tremaining: 2.05s\n",
            "596:\tlearn: 36061.0611981\ttotal: 3.03s\tremaining: 2.05s\n",
            "597:\tlearn: 36053.5211227\ttotal: 3.04s\tremaining: 2.04s\n",
            "598:\tlearn: 36039.5035370\ttotal: 3.05s\tremaining: 2.04s\n",
            "599:\tlearn: 36025.1199627\ttotal: 3.07s\tremaining: 2.04s\n",
            "600:\tlearn: 36014.7104474\ttotal: 3.08s\tremaining: 2.04s\n",
            "601:\tlearn: 36002.1716889\ttotal: 3.09s\tremaining: 2.04s\n",
            "602:\tlearn: 35991.5879965\ttotal: 3.09s\tremaining: 2.04s\n",
            "603:\tlearn: 35979.8434791\ttotal: 3.1s\tremaining: 2.03s\n",
            "604:\tlearn: 35966.7712609\ttotal: 3.1s\tremaining: 2.02s\n",
            "605:\tlearn: 35952.8631566\ttotal: 3.11s\tremaining: 2.02s\n",
            "606:\tlearn: 35941.8592591\ttotal: 3.11s\tremaining: 2.01s\n",
            "607:\tlearn: 35923.0459486\ttotal: 3.11s\tremaining: 2.01s\n",
            "608:\tlearn: 35905.9471294\ttotal: 3.12s\tremaining: 2s\n",
            "609:\tlearn: 35896.4026316\ttotal: 3.12s\tremaining: 2s\n",
            "610:\tlearn: 35874.8202338\ttotal: 3.13s\tremaining: 1.99s\n",
            "611:\tlearn: 35864.3930309\ttotal: 3.14s\tremaining: 1.99s\n",
            "612:\tlearn: 35846.9574961\ttotal: 3.14s\tremaining: 1.98s\n",
            "613:\tlearn: 35838.2009030\ttotal: 3.15s\tremaining: 1.98s\n",
            "614:\tlearn: 35831.7868003\ttotal: 3.15s\tremaining: 1.97s\n",
            "615:\tlearn: 35805.9730590\ttotal: 3.15s\tremaining: 1.97s\n",
            "616:\tlearn: 35789.4814331\ttotal: 3.16s\tremaining: 1.96s\n",
            "617:\tlearn: 35777.8643273\ttotal: 3.16s\tremaining: 1.95s\n",
            "618:\tlearn: 35765.0295130\ttotal: 3.17s\tremaining: 1.95s\n",
            "619:\tlearn: 35752.2508624\ttotal: 3.17s\tremaining: 1.94s\n",
            "620:\tlearn: 35735.4477463\ttotal: 3.17s\tremaining: 1.94s\n",
            "621:\tlearn: 35719.7194214\ttotal: 3.18s\tremaining: 1.93s\n",
            "622:\tlearn: 35713.7559734\ttotal: 3.18s\tremaining: 1.93s\n",
            "623:\tlearn: 35703.6792733\ttotal: 3.19s\tremaining: 1.92s\n",
            "624:\tlearn: 35692.3998985\ttotal: 3.19s\tremaining: 1.92s\n",
            "625:\tlearn: 35679.4097062\ttotal: 3.19s\tremaining: 1.91s\n",
            "626:\tlearn: 35670.9924631\ttotal: 3.2s\tremaining: 1.9s\n",
            "627:\tlearn: 35663.7265814\ttotal: 3.2s\tremaining: 1.9s\n",
            "628:\tlearn: 35654.6984971\ttotal: 3.21s\tremaining: 1.89s\n",
            "629:\tlearn: 35639.0640626\ttotal: 3.21s\tremaining: 1.89s\n",
            "630:\tlearn: 35617.5891709\ttotal: 3.21s\tremaining: 1.88s\n",
            "631:\tlearn: 35601.1364045\ttotal: 3.22s\tremaining: 1.88s\n",
            "632:\tlearn: 35591.1280018\ttotal: 3.22s\tremaining: 1.87s\n",
            "633:\tlearn: 35576.2397746\ttotal: 3.23s\tremaining: 1.86s\n",
            "634:\tlearn: 35560.4028237\ttotal: 3.23s\tremaining: 1.86s\n",
            "635:\tlearn: 35546.5959238\ttotal: 3.24s\tremaining: 1.85s\n",
            "636:\tlearn: 35535.4872052\ttotal: 3.24s\tremaining: 1.85s\n",
            "637:\tlearn: 35522.9532278\ttotal: 3.25s\tremaining: 1.84s\n",
            "638:\tlearn: 35507.5314103\ttotal: 3.25s\tremaining: 1.83s\n",
            "639:\tlearn: 35498.9112970\ttotal: 3.25s\tremaining: 1.83s\n",
            "640:\tlearn: 35483.6573884\ttotal: 3.26s\tremaining: 1.82s\n",
            "641:\tlearn: 35466.1534872\ttotal: 3.26s\tremaining: 1.82s\n",
            "642:\tlearn: 35450.5046871\ttotal: 3.26s\tremaining: 1.81s\n",
            "643:\tlearn: 35444.7504496\ttotal: 3.27s\tremaining: 1.81s\n",
            "644:\tlearn: 35433.0863904\ttotal: 3.27s\tremaining: 1.8s\n",
            "645:\tlearn: 35424.8617144\ttotal: 3.28s\tremaining: 1.79s\n",
            "646:\tlearn: 35410.6361911\ttotal: 3.28s\tremaining: 1.79s\n",
            "647:\tlearn: 35404.1786418\ttotal: 3.28s\tremaining: 1.78s\n",
            "648:\tlearn: 35399.2129994\ttotal: 3.29s\tremaining: 1.78s\n",
            "649:\tlearn: 35390.3308045\ttotal: 3.29s\tremaining: 1.77s\n",
            "650:\tlearn: 35375.3573112\ttotal: 3.29s\tremaining: 1.77s\n",
            "651:\tlearn: 35366.6042842\ttotal: 3.3s\tremaining: 1.76s\n",
            "652:\tlearn: 35352.9720625\ttotal: 3.3s\tremaining: 1.75s\n",
            "653:\tlearn: 35339.9008829\ttotal: 3.31s\tremaining: 1.75s\n",
            "654:\tlearn: 35325.6679880\ttotal: 3.31s\tremaining: 1.74s\n",
            "655:\tlearn: 35311.7360947\ttotal: 3.32s\tremaining: 1.74s\n",
            "656:\tlearn: 35294.3612523\ttotal: 3.32s\tremaining: 1.74s\n",
            "657:\tlearn: 35276.7824038\ttotal: 3.33s\tremaining: 1.73s\n",
            "658:\tlearn: 35267.8692410\ttotal: 3.33s\tremaining: 1.72s\n",
            "659:\tlearn: 35258.6484328\ttotal: 3.34s\tremaining: 1.72s\n",
            "660:\tlearn: 35239.9209860\ttotal: 3.34s\tremaining: 1.71s\n",
            "661:\tlearn: 35231.2764004\ttotal: 3.34s\tremaining: 1.71s\n",
            "662:\tlearn: 35219.4520167\ttotal: 3.35s\tremaining: 1.7s\n",
            "663:\tlearn: 35205.8316506\ttotal: 3.35s\tremaining: 1.7s\n",
            "664:\tlearn: 35196.2034757\ttotal: 3.36s\tremaining: 1.69s\n",
            "665:\tlearn: 35180.5891899\ttotal: 3.36s\tremaining: 1.69s\n",
            "666:\tlearn: 35170.8629944\ttotal: 3.36s\tremaining: 1.68s\n",
            "667:\tlearn: 35155.5079958\ttotal: 3.37s\tremaining: 1.67s\n",
            "668:\tlearn: 35144.1973522\ttotal: 3.37s\tremaining: 1.67s\n",
            "669:\tlearn: 35138.9815381\ttotal: 3.38s\tremaining: 1.66s\n",
            "670:\tlearn: 35125.2021136\ttotal: 3.38s\tremaining: 1.66s\n",
            "671:\tlearn: 35104.0663129\ttotal: 3.38s\tremaining: 1.65s\n",
            "672:\tlearn: 35092.8602705\ttotal: 3.39s\tremaining: 1.65s\n",
            "673:\tlearn: 35083.1988188\ttotal: 3.39s\tremaining: 1.64s\n",
            "674:\tlearn: 35070.6569731\ttotal: 3.4s\tremaining: 1.64s\n",
            "675:\tlearn: 35056.7945027\ttotal: 3.4s\tremaining: 1.63s\n",
            "676:\tlearn: 35048.5056627\ttotal: 3.41s\tremaining: 1.63s\n",
            "677:\tlearn: 35044.8800132\ttotal: 3.41s\tremaining: 1.62s\n",
            "678:\tlearn: 35027.8323716\ttotal: 3.42s\tremaining: 1.61s\n",
            "679:\tlearn: 35012.3931092\ttotal: 3.42s\tremaining: 1.61s\n",
            "680:\tlearn: 35001.0791658\ttotal: 3.42s\tremaining: 1.6s\n",
            "681:\tlearn: 34989.4947511\ttotal: 3.43s\tremaining: 1.6s\n",
            "682:\tlearn: 34983.0465992\ttotal: 3.43s\tremaining: 1.59s\n",
            "683:\tlearn: 34971.3026649\ttotal: 3.44s\tremaining: 1.59s\n",
            "684:\tlearn: 34960.7588647\ttotal: 3.44s\tremaining: 1.58s\n",
            "685:\tlearn: 34949.5410604\ttotal: 3.44s\tremaining: 1.58s\n",
            "686:\tlearn: 34938.8056141\ttotal: 3.45s\tremaining: 1.57s\n",
            "687:\tlearn: 34932.8058517\ttotal: 3.45s\tremaining: 1.56s\n",
            "688:\tlearn: 34919.3996560\ttotal: 3.46s\tremaining: 1.56s\n",
            "689:\tlearn: 34906.4040152\ttotal: 3.46s\tremaining: 1.55s\n",
            "690:\tlearn: 34893.1320418\ttotal: 3.46s\tremaining: 1.55s\n",
            "691:\tlearn: 34886.1336962\ttotal: 3.47s\tremaining: 1.54s\n",
            "692:\tlearn: 34873.2499039\ttotal: 3.47s\tremaining: 1.54s\n",
            "693:\tlearn: 34861.4669967\ttotal: 3.48s\tremaining: 1.53s\n",
            "694:\tlearn: 34849.6958340\ttotal: 3.48s\tremaining: 1.53s\n",
            "695:\tlearn: 34838.8170185\ttotal: 3.48s\tremaining: 1.52s\n",
            "696:\tlearn: 34829.2011813\ttotal: 3.49s\tremaining: 1.52s\n",
            "697:\tlearn: 34820.3326396\ttotal: 3.49s\tremaining: 1.51s\n",
            "698:\tlearn: 34809.1628107\ttotal: 3.5s\tremaining: 1.5s\n",
            "699:\tlearn: 34800.4550919\ttotal: 3.5s\tremaining: 1.5s\n",
            "700:\tlearn: 34788.3012331\ttotal: 3.5s\tremaining: 1.49s\n",
            "701:\tlearn: 34777.9382496\ttotal: 3.51s\tremaining: 1.49s\n",
            "702:\tlearn: 34769.3928077\ttotal: 3.51s\tremaining: 1.48s\n",
            "703:\tlearn: 34762.5471444\ttotal: 3.52s\tremaining: 1.48s\n",
            "704:\tlearn: 34748.6913695\ttotal: 3.53s\tremaining: 1.48s\n",
            "705:\tlearn: 34743.2049929\ttotal: 3.53s\tremaining: 1.47s\n",
            "706:\tlearn: 34729.7777095\ttotal: 3.53s\tremaining: 1.46s\n",
            "707:\tlearn: 34723.4474077\ttotal: 3.54s\tremaining: 1.46s\n",
            "708:\tlearn: 34713.1423510\ttotal: 3.54s\tremaining: 1.45s\n",
            "709:\tlearn: 34702.1322075\ttotal: 3.55s\tremaining: 1.45s\n",
            "710:\tlearn: 34694.8055714\ttotal: 3.55s\tremaining: 1.44s\n",
            "711:\tlearn: 34681.2575272\ttotal: 3.55s\tremaining: 1.44s\n",
            "712:\tlearn: 34672.0112785\ttotal: 3.56s\tremaining: 1.43s\n",
            "713:\tlearn: 34658.4399384\ttotal: 3.56s\tremaining: 1.43s\n",
            "714:\tlearn: 34652.9700452\ttotal: 3.57s\tremaining: 1.42s\n",
            "715:\tlearn: 34641.4617700\ttotal: 3.57s\tremaining: 1.42s\n",
            "716:\tlearn: 34627.4186835\ttotal: 3.58s\tremaining: 1.41s\n",
            "717:\tlearn: 34613.1618361\ttotal: 3.59s\tremaining: 1.41s\n",
            "718:\tlearn: 34606.5248049\ttotal: 3.59s\tremaining: 1.4s\n",
            "719:\tlearn: 34590.0483957\ttotal: 3.6s\tremaining: 1.4s\n",
            "720:\tlearn: 34583.0430066\ttotal: 3.6s\tremaining: 1.39s\n",
            "721:\tlearn: 34572.2485733\ttotal: 3.6s\tremaining: 1.39s\n",
            "722:\tlearn: 34559.4874940\ttotal: 3.61s\tremaining: 1.38s\n",
            "723:\tlearn: 34544.4644239\ttotal: 3.61s\tremaining: 1.38s\n",
            "724:\tlearn: 34527.0903296\ttotal: 3.61s\tremaining: 1.37s\n",
            "725:\tlearn: 34514.6738209\ttotal: 3.62s\tremaining: 1.36s\n",
            "726:\tlearn: 34490.9968153\ttotal: 3.62s\tremaining: 1.36s\n",
            "727:\tlearn: 34485.5797694\ttotal: 3.63s\tremaining: 1.35s\n",
            "728:\tlearn: 34472.0326074\ttotal: 3.63s\tremaining: 1.35s\n",
            "729:\tlearn: 34461.4502830\ttotal: 3.63s\tremaining: 1.34s\n",
            "730:\tlearn: 34450.1514431\ttotal: 3.64s\tremaining: 1.34s\n",
            "731:\tlearn: 34442.6093000\ttotal: 3.64s\tremaining: 1.33s\n",
            "732:\tlearn: 34430.2959144\ttotal: 3.65s\tremaining: 1.33s\n",
            "733:\tlearn: 34414.8721544\ttotal: 3.65s\tremaining: 1.32s\n",
            "734:\tlearn: 34408.2031672\ttotal: 3.65s\tremaining: 1.32s\n",
            "735:\tlearn: 34396.3111646\ttotal: 3.66s\tremaining: 1.31s\n",
            "736:\tlearn: 34379.5246497\ttotal: 3.66s\tremaining: 1.31s\n",
            "737:\tlearn: 34369.5971343\ttotal: 3.67s\tremaining: 1.3s\n",
            "738:\tlearn: 34360.1141084\ttotal: 3.67s\tremaining: 1.3s\n",
            "739:\tlearn: 34348.2384381\ttotal: 3.67s\tremaining: 1.29s\n",
            "740:\tlearn: 34336.0777023\ttotal: 3.68s\tremaining: 1.28s\n",
            "741:\tlearn: 34330.6221535\ttotal: 3.68s\tremaining: 1.28s\n",
            "742:\tlearn: 34319.7794851\ttotal: 3.69s\tremaining: 1.27s\n",
            "743:\tlearn: 34314.1765888\ttotal: 3.69s\tremaining: 1.27s\n",
            "744:\tlearn: 34306.4666304\ttotal: 3.69s\tremaining: 1.26s\n",
            "745:\tlearn: 34299.7992772\ttotal: 3.7s\tremaining: 1.26s\n",
            "746:\tlearn: 34295.5200647\ttotal: 3.7s\tremaining: 1.25s\n",
            "747:\tlearn: 34288.2038498\ttotal: 3.71s\tremaining: 1.25s\n",
            "748:\tlearn: 34281.5759592\ttotal: 3.71s\tremaining: 1.24s\n",
            "749:\tlearn: 34271.3697341\ttotal: 3.72s\tremaining: 1.24s\n",
            "750:\tlearn: 34262.2437095\ttotal: 3.72s\tremaining: 1.23s\n",
            "751:\tlearn: 34247.6886135\ttotal: 3.73s\tremaining: 1.23s\n",
            "752:\tlearn: 34239.4082781\ttotal: 3.73s\tremaining: 1.22s\n",
            "753:\tlearn: 34231.0421549\ttotal: 3.74s\tremaining: 1.22s\n",
            "754:\tlearn: 34220.0886281\ttotal: 3.74s\tremaining: 1.22s\n",
            "755:\tlearn: 34204.2780023\ttotal: 3.75s\tremaining: 1.21s\n",
            "756:\tlearn: 34195.4319903\ttotal: 3.75s\tremaining: 1.2s\n",
            "757:\tlearn: 34188.5802394\ttotal: 3.76s\tremaining: 1.2s\n",
            "758:\tlearn: 34177.1121664\ttotal: 3.76s\tremaining: 1.19s\n",
            "759:\tlearn: 34170.7705846\ttotal: 3.76s\tremaining: 1.19s\n",
            "760:\tlearn: 34159.0941636\ttotal: 3.77s\tremaining: 1.18s\n",
            "761:\tlearn: 34147.6250691\ttotal: 3.77s\tremaining: 1.18s\n",
            "762:\tlearn: 34137.4256674\ttotal: 3.77s\tremaining: 1.17s\n",
            "763:\tlearn: 34122.1663342\ttotal: 3.78s\tremaining: 1.17s\n",
            "764:\tlearn: 34113.2977759\ttotal: 3.78s\tremaining: 1.16s\n",
            "765:\tlearn: 34101.9843045\ttotal: 3.79s\tremaining: 1.16s\n",
            "766:\tlearn: 34092.5530780\ttotal: 3.79s\tremaining: 1.15s\n",
            "767:\tlearn: 34087.2768029\ttotal: 3.79s\tremaining: 1.15s\n",
            "768:\tlearn: 34077.6017429\ttotal: 3.8s\tremaining: 1.14s\n",
            "769:\tlearn: 34065.2428946\ttotal: 3.8s\tremaining: 1.14s\n",
            "770:\tlearn: 34054.2334216\ttotal: 3.81s\tremaining: 1.13s\n",
            "771:\tlearn: 34048.7204399\ttotal: 3.81s\tremaining: 1.13s\n",
            "772:\tlearn: 34038.9446176\ttotal: 3.82s\tremaining: 1.12s\n",
            "773:\tlearn: 34029.6622726\ttotal: 3.83s\tremaining: 1.12s\n",
            "774:\tlearn: 34011.9558394\ttotal: 3.83s\tremaining: 1.11s\n",
            "775:\tlearn: 34007.1663326\ttotal: 3.84s\tremaining: 1.11s\n",
            "776:\tlearn: 33985.6266283\ttotal: 3.84s\tremaining: 1.1s\n",
            "777:\tlearn: 33978.0933231\ttotal: 3.85s\tremaining: 1.1s\n",
            "778:\tlearn: 33969.0874335\ttotal: 3.85s\tremaining: 1.09s\n",
            "779:\tlearn: 33959.7133788\ttotal: 3.85s\tremaining: 1.09s\n",
            "780:\tlearn: 33953.5248758\ttotal: 3.86s\tremaining: 1.08s\n",
            "781:\tlearn: 33941.7072222\ttotal: 3.86s\tremaining: 1.08s\n",
            "782:\tlearn: 33931.8882090\ttotal: 3.87s\tremaining: 1.07s\n",
            "783:\tlearn: 33919.2820632\ttotal: 3.87s\tremaining: 1.07s\n",
            "784:\tlearn: 33910.5555784\ttotal: 3.87s\tremaining: 1.06s\n",
            "785:\tlearn: 33899.7362121\ttotal: 3.88s\tremaining: 1.05s\n",
            "786:\tlearn: 33891.0422694\ttotal: 3.88s\tremaining: 1.05s\n",
            "787:\tlearn: 33879.8541133\ttotal: 3.88s\tremaining: 1.04s\n",
            "788:\tlearn: 33871.8245239\ttotal: 3.89s\tremaining: 1.04s\n",
            "789:\tlearn: 33850.2309896\ttotal: 3.89s\tremaining: 1.03s\n",
            "790:\tlearn: 33839.1424927\ttotal: 3.9s\tremaining: 1.03s\n",
            "791:\tlearn: 33827.2161062\ttotal: 3.91s\tremaining: 1.02s\n",
            "792:\tlearn: 33817.6664015\ttotal: 3.91s\tremaining: 1.02s\n",
            "793:\tlearn: 33809.3093524\ttotal: 3.91s\tremaining: 1.01s\n",
            "794:\tlearn: 33800.1046830\ttotal: 3.92s\tremaining: 1.01s\n",
            "795:\tlearn: 33792.1997201\ttotal: 3.92s\tremaining: 1s\n",
            "796:\tlearn: 33778.8130860\ttotal: 3.92s\tremaining: 1000ms\n",
            "797:\tlearn: 33770.6381280\ttotal: 3.93s\tremaining: 995ms\n",
            "798:\tlearn: 33763.1121555\ttotal: 3.93s\tremaining: 990ms\n",
            "799:\tlearn: 33756.9098403\ttotal: 3.94s\tremaining: 984ms\n",
            "800:\tlearn: 33746.4299160\ttotal: 3.94s\tremaining: 979ms\n",
            "801:\tlearn: 33737.0231136\ttotal: 3.94s\tremaining: 974ms\n",
            "802:\tlearn: 33727.0788662\ttotal: 3.95s\tremaining: 969ms\n",
            "803:\tlearn: 33722.8310117\ttotal: 3.95s\tremaining: 964ms\n",
            "804:\tlearn: 33714.4435138\ttotal: 3.96s\tremaining: 958ms\n",
            "805:\tlearn: 33702.8517480\ttotal: 3.96s\tremaining: 953ms\n",
            "806:\tlearn: 33692.0891969\ttotal: 3.96s\tremaining: 948ms\n",
            "807:\tlearn: 33680.1446788\ttotal: 3.97s\tremaining: 943ms\n",
            "808:\tlearn: 33674.2036579\ttotal: 3.97s\tremaining: 938ms\n",
            "809:\tlearn: 33662.2145161\ttotal: 3.98s\tremaining: 933ms\n",
            "810:\tlearn: 33651.6283193\ttotal: 3.98s\tremaining: 928ms\n",
            "811:\tlearn: 33636.2944792\ttotal: 3.98s\tremaining: 923ms\n",
            "812:\tlearn: 33630.2884322\ttotal: 3.99s\tremaining: 917ms\n",
            "813:\tlearn: 33621.0719153\ttotal: 3.99s\tremaining: 912ms\n",
            "814:\tlearn: 33614.8581869\ttotal: 4s\tremaining: 907ms\n",
            "815:\tlearn: 33609.7742099\ttotal: 4s\tremaining: 902ms\n",
            "816:\tlearn: 33598.3795584\ttotal: 4s\tremaining: 897ms\n",
            "817:\tlearn: 33593.3461656\ttotal: 4.01s\tremaining: 892ms\n",
            "818:\tlearn: 33581.3336921\ttotal: 4.01s\tremaining: 887ms\n",
            "819:\tlearn: 33566.4887940\ttotal: 4.01s\tremaining: 881ms\n",
            "820:\tlearn: 33556.2976531\ttotal: 4.02s\tremaining: 876ms\n",
            "821:\tlearn: 33546.1709263\ttotal: 4.02s\tremaining: 871ms\n",
            "822:\tlearn: 33537.7581028\ttotal: 4.03s\tremaining: 866ms\n",
            "823:\tlearn: 33525.9572060\ttotal: 4.03s\tremaining: 861ms\n",
            "824:\tlearn: 33517.0404386\ttotal: 4.04s\tremaining: 856ms\n",
            "825:\tlearn: 33509.6057484\ttotal: 4.04s\tremaining: 851ms\n",
            "826:\tlearn: 33499.6686222\ttotal: 4.04s\tremaining: 846ms\n",
            "827:\tlearn: 33495.1498526\ttotal: 4.05s\tremaining: 841ms\n",
            "828:\tlearn: 33485.2068443\ttotal: 4.05s\tremaining: 836ms\n",
            "829:\tlearn: 33474.3671426\ttotal: 4.05s\tremaining: 831ms\n",
            "830:\tlearn: 33463.7921430\ttotal: 4.06s\tremaining: 826ms\n",
            "831:\tlearn: 33453.9535556\ttotal: 4.06s\tremaining: 821ms\n",
            "832:\tlearn: 33435.0456652\ttotal: 4.07s\tremaining: 815ms\n",
            "833:\tlearn: 33423.4030299\ttotal: 4.07s\tremaining: 810ms\n",
            "834:\tlearn: 33403.4186468\ttotal: 4.08s\tremaining: 805ms\n",
            "835:\tlearn: 33393.5254297\ttotal: 4.08s\tremaining: 800ms\n",
            "836:\tlearn: 33383.1209660\ttotal: 4.08s\tremaining: 795ms\n",
            "837:\tlearn: 33378.1890064\ttotal: 4.09s\tremaining: 790ms\n",
            "838:\tlearn: 33364.8499280\ttotal: 4.1s\tremaining: 787ms\n",
            "839:\tlearn: 33354.5550720\ttotal: 4.11s\tremaining: 782ms\n",
            "840:\tlearn: 33341.2980573\ttotal: 4.11s\tremaining: 777ms\n",
            "841:\tlearn: 33329.9170080\ttotal: 4.11s\tremaining: 772ms\n",
            "842:\tlearn: 33324.7411706\ttotal: 4.12s\tremaining: 767ms\n",
            "843:\tlearn: 33315.0370084\ttotal: 4.12s\tremaining: 762ms\n",
            "844:\tlearn: 33310.8078779\ttotal: 4.12s\tremaining: 757ms\n",
            "845:\tlearn: 33301.3907777\ttotal: 4.13s\tremaining: 752ms\n",
            "846:\tlearn: 33290.2425230\ttotal: 4.13s\tremaining: 747ms\n",
            "847:\tlearn: 33276.0644929\ttotal: 4.14s\tremaining: 742ms\n",
            "848:\tlearn: 33271.5050939\ttotal: 4.14s\tremaining: 737ms\n",
            "849:\tlearn: 33258.5858685\ttotal: 4.14s\tremaining: 732ms\n",
            "850:\tlearn: 33249.6798051\ttotal: 4.15s\tremaining: 727ms\n",
            "851:\tlearn: 33236.1158137\ttotal: 4.15s\tremaining: 722ms\n",
            "852:\tlearn: 33229.0193466\ttotal: 4.16s\tremaining: 716ms\n",
            "853:\tlearn: 33219.9099314\ttotal: 4.16s\tremaining: 711ms\n",
            "854:\tlearn: 33210.9210301\ttotal: 4.17s\tremaining: 706ms\n",
            "855:\tlearn: 33200.2769868\ttotal: 4.17s\tremaining: 701ms\n",
            "856:\tlearn: 33190.3210177\ttotal: 4.17s\tremaining: 696ms\n",
            "857:\tlearn: 33181.3732802\ttotal: 4.18s\tremaining: 691ms\n",
            "858:\tlearn: 33170.6745579\ttotal: 4.18s\tremaining: 686ms\n",
            "859:\tlearn: 33161.7089032\ttotal: 4.18s\tremaining: 681ms\n",
            "860:\tlearn: 33155.2552724\ttotal: 4.19s\tremaining: 676ms\n",
            "861:\tlearn: 33147.4023016\ttotal: 4.19s\tremaining: 671ms\n",
            "862:\tlearn: 33139.1990293\ttotal: 4.2s\tremaining: 666ms\n",
            "863:\tlearn: 33126.3315840\ttotal: 4.2s\tremaining: 661ms\n",
            "864:\tlearn: 33116.4021115\ttotal: 4.21s\tremaining: 656ms\n",
            "865:\tlearn: 33107.6100916\ttotal: 4.21s\tremaining: 651ms\n",
            "866:\tlearn: 33097.6851860\ttotal: 4.21s\tremaining: 646ms\n",
            "867:\tlearn: 33088.3808070\ttotal: 4.22s\tremaining: 641ms\n",
            "868:\tlearn: 33079.4272718\ttotal: 4.22s\tremaining: 636ms\n",
            "869:\tlearn: 33069.4996040\ttotal: 4.22s\tremaining: 631ms\n",
            "870:\tlearn: 33058.1240443\ttotal: 4.23s\tremaining: 626ms\n",
            "871:\tlearn: 33049.0260778\ttotal: 4.23s\tremaining: 621ms\n",
            "872:\tlearn: 33040.3546164\ttotal: 4.24s\tremaining: 616ms\n",
            "873:\tlearn: 33034.5435521\ttotal: 4.24s\tremaining: 611ms\n",
            "874:\tlearn: 33024.9334456\ttotal: 4.24s\tremaining: 606ms\n",
            "875:\tlearn: 33018.4516912\ttotal: 4.25s\tremaining: 602ms\n",
            "876:\tlearn: 33008.7862695\ttotal: 4.26s\tremaining: 598ms\n",
            "877:\tlearn: 33003.9888599\ttotal: 4.26s\tremaining: 593ms\n",
            "878:\tlearn: 32994.2894328\ttotal: 4.27s\tremaining: 588ms\n",
            "879:\tlearn: 32985.4519382\ttotal: 4.27s\tremaining: 583ms\n",
            "880:\tlearn: 32975.8066416\ttotal: 4.28s\tremaining: 578ms\n",
            "881:\tlearn: 32967.4901326\ttotal: 4.28s\tremaining: 573ms\n",
            "882:\tlearn: 32959.5819929\ttotal: 4.28s\tremaining: 568ms\n",
            "883:\tlearn: 32952.0336432\ttotal: 4.29s\tremaining: 563ms\n",
            "884:\tlearn: 32942.4897491\ttotal: 4.3s\tremaining: 558ms\n",
            "885:\tlearn: 32931.6289659\ttotal: 4.3s\tremaining: 553ms\n",
            "886:\tlearn: 32925.2848579\ttotal: 4.3s\tremaining: 548ms\n",
            "887:\tlearn: 32919.0672452\ttotal: 4.31s\tremaining: 543ms\n",
            "888:\tlearn: 32914.3774293\ttotal: 4.31s\tremaining: 538ms\n",
            "889:\tlearn: 32908.5476741\ttotal: 4.32s\tremaining: 533ms\n",
            "890:\tlearn: 32890.0919160\ttotal: 4.32s\tremaining: 528ms\n",
            "891:\tlearn: 32881.5070294\ttotal: 4.32s\tremaining: 523ms\n",
            "892:\tlearn: 32870.8091054\ttotal: 4.33s\tremaining: 518ms\n",
            "893:\tlearn: 32860.3594761\ttotal: 4.33s\tremaining: 514ms\n",
            "894:\tlearn: 32848.5902629\ttotal: 4.33s\tremaining: 509ms\n",
            "895:\tlearn: 32841.3185266\ttotal: 4.34s\tremaining: 504ms\n",
            "896:\tlearn: 32827.5880966\ttotal: 4.34s\tremaining: 499ms\n",
            "897:\tlearn: 32818.1573755\ttotal: 4.35s\tremaining: 494ms\n",
            "898:\tlearn: 32810.8527674\ttotal: 4.35s\tremaining: 489ms\n",
            "899:\tlearn: 32800.4710664\ttotal: 4.36s\tremaining: 484ms\n",
            "900:\tlearn: 32790.9751680\ttotal: 4.36s\tremaining: 479ms\n",
            "901:\tlearn: 32785.4093994\ttotal: 4.36s\tremaining: 474ms\n",
            "902:\tlearn: 32773.2443485\ttotal: 4.37s\tremaining: 469ms\n",
            "903:\tlearn: 32766.5294470\ttotal: 4.37s\tremaining: 464ms\n",
            "904:\tlearn: 32758.3984329\ttotal: 4.38s\tremaining: 459ms\n",
            "905:\tlearn: 32748.6301647\ttotal: 4.38s\tremaining: 454ms\n",
            "906:\tlearn: 32739.4805766\ttotal: 4.38s\tremaining: 449ms\n",
            "907:\tlearn: 32735.5944011\ttotal: 4.39s\tremaining: 445ms\n",
            "908:\tlearn: 32723.0118531\ttotal: 4.39s\tremaining: 440ms\n",
            "909:\tlearn: 32713.6869395\ttotal: 4.39s\tremaining: 435ms\n",
            "910:\tlearn: 32709.3307558\ttotal: 4.4s\tremaining: 430ms\n",
            "911:\tlearn: 32697.9811806\ttotal: 4.4s\tremaining: 425ms\n",
            "912:\tlearn: 32689.4574139\ttotal: 4.41s\tremaining: 420ms\n",
            "913:\tlearn: 32681.7823077\ttotal: 4.41s\tremaining: 415ms\n",
            "914:\tlearn: 32675.1768986\ttotal: 4.41s\tremaining: 410ms\n",
            "915:\tlearn: 32666.7144846\ttotal: 4.42s\tremaining: 405ms\n",
            "916:\tlearn: 32661.6080388\ttotal: 4.42s\tremaining: 400ms\n",
            "917:\tlearn: 32653.1450766\ttotal: 4.43s\tremaining: 395ms\n",
            "918:\tlearn: 32641.0831957\ttotal: 4.43s\tremaining: 390ms\n",
            "919:\tlearn: 32635.4376947\ttotal: 4.43s\tremaining: 386ms\n",
            "920:\tlearn: 32626.2439783\ttotal: 4.44s\tremaining: 381ms\n",
            "921:\tlearn: 32620.1746166\ttotal: 4.44s\tremaining: 376ms\n",
            "922:\tlearn: 32609.4836226\ttotal: 4.45s\tremaining: 371ms\n",
            "923:\tlearn: 32600.8704319\ttotal: 4.45s\tremaining: 366ms\n",
            "924:\tlearn: 32591.8769012\ttotal: 4.45s\tremaining: 361ms\n",
            "925:\tlearn: 32581.0364810\ttotal: 4.46s\tremaining: 356ms\n",
            "926:\tlearn: 32572.2448276\ttotal: 4.46s\tremaining: 351ms\n",
            "927:\tlearn: 32561.6819066\ttotal: 4.46s\tremaining: 346ms\n",
            "928:\tlearn: 32556.4914404\ttotal: 4.47s\tremaining: 342ms\n",
            "929:\tlearn: 32551.4700894\ttotal: 4.47s\tremaining: 337ms\n",
            "930:\tlearn: 32544.0211058\ttotal: 4.48s\tremaining: 332ms\n",
            "931:\tlearn: 32536.9906546\ttotal: 4.48s\tremaining: 327ms\n",
            "932:\tlearn: 32528.7030184\ttotal: 4.49s\tremaining: 322ms\n",
            "933:\tlearn: 32516.1925004\ttotal: 4.49s\tremaining: 318ms\n",
            "934:\tlearn: 32510.1102646\ttotal: 4.5s\tremaining: 313ms\n",
            "935:\tlearn: 32501.2759852\ttotal: 4.5s\tremaining: 308ms\n",
            "936:\tlearn: 32495.9210119\ttotal: 4.51s\tremaining: 303ms\n",
            "937:\tlearn: 32485.0956369\ttotal: 4.51s\tremaining: 298ms\n",
            "938:\tlearn: 32475.6055789\ttotal: 4.51s\tremaining: 293ms\n",
            "939:\tlearn: 32465.0832657\ttotal: 4.52s\tremaining: 288ms\n",
            "940:\tlearn: 32459.5794885\ttotal: 4.52s\tremaining: 284ms\n",
            "941:\tlearn: 32450.4592015\ttotal: 4.53s\tremaining: 279ms\n",
            "942:\tlearn: 32438.6125207\ttotal: 4.53s\tremaining: 274ms\n",
            "943:\tlearn: 32430.0940680\ttotal: 4.54s\tremaining: 269ms\n",
            "944:\tlearn: 32422.1091629\ttotal: 4.54s\tremaining: 264ms\n",
            "945:\tlearn: 32414.0532569\ttotal: 4.54s\tremaining: 259ms\n",
            "946:\tlearn: 32409.6840433\ttotal: 4.55s\tremaining: 254ms\n",
            "947:\tlearn: 32398.3760678\ttotal: 4.55s\tremaining: 250ms\n",
            "948:\tlearn: 32389.7991084\ttotal: 4.55s\tremaining: 245ms\n",
            "949:\tlearn: 32379.6144074\ttotal: 4.56s\tremaining: 240ms\n",
            "950:\tlearn: 32366.9688288\ttotal: 4.56s\tremaining: 235ms\n",
            "951:\tlearn: 32359.4670577\ttotal: 4.57s\tremaining: 230ms\n",
            "952:\tlearn: 32354.0499817\ttotal: 4.57s\tremaining: 225ms\n",
            "953:\tlearn: 32341.5757423\ttotal: 4.57s\tremaining: 221ms\n",
            "954:\tlearn: 32336.0195529\ttotal: 4.58s\tremaining: 216ms\n",
            "955:\tlearn: 32329.7407942\ttotal: 4.58s\tremaining: 211ms\n",
            "956:\tlearn: 32325.4380495\ttotal: 4.59s\tremaining: 206ms\n",
            "957:\tlearn: 32315.6005820\ttotal: 4.6s\tremaining: 202ms\n",
            "958:\tlearn: 32308.2414639\ttotal: 4.6s\tremaining: 197ms\n",
            "959:\tlearn: 32301.6928183\ttotal: 4.61s\tremaining: 192ms\n",
            "960:\tlearn: 32292.9456900\ttotal: 4.61s\tremaining: 187ms\n",
            "961:\tlearn: 32282.2440265\ttotal: 4.61s\tremaining: 182ms\n",
            "962:\tlearn: 32271.8662660\ttotal: 4.62s\tremaining: 177ms\n",
            "963:\tlearn: 32265.4779511\ttotal: 4.62s\tremaining: 173ms\n",
            "964:\tlearn: 32252.5786927\ttotal: 4.62s\tremaining: 168ms\n",
            "965:\tlearn: 32245.4345164\ttotal: 4.63s\tremaining: 163ms\n",
            "966:\tlearn: 32234.0695689\ttotal: 4.63s\tremaining: 158ms\n",
            "967:\tlearn: 32228.0196916\ttotal: 4.64s\tremaining: 153ms\n",
            "968:\tlearn: 32218.8605870\ttotal: 4.64s\tremaining: 149ms\n",
            "969:\tlearn: 32212.6073411\ttotal: 4.65s\tremaining: 144ms\n",
            "970:\tlearn: 32207.9648923\ttotal: 4.65s\tremaining: 139ms\n",
            "971:\tlearn: 32196.8111502\ttotal: 4.65s\tremaining: 134ms\n",
            "972:\tlearn: 32184.4929620\ttotal: 4.66s\tremaining: 129ms\n",
            "973:\tlearn: 32172.1102507\ttotal: 4.66s\tremaining: 124ms\n",
            "974:\tlearn: 32161.8278320\ttotal: 4.67s\tremaining: 120ms\n",
            "975:\tlearn: 32155.2533351\ttotal: 4.67s\tremaining: 115ms\n",
            "976:\tlearn: 32148.5939340\ttotal: 4.68s\tremaining: 110ms\n",
            "977:\tlearn: 32137.4113757\ttotal: 4.68s\tremaining: 105ms\n",
            "978:\tlearn: 32125.9718598\ttotal: 4.69s\tremaining: 101ms\n",
            "979:\tlearn: 32117.0527972\ttotal: 4.7s\tremaining: 95.8ms\n",
            "980:\tlearn: 32103.7246995\ttotal: 4.7s\tremaining: 91ms\n",
            "981:\tlearn: 32095.5312506\ttotal: 4.7s\tremaining: 86.2ms\n",
            "982:\tlearn: 32086.0107777\ttotal: 4.71s\tremaining: 81.4ms\n",
            "983:\tlearn: 32074.1291696\ttotal: 4.71s\tremaining: 76.6ms\n",
            "984:\tlearn: 32066.2746489\ttotal: 4.71s\tremaining: 71.8ms\n",
            "985:\tlearn: 32058.3947488\ttotal: 4.72s\tremaining: 67ms\n",
            "986:\tlearn: 32050.1878027\ttotal: 4.72s\tremaining: 62.2ms\n",
            "987:\tlearn: 32036.8353486\ttotal: 4.72s\tremaining: 57.4ms\n",
            "988:\tlearn: 32028.5110057\ttotal: 4.73s\tremaining: 52.6ms\n",
            "989:\tlearn: 32013.7264697\ttotal: 4.73s\tremaining: 47.8ms\n",
            "990:\tlearn: 32009.3260974\ttotal: 4.74s\tremaining: 43ms\n",
            "991:\tlearn: 32003.7877615\ttotal: 4.74s\tremaining: 38.2ms\n",
            "992:\tlearn: 31985.9557634\ttotal: 4.75s\tremaining: 33.5ms\n",
            "993:\tlearn: 31981.7863515\ttotal: 4.75s\tremaining: 28.7ms\n",
            "994:\tlearn: 31968.9296749\ttotal: 4.75s\tremaining: 23.9ms\n",
            "995:\tlearn: 31959.0763567\ttotal: 4.76s\tremaining: 19.1ms\n",
            "996:\tlearn: 31951.3385929\ttotal: 4.76s\tremaining: 14.3ms\n",
            "997:\tlearn: 31943.1066406\ttotal: 4.77s\tremaining: 9.55ms\n",
            "998:\tlearn: 31935.8316851\ttotal: 4.77s\tremaining: 4.78ms\n",
            "999:\tlearn: 31933.1863341\ttotal: 4.78s\tremaining: 0us\n",
            "\u001b[1m\n",
            "R2 score is  0.8142475608190531\n",
            "\u001b[1m\n",
            "Adjusted R2 score is  0.7877114980789179\n",
            "\u001b[1m\n",
            "Mean Absolute Error is 28473.7\n",
            "\u001b[1m\n",
            "Mean Squared Error is 1787777808.03\n",
            "\u001b[1m\n",
            "Root Mean Squared Error is 42282.12\n",
            "\u001b[1m\n",
            "Accuracy of CatBoost is  81.42 %\n"
          ]
        }
      ],
      "source": [
        "from catboost import CatBoostRegressor\n",
        "\n",
        "cat = CatBoostRegressor()\n",
        "\n",
        "cat.fit(X_train,y_train)\n",
        "\n",
        "y_pred = cat.predict(X_test)\n",
        "\n",
        "accuracy = cat.score(X_test, y_test)\n",
        "accuracy_rounded = round(accuracy*100,2)\n",
        "accuracies['CatBoost'] = accuracy_rounded\n",
        "\n",
        "r2 = metrics.r2_score(y_test, y_pred)\n",
        "Adj_r2 = 1-(1-r2)*(9-1)/(9-1-1)\n",
        "\n",
        "print(color.BOLD + '\\nR2 score is ',r2)\n",
        "\n",
        "print(color.BOLD + '\\nAdjusted R2 score is ',Adj_r2)\n",
        "\n",
        "print(color.BOLD + '\\nMean Absolute Error is',round(metrics.mean_absolute_error(y_test,cat.predict(X_test)),2))\n",
        "\n",
        "print(color.BOLD + '\\nMean Squared Error is',round(metrics.mean_squared_error(y_test,cat.predict(X_test)),2))\n",
        "\n",
        "print(color.BOLD + '\\nRoot Mean Squared Error is',round(np.sqrt(mean_squared_error(y_test,cat.predict(X_test))),2))\n",
        "\n",
        "print(color.BOLD + \"\\nAccuracy of CatBoost is \", accuracy_rounded,'%')"
      ]
    },
    {
      "cell_type": "code",
      "execution_count": 47,
      "metadata": {
        "colab": {
          "base_uri": "https://localhost:8080/"
        },
        "id": "M-J3YdiTExO4",
        "outputId": "e6a204eb-4321-45df-e584-e1920135b0ec"
      },
      "outputs": [
        {
          "name": "stdout",
          "output_type": "stream",
          "text": [
            "\n",
            "Prediction of Random Forest is  [376417.]\n",
            "\n",
            "Prediction of Gradient Boost is  [421964.30529119]\n",
            "\n",
            "Prediction of Decision Tree is  [358500.]\n",
            "\n",
            "Prediction of CatBoost is  [452690.60484372]\n"
          ]
        },
        {
          "name": "stderr",
          "output_type": "stream",
          "text": [
            "/usr/local/lib/python3.7/dist-packages/sklearn/base.py:451: UserWarning: X does not have valid feature names, but RandomForestRegressor was fitted with feature names\n",
            "  \"X does not have valid feature names, but\"\n",
            "/usr/local/lib/python3.7/dist-packages/sklearn/base.py:451: UserWarning: X does not have valid feature names, but GradientBoostingRegressor was fitted with feature names\n",
            "  \"X does not have valid feature names, but\"\n",
            "/usr/local/lib/python3.7/dist-packages/sklearn/base.py:451: UserWarning: X does not have valid feature names, but DecisionTreeRegressor was fitted with feature names\n",
            "  \"X does not have valid feature names, but\"\n"
          ]
        }
      ],
      "source": [
        "#Verifying how untuned models predict house value\n",
        "print('\\nPrediction of Random Forest is ',rf.predict([[-122.22,37.86,21,7099,1106,2401,1138,8.3014,0]])) \n",
        "print('\\nPrediction of Gradient Boost is ',gboost.predict([[-122.22,37.86,21,7099,1106,2401,1138,8.3014,0]]))\n",
        "print('\\nPrediction of Decision Tree is ',dt.predict([[-122.22,37.86,21,7099,1106,2401,1138,8.3014,0]]))\n",
        "print('\\nPrediction of CatBoost is ',cat.predict([[-122.22,37.86,21,7099,1106,2401,1138,8.3014,0]]))"
      ]
    },
    {
      "cell_type": "markdown",
      "metadata": {
        "id": "e5bLdMPdExO5"
      },
      "source": [
        "### All accuracies together"
      ]
    },
    {
      "cell_type": "code",
      "execution_count": 48,
      "metadata": {
        "colab": {
          "base_uri": "https://localhost:8080/"
        },
        "id": "kjoT8Ht4ExO5",
        "outputId": "c24abc0d-8e15-4e9e-c0f5-13e1f4c89ac4"
      },
      "outputs": [
        {
          "data": {
            "text/plain": [
              "{'Random Forest': 77.2,\n",
              " 'Decision Tree': 56.0,\n",
              " 'XGBoost': 72.8,\n",
              " 'Gradient Boost': 72.7,\n",
              " 'Ridge Regression': 60.55,\n",
              " 'Lasso Regression': 60.55,\n",
              " 'CatBoost': 81.42}"
            ]
          },
          "execution_count": 48,
          "metadata": {},
          "output_type": "execute_result"
        }
      ],
      "source": [
        "accuracies"
      ]
    },
    {
      "cell_type": "code",
      "execution_count": 49,
      "metadata": {
        "colab": {
          "base_uri": "https://localhost:8080/",
          "height": 557
        },
        "id": "N9oc_NMvExO6",
        "outputId": "9ce34394-0f2e-4f67-a3d0-703a3a8d46d4"
      },
      "outputs": [
        {
          "data": {
            "image/png": "[encoded data removed]",
            "text/plain": [
              "<Figure size 1296x720 with 1 Axes>"
            ]
          },
          "metadata": {},
          "output_type": "display_data"
        }
      ],
      "source": [
        "#Plotting accuracies of all the models\n",
        "colors = [\"green\", \"yellow\", \"black\", \"magenta\", \"#0e76a8\", \"red\", \"#34558b\",\"#f0daa4\",\"#3b3d4b\",\"#fd823e\"]\n",
        "\n",
        "sns.set_style(\"whitegrid\")\n",
        "plt.figure(figsize=(18,10))\n",
        "plt.yticks(np.arange(0,100,10))\n",
        "plt.ylabel(\"\\nAccuracy %\",fontsize=20)\n",
        "plt.xlabel(\"\\nAlgorithms\",fontsize=20)\n",
        "sns.barplot(x=list(accuracies.keys()), y=list(accuracies.values()), palette=colors)\n",
        "plt.show()"
      ]
    },
    {
      "cell_type": "code",
      "execution_count": 50,
      "metadata": {
        "id": "86enmCvj75s1"
      },
      "outputs": [],
      "source": [
        "#CatBoost performs the best without tuning."
      ]
    },
    {
      "cell_type": "markdown",
      "metadata": {
        "id": "zhtXxCfZ2q9d"
      },
      "source": [
        "### Hyperparameter Tuning"
      ]
    },
    {
      "cell_type": "markdown",
      "metadata": {
        "id": "XBlspCKB2Nso"
      },
      "source": [
        "\n",
        "> Let's try to increase the accuracy of the top performing models on this dataset - \n",
        "\n",
        "> 1.   RandomForest\n",
        "2.   CatBoost\n",
        "1.   LightGBM\n",
        "\n",
        "---\n",
        "\n"
      ]
    },
    {
      "cell_type": "code",
      "execution_count": 51,
      "metadata": {
        "id": "pquKfsls2zrb"
      },
      "outputs": [],
      "source": [
        "from sklearn.model_selection import RepeatedKFold\n",
        "from sklearn.model_selection import GridSearchCV\n",
        "from sklearn.model_selection import RandomizedSearchCV\n",
        "import numpy as np"
      ]
    },
    {
      "cell_type": "markdown",
      "metadata": {
        "id": "7vclEaCSCMB8"
      },
      "source": [
        "### Random Forest Tuning"
      ]
    },
    {
      "cell_type": "code",
      "execution_count": 52,
      "metadata": {
        "colab": {
          "base_uri": "https://localhost:8080/"
        },
        "id": "iw6XU5vgGTn8",
        "outputId": "cb3d0379-c791-47e7-8338-654e032f9661"
      },
      "outputs": [
        {
          "name": "stdout",
          "output_type": "stream",
          "text": [
            "{'n_estimators': [5, 64, 123, 182, 241, 300], 'max_features': ['auto', 'sqrt', 'log2'], 'max_depth': [10, 20, 30, 40, 50, 60, 70, 80, 90, 100, 110, 120, None], 'min_samples_split': [2, 5, 10, 13, 16], 'min_samples_leaf': [1, 2, 4, 8], 'bootstrap': [True, False]}\n"
          ]
        }
      ],
      "source": [
        "#Randomized Search CV\n",
        "\n",
        "# Number of trees in the random forest\n",
        "n_estimators = [int(x) for x in np.linspace(start = 5, stop = 300, num = 6)]\n",
        "\n",
        "# Number of features to consider at every split\n",
        "max_features = ['auto', 'sqrt', 'log2']\n",
        "\n",
        "# Maximum number of levels in tree\n",
        "max_depth = [int(x) for x in np.linspace(10, 120, num = 12)]\n",
        "max_depth.append(None)\n",
        "\n",
        "# Minimum number of samples required to split a node\n",
        "min_samples_split = [2, 5, 10, 13, 16]\n",
        "\n",
        "# Minimum number of samples required at each leaf node\n",
        "min_samples_leaf = [1, 2, 4, 8]\n",
        "\n",
        "# Method of selecting samples for training each tree\n",
        "bootstrap = [True, False]\n",
        "\n",
        "# Create the random grid\n",
        "random_grid = {'n_estimators': n_estimators,\n",
        "               'max_features': max_features,\n",
        "               'max_depth': max_depth,\n",
        "               'min_samples_split': min_samples_split,\n",
        "               'min_samples_leaf': min_samples_leaf,\n",
        "               'bootstrap': bootstrap}\n",
        "\n",
        "\n",
        "print(random_grid)"
      ]
    },
    {
      "cell_type": "code",
      "execution_count": 53,
      "metadata": {
        "id": "_e0MRVsgHA-S"
      },
      "outputs": [],
      "source": [
        "rf_random = RandomizedSearchCV(estimator = rf, \n",
        "                               param_distributions = random_grid, \n",
        "                               n_iter = 9, \n",
        "                               cv = 4, \n",
        "                               verbose=0,\n",
        "                               random_state=42, \n",
        "                               n_jobs = -1)"
      ]
    },
    {
      "cell_type": "code",
      "execution_count": 54,
      "metadata": {
        "colab": {
          "base_uri": "https://localhost:8080/"
        },
        "id": "oxzmUYqrHINW",
        "outputId": "2dd0d8c4-8c3d-486d-c10e-d21494a71d8b"
      },
      "outputs": [
        {
          "data": {
            "text/plain": [
              "RandomizedSearchCV(cv=4, estimator=RandomForestRegressor(random_state=0),\n",
              "                   n_iter=9, n_jobs=-1,\n",
              "                   param_distributions={'bootstrap': [True, False],\n",
              "                                        'max_depth': [10, 20, 30, 40, 50, 60,\n",
              "                                                      70, 80, 90, 100, 110, 120,\n",
              "                                                      None],\n",
              "                                        'max_features': ['auto', 'sqrt',\n",
              "                                                         'log2'],\n",
              "                                        'min_samples_leaf': [1, 2, 4, 8],\n",
              "                                        'min_samples_split': [2, 5, 10, 13, 16],\n",
              "                                        'n_estimators': [5, 64, 123, 182, 241,\n",
              "                                                         300]},\n",
              "                   random_state=42)"
            ]
          },
          "execution_count": 54,
          "metadata": {},
          "output_type": "execute_result"
        }
      ],
      "source": [
        "rf_random.fit(X_train, y_train)"
      ]
    },
    {
      "cell_type": "code",
      "execution_count": 55,
      "metadata": {
        "colab": {
          "base_uri": "https://localhost:8080/"
        },
        "id": "HkSRAxKaHbcL",
        "outputId": "dace5fb4-d82f-4754-f0d5-e31d54d785ca"
      },
      "outputs": [
        {
          "data": {
            "text/plain": [
              "{'n_estimators': 64,\n",
              " 'min_samples_split': 2,\n",
              " 'min_samples_leaf': 2,\n",
              " 'max_features': 'sqrt',\n",
              " 'max_depth': 20,\n",
              " 'bootstrap': False}"
            ]
          },
          "execution_count": 55,
          "metadata": {},
          "output_type": "execute_result"
        }
      ],
      "source": [
        "rf_random.best_params_"
      ]
    },
    {
      "cell_type": "code",
      "execution_count": 56,
      "metadata": {
        "colab": {
          "base_uri": "https://localhost:8080/"
        },
        "id": "U3flN-hgJos3",
        "outputId": "5528cb6a-6315-4882-c2d9-3b977e3fc111"
      },
      "outputs": [
        {
          "name": "stdout",
          "output_type": "stream",
          "text": [
            "\u001b[1m\n",
            "R2 score is  0.79\n",
            "\u001b[1m\n",
            "Adjusted R2 score is  0.76\n",
            "\u001b[1m\n",
            "Mean Absolute Error is 30348.97\n",
            "\u001b[1m\n",
            "Mean Squared Error is 2035561568.05\n",
            "\u001b[1m\n",
            "Root Mean Squared Error is 45117.2\n"
          ]
        }
      ],
      "source": [
        "#Predict on test data\n",
        "y_pred = rf_random.predict(X_test)\n",
        "\n",
        "#Metrics Calculation\n",
        "r2 = round(metrics.r2_score(y_test, y_pred),2)\n",
        "Adj_r2 = round(1-(1-r2)*(9-1)/(9-1-1),2)\n",
        "\n",
        "#Display results\n",
        "print(color.BOLD + '\\nR2 score is ',r2)\n",
        "\n",
        "print(color.BOLD + '\\nAdjusted R2 score is ',Adj_r2)\n",
        "\n",
        "print(color.BOLD + '\\nMean Absolute Error is',round(metrics.mean_absolute_error(y_test,rf_random.predict(X_test)),2))\n",
        "\n",
        "print(color.BOLD + '\\nMean Squared Error is',round(metrics.mean_squared_error(y_test,rf_random.predict(X_test)),2))\n",
        "\n",
        "print(color.BOLD + '\\nRoot Mean Squared Error is',round(np.sqrt(mean_squared_error(y_test,rf_random.predict(X_test))),2))"
      ]
    },
    {
      "cell_type": "code",
      "execution_count": 57,
      "metadata": {
        "colab": {
          "base_uri": "https://localhost:8080/"
        },
        "id": "trr0kN_8H6Rl",
        "outputId": "53f0be99-a587-438a-c901-2aa7a36109cc"
      },
      "outputs": [
        {
          "data": {
            "text/plain": [
              "{'bootstrap': True,\n",
              " 'max_depth': 80,\n",
              " 'max_features': 3,\n",
              " 'min_samples_leaf': 3,\n",
              " 'min_samples_split': 4,\n",
              " 'n_estimators': 300}"
            ]
          },
          "execution_count": 57,
          "metadata": {},
          "output_type": "execute_result"
        }
      ],
      "source": [
        "#Grid Search CV\n",
        "\n",
        "param_grid = {\n",
        "    'bootstrap': [True],\n",
        "    'max_depth': [80, 90, 100],\n",
        "    'max_features': [2, 3],\n",
        "    'min_samples_leaf': [3, 4, 5],\n",
        "    'min_samples_split': [4, 8, 10],\n",
        "    'n_estimators': [100, 200, 300]\n",
        "}\n",
        "\n",
        "# Instantiate the grid search model\n",
        "grid_search = GridSearchCV(estimator = rf, param_grid = param_grid, cv = 2, n_jobs = -1, verbose = 0)\n",
        "\n",
        "grid_search.fit(X_train,y_train)\n",
        "\n",
        "grid_search.best_params_"
      ]
    },
    {
      "cell_type": "code",
      "execution_count": 58,
      "metadata": {
        "colab": {
          "base_uri": "https://localhost:8080/"
        },
        "id": "UzvSrsRxINaA",
        "outputId": "54c5d493-291b-441c-9ed8-5f1c1b3b9805"
      },
      "outputs": [
        {
          "data": {
            "text/plain": [
              "RandomForestRegressor(max_depth=80, max_features=3, min_samples_leaf=3,\n",
              "                      min_samples_split=4, n_estimators=300, random_state=0)"
            ]
          },
          "execution_count": 58,
          "metadata": {},
          "output_type": "execute_result"
        }
      ],
      "source": [
        "best_grid = grid_search.best_estimator_\n",
        "best_grid"
      ]
    },
    {
      "cell_type": "code",
      "execution_count": 59,
      "metadata": {
        "colab": {
          "base_uri": "https://localhost:8080/"
        },
        "id": "0LD-s9XFODaO",
        "outputId": "63490cf2-28f4-4be9-a5b1-ab84794400d0"
      },
      "outputs": [
        {
          "name": "stdout",
          "output_type": "stream",
          "text": [
            "\u001b[1m\n",
            "R2 score is  0.78\n",
            "\u001b[1m\n",
            "Adjusted R2 score is  0.75\n",
            "\u001b[1m\n",
            "Mean Absolute Error is 30348.97\n",
            "\u001b[1m\n",
            "Mean Squared Error is 2035561568.05\n",
            "\u001b[1m\n",
            "Root Mean Squared Error is 45117.2\n"
          ]
        }
      ],
      "source": [
        "#Predict on test data\n",
        "y_pred = best_grid.predict(X_test)\n",
        "\n",
        "#Metrics Calculation\n",
        "r2 = round(metrics.r2_score(y_test, y_pred),2)\n",
        "Adj_r2 = round(1-(1-r2)*(9-1)/(9-1-1),2)\n",
        "\n",
        "#Display results\n",
        "print(color.BOLD + '\\nR2 score is ',r2)\n",
        "\n",
        "print(color.BOLD + '\\nAdjusted R2 score is ',Adj_r2)\n",
        "\n",
        "print(color.BOLD + '\\nMean Absolute Error is',round(metrics.mean_absolute_error(y_test,rf_random.predict(X_test)),2))\n",
        "\n",
        "print(color.BOLD + '\\nMean Squared Error is',round(metrics.mean_squared_error(y_test,rf_random.predict(X_test)),2))\n",
        "\n",
        "print(color.BOLD + '\\nRoot Mean Squared Error is',round(np.sqrt(mean_squared_error(y_test,rf_random.predict(X_test))),2))"
      ]
    },
    {
      "cell_type": "markdown",
      "metadata": {
        "id": "BlhhyCA6EJYw"
      },
      "source": [
        "### CatBoost Tuning"
      ]
    },
    {
      "cell_type": "code",
      "execution_count": 60,
      "metadata": {
        "colab": {
          "base_uri": "https://localhost:8080/"
        },
        "id": "mvo9-WUNENLZ",
        "outputId": "7f0b2b1e-e7e0-4bb4-d64f-a2baf05546c2"
      },
      "outputs": [
        {
          "name": "stdout",
          "output_type": "stream",
          "text": [
            "{'n_estimators': [5, 150], 'learning_rate': array([0.   , 0.075, 0.15 , 0.225, 0.3  ])}\n"
          ]
        }
      ],
      "source": [
        "#Randomized Search CV\n",
        "n_estimators = [int(x) for x in np.linspace(start = 5 , stop = 150, num = 2)]\n",
        "\n",
        "max_depth = [int(x) for x in np.linspace(2, 120, num = 2)] \n",
        "\n",
        "max_depth.append(None)\n",
        "\n",
        "grid = {'n_estimators': n_estimators, 'learning_rate' : np.linspace(0,0.3,5)}\n",
        "\n",
        "print(grid)"
      ]
    },
    {
      "cell_type": "code",
      "execution_count": 61,
      "metadata": {
        "colab": {
          "base_uri": "https://localhost:8080/"
        },
        "id": "F3SD5g8FEXBN",
        "outputId": "47ef6e87-7539-40d5-b50c-a2507a90d3ef"
      },
      "outputs": [
        {
          "name": "stderr",
          "output_type": "stream",
          "text": [
            "/usr/local/lib/python3.7/dist-packages/sklearn/model_selection/_validation.py:372: FitFailedWarning: \n",
            "10 fits failed out of a total of 50.\n",
            "The score on these train-test partitions for these parameters will be set to nan.\n",
            "If these failures are not expected, you can try to debug them by setting error_score='raise'.\n",
            "\n",
            "Below are more details about the failures:\n",
            "--------------------------------------------------------------------------------\n",
            "10 fits failed with the following error:\n",
            "Traceback (most recent call last):\n",
            "  File \"/usr/local/lib/python3.7/dist-packages/sklearn/model_selection/_validation.py\", line 680, in _fit_and_score\n",
            "    estimator.fit(X_train, y_train, **fit_params)\n",
            "  File \"/usr/local/lib/python3.7/dist-packages/catboost/core.py\", line 5593, in fit\n",
            "    save_snapshot, snapshot_file, snapshot_interval, init_model, callbacks, log_cout, log_cerr)\n",
            "  File \"/usr/local/lib/python3.7/dist-packages/catboost/core.py\", line 2270, in _fit\n",
            "    callbacks=callbacks\n",
            "  File \"/usr/local/lib/python3.7/dist-packages/catboost/core.py\", line 2194, in _prepare_train_params\n",
            "    _check_train_params(params)\n",
            "  File \"_catboost.pyx\", line 6032, in _catboost._check_train_params\n",
            "  File \"_catboost.pyx\", line 6051, in _catboost._check_train_params\n",
            "_catboost.CatBoostError: catboost/private/libs/options/boosting_options.cpp:79: Learning rate should be non-zero\n",
            "\n",
            "  warnings.warn(some_fits_failed_message, FitFailedWarning)\n",
            "/usr/local/lib/python3.7/dist-packages/sklearn/model_selection/_search.py:972: UserWarning: One or more of the test scores are non-finite: [       nan        nan 0.29206512 0.75758389 0.44473585 0.78762589\n",
            " 0.52905971 0.79435856 0.57523183 0.79504403]\n",
            "  category=UserWarning,\n",
            "/usr/local/lib/python3.7/dist-packages/sklearn/model_selection/_search.py:972: UserWarning: One or more of the train scores are non-finite: [       nan        nan 0.29435064 0.78524014 0.44807787 0.83690924\n",
            " 0.53573995 0.86145356 0.57954391 0.87717862]\n",
            "  category=UserWarning,\n"
          ]
        },
        {
          "name": "stdout",
          "output_type": "stream",
          "text": [
            "0:\tlearn: 83709.1875358\ttotal: 5.63ms\tremaining: 839ms\n",
            "1:\tlearn: 74834.3829413\ttotal: 10.5ms\tremaining: 775ms\n",
            "2:\tlearn: 69497.5214748\ttotal: 14.8ms\tremaining: 725ms\n",
            "3:\tlearn: 65750.7296263\ttotal: 18.9ms\tremaining: 689ms\n",
            "4:\tlearn: 63334.6053087\ttotal: 22.9ms\tremaining: 663ms\n",
            "5:\tlearn: 61244.4779568\ttotal: 26.9ms\tremaining: 645ms\n",
            "6:\tlearn: 59466.0360261\ttotal: 30.8ms\tremaining: 630ms\n",
            "7:\tlearn: 58507.5202138\ttotal: 34.7ms\tremaining: 616ms\n",
            "8:\tlearn: 57170.3289713\ttotal: 38.5ms\tremaining: 603ms\n",
            "9:\tlearn: 56303.2400267\ttotal: 42.4ms\tremaining: 594ms\n",
            "10:\tlearn: 55447.9246018\ttotal: 46.4ms\tremaining: 587ms\n",
            "11:\tlearn: 54577.5297590\ttotal: 50.6ms\tremaining: 582ms\n",
            "12:\tlearn: 54014.2708147\ttotal: 54.8ms\tremaining: 577ms\n",
            "13:\tlearn: 53746.2888508\ttotal: 58.8ms\tremaining: 572ms\n",
            "14:\tlearn: 52890.7326509\ttotal: 69.7ms\tremaining: 628ms\n",
            "15:\tlearn: 52380.0969180\ttotal: 73.6ms\tremaining: 616ms\n",
            "16:\tlearn: 51838.5277018\ttotal: 78.8ms\tremaining: 616ms\n",
            "17:\tlearn: 51485.6135116\ttotal: 82.7ms\tremaining: 606ms\n",
            "18:\tlearn: 50869.6586303\ttotal: 86.7ms\tremaining: 598ms\n",
            "19:\tlearn: 50583.4984120\ttotal: 90.4ms\tremaining: 587ms\n",
            "20:\tlearn: 50127.9067385\ttotal: 94.2ms\tremaining: 579ms\n",
            "21:\tlearn: 49868.0852483\ttotal: 98ms\tremaining: 570ms\n",
            "22:\tlearn: 49574.3227816\ttotal: 102ms\tremaining: 562ms\n",
            "23:\tlearn: 49148.1817593\ttotal: 106ms\tremaining: 554ms\n",
            "24:\tlearn: 48874.8781638\ttotal: 109ms\tremaining: 547ms\n",
            "25:\tlearn: 48445.3614095\ttotal: 114ms\tremaining: 542ms\n",
            "26:\tlearn: 48236.3321016\ttotal: 118ms\tremaining: 537ms\n",
            "27:\tlearn: 47960.9613381\ttotal: 122ms\tremaining: 532ms\n",
            "28:\tlearn: 47753.6661612\ttotal: 126ms\tremaining: 528ms\n",
            "29:\tlearn: 47448.3264138\ttotal: 131ms\tremaining: 523ms\n",
            "30:\tlearn: 47290.1812770\ttotal: 135ms\tremaining: 517ms\n",
            "31:\tlearn: 47029.5881488\ttotal: 139ms\tremaining: 513ms\n",
            "32:\tlearn: 46872.3395471\ttotal: 143ms\tremaining: 509ms\n",
            "33:\tlearn: 46615.3487235\ttotal: 148ms\tremaining: 504ms\n",
            "34:\tlearn: 46398.1275276\ttotal: 153ms\tremaining: 502ms\n",
            "35:\tlearn: 46152.5581903\ttotal: 157ms\tremaining: 497ms\n",
            "36:\tlearn: 45787.0928776\ttotal: 164ms\tremaining: 499ms\n",
            "37:\tlearn: 45537.8760162\ttotal: 171ms\tremaining: 503ms\n",
            "38:\tlearn: 45264.6382365\ttotal: 175ms\tremaining: 498ms\n",
            "39:\tlearn: 45081.1503442\ttotal: 179ms\tremaining: 492ms\n",
            "40:\tlearn: 44831.8825565\ttotal: 183ms\tremaining: 486ms\n",
            "41:\tlearn: 44677.0300209\ttotal: 187ms\tremaining: 481ms\n",
            "42:\tlearn: 44483.5425948\ttotal: 196ms\tremaining: 487ms\n",
            "43:\tlearn: 44345.3343512\ttotal: 200ms\tremaining: 482ms\n",
            "44:\tlearn: 44194.4248591\ttotal: 204ms\tremaining: 477ms\n",
            "45:\tlearn: 43930.2333167\ttotal: 209ms\tremaining: 472ms\n",
            "46:\tlearn: 43775.2540488\ttotal: 213ms\tremaining: 467ms\n",
            "47:\tlearn: 43543.0612594\ttotal: 217ms\tremaining: 462ms\n",
            "48:\tlearn: 43395.2336161\ttotal: 221ms\tremaining: 456ms\n",
            "49:\tlearn: 43271.0232906\ttotal: 225ms\tremaining: 451ms\n",
            "50:\tlearn: 43131.7156172\ttotal: 229ms\tremaining: 445ms\n",
            "51:\tlearn: 43006.0280276\ttotal: 233ms\tremaining: 440ms\n",
            "52:\tlearn: 42911.1590141\ttotal: 237ms\tremaining: 434ms\n",
            "53:\tlearn: 42693.4953651\ttotal: 241ms\tremaining: 429ms\n",
            "54:\tlearn: 42561.7233888\ttotal: 246ms\tremaining: 424ms\n",
            "55:\tlearn: 42489.2844956\ttotal: 249ms\tremaining: 419ms\n",
            "56:\tlearn: 42311.9547748\ttotal: 253ms\tremaining: 414ms\n",
            "57:\tlearn: 42139.9179208\ttotal: 257ms\tremaining: 408ms\n",
            "58:\tlearn: 42025.4302158\ttotal: 262ms\tremaining: 404ms\n",
            "59:\tlearn: 41908.8044839\ttotal: 266ms\tremaining: 399ms\n",
            "60:\tlearn: 41757.2605836\ttotal: 271ms\tremaining: 395ms\n",
            "61:\tlearn: 41640.2209429\ttotal: 275ms\tremaining: 390ms\n",
            "62:\tlearn: 41469.2620429\ttotal: 279ms\tremaining: 385ms\n",
            "63:\tlearn: 41370.0019989\ttotal: 282ms\tremaining: 380ms\n",
            "64:\tlearn: 41260.6173076\ttotal: 286ms\tremaining: 375ms\n",
            "65:\tlearn: 41155.3941860\ttotal: 290ms\tremaining: 370ms\n",
            "66:\tlearn: 41085.1316317\ttotal: 294ms\tremaining: 365ms\n",
            "67:\tlearn: 40949.8606376\ttotal: 298ms\tremaining: 360ms\n",
            "68:\tlearn: 40862.6875928\ttotal: 302ms\tremaining: 355ms\n",
            "69:\tlearn: 40792.6151034\ttotal: 306ms\tremaining: 350ms\n",
            "70:\tlearn: 40677.2255416\ttotal: 310ms\tremaining: 345ms\n",
            "71:\tlearn: 40593.9523958\ttotal: 314ms\tremaining: 341ms\n",
            "72:\tlearn: 40498.5967227\ttotal: 319ms\tremaining: 336ms\n",
            "73:\tlearn: 40408.8585150\ttotal: 323ms\tremaining: 331ms\n",
            "74:\tlearn: 40286.9828230\ttotal: 327ms\tremaining: 327ms\n",
            "75:\tlearn: 40182.2883986\ttotal: 331ms\tremaining: 322ms\n",
            "76:\tlearn: 40076.8559714\ttotal: 335ms\tremaining: 317ms\n",
            "77:\tlearn: 40006.0177791\ttotal: 339ms\tremaining: 313ms\n",
            "78:\tlearn: 39906.0226846\ttotal: 343ms\tremaining: 308ms\n",
            "79:\tlearn: 39796.6482894\ttotal: 347ms\tremaining: 303ms\n",
            "80:\tlearn: 39664.7676578\ttotal: 351ms\tremaining: 299ms\n",
            "81:\tlearn: 39568.7836391\ttotal: 355ms\tremaining: 294ms\n",
            "82:\tlearn: 39452.2654148\ttotal: 359ms\tremaining: 290ms\n",
            "83:\tlearn: 39357.2144032\ttotal: 363ms\tremaining: 285ms\n",
            "84:\tlearn: 39259.9310609\ttotal: 367ms\tremaining: 281ms\n",
            "85:\tlearn: 39193.3754022\ttotal: 371ms\tremaining: 276ms\n",
            "86:\tlearn: 39088.0591275\ttotal: 375ms\tremaining: 272ms\n",
            "87:\tlearn: 39045.8738440\ttotal: 379ms\tremaining: 267ms\n",
            "88:\tlearn: 38966.0991823\ttotal: 383ms\tremaining: 263ms\n",
            "89:\tlearn: 38923.0295671\ttotal: 391ms\tremaining: 261ms\n",
            "90:\tlearn: 38803.9544665\ttotal: 396ms\tremaining: 257ms\n",
            "91:\tlearn: 38743.7051003\ttotal: 400ms\tremaining: 252ms\n",
            "92:\tlearn: 38669.1361559\ttotal: 403ms\tremaining: 247ms\n",
            "93:\tlearn: 38591.1038019\ttotal: 408ms\tremaining: 243ms\n",
            "94:\tlearn: 38487.2483400\ttotal: 411ms\tremaining: 238ms\n",
            "95:\tlearn: 38430.4230623\ttotal: 416ms\tremaining: 234ms\n",
            "96:\tlearn: 38379.4332960\ttotal: 419ms\tremaining: 229ms\n",
            "97:\tlearn: 38337.8002428\ttotal: 423ms\tremaining: 225ms\n",
            "98:\tlearn: 38272.9633059\ttotal: 427ms\tremaining: 220ms\n",
            "99:\tlearn: 38193.7461210\ttotal: 431ms\tremaining: 215ms\n",
            "100:\tlearn: 38108.2960506\ttotal: 435ms\tremaining: 211ms\n",
            "101:\tlearn: 38017.6648320\ttotal: 439ms\tremaining: 206ms\n",
            "102:\tlearn: 37928.7179644\ttotal: 443ms\tremaining: 202ms\n",
            "103:\tlearn: 37854.7694222\ttotal: 447ms\tremaining: 198ms\n",
            "104:\tlearn: 37813.5048386\ttotal: 451ms\tremaining: 193ms\n",
            "105:\tlearn: 37793.7097192\ttotal: 455ms\tremaining: 189ms\n",
            "106:\tlearn: 37724.5522676\ttotal: 459ms\tremaining: 184ms\n",
            "107:\tlearn: 37668.2132302\ttotal: 463ms\tremaining: 180ms\n",
            "108:\tlearn: 37604.2986142\ttotal: 467ms\tremaining: 176ms\n",
            "109:\tlearn: 37520.8681555\ttotal: 473ms\tremaining: 172ms\n",
            "110:\tlearn: 37423.5697267\ttotal: 478ms\tremaining: 168ms\n",
            "111:\tlearn: 37350.9711222\ttotal: 482ms\tremaining: 164ms\n",
            "112:\tlearn: 37253.0340177\ttotal: 486ms\tremaining: 159ms\n",
            "113:\tlearn: 37151.8987103\ttotal: 490ms\tremaining: 155ms\n",
            "114:\tlearn: 37110.0133992\ttotal: 494ms\tremaining: 150ms\n",
            "115:\tlearn: 37031.2914232\ttotal: 499ms\tremaining: 146ms\n",
            "116:\tlearn: 36981.5614260\ttotal: 502ms\tremaining: 142ms\n",
            "117:\tlearn: 36907.1889904\ttotal: 506ms\tremaining: 137ms\n",
            "118:\tlearn: 36859.8047993\ttotal: 510ms\tremaining: 133ms\n",
            "119:\tlearn: 36730.1136256\ttotal: 514ms\tremaining: 128ms\n",
            "120:\tlearn: 36684.6909140\ttotal: 518ms\tremaining: 124ms\n",
            "121:\tlearn: 36640.7116008\ttotal: 522ms\tremaining: 120ms\n",
            "122:\tlearn: 36570.6089076\ttotal: 526ms\tremaining: 115ms\n",
            "123:\tlearn: 36531.0313578\ttotal: 529ms\tremaining: 111ms\n",
            "124:\tlearn: 36480.3174157\ttotal: 533ms\tremaining: 107ms\n",
            "125:\tlearn: 36416.2983787\ttotal: 537ms\tremaining: 102ms\n",
            "126:\tlearn: 36361.6511437\ttotal: 541ms\tremaining: 98ms\n",
            "127:\tlearn: 36301.4707044\ttotal: 545ms\tremaining: 93.6ms\n",
            "128:\tlearn: 36216.5915957\ttotal: 549ms\tremaining: 89.3ms\n",
            "129:\tlearn: 36168.6372222\ttotal: 553ms\tremaining: 85.1ms\n",
            "130:\tlearn: 36116.8705469\ttotal: 557ms\tremaining: 80.8ms\n",
            "131:\tlearn: 36041.4148087\ttotal: 561ms\tremaining: 76.5ms\n",
            "132:\tlearn: 35988.7493438\ttotal: 566ms\tremaining: 72.3ms\n",
            "133:\tlearn: 35907.5109057\ttotal: 570ms\tremaining: 68.1ms\n",
            "134:\tlearn: 35852.5648183\ttotal: 574ms\tremaining: 63.8ms\n",
            "135:\tlearn: 35781.4735742\ttotal: 582ms\tremaining: 59.9ms\n",
            "136:\tlearn: 35697.1164746\ttotal: 586ms\tremaining: 55.6ms\n",
            "137:\tlearn: 35640.4166437\ttotal: 590ms\tremaining: 51.3ms\n",
            "138:\tlearn: 35580.9539927\ttotal: 594ms\tremaining: 47ms\n",
            "139:\tlearn: 35553.0607721\ttotal: 597ms\tremaining: 42.7ms\n",
            "140:\tlearn: 35494.5999587\ttotal: 601ms\tremaining: 38.4ms\n",
            "141:\tlearn: 35435.9940805\ttotal: 605ms\tremaining: 34.1ms\n",
            "142:\tlearn: 35394.0117665\ttotal: 609ms\tremaining: 29.8ms\n",
            "143:\tlearn: 35324.9731667\ttotal: 612ms\tremaining: 25.5ms\n",
            "144:\tlearn: 35268.5809845\ttotal: 616ms\tremaining: 21.2ms\n",
            "145:\tlearn: 35210.8084799\ttotal: 620ms\tremaining: 17ms\n",
            "146:\tlearn: 35147.9080013\ttotal: 624ms\tremaining: 12.7ms\n",
            "147:\tlearn: 35120.1045678\ttotal: 628ms\tremaining: 8.48ms\n",
            "148:\tlearn: 35020.3284236\ttotal: 632ms\tremaining: 4.24ms\n",
            "149:\tlearn: 34965.2561268\ttotal: 636ms\tremaining: 0us\n"
          ]
        },
        {
          "data": {
            "text/plain": [
              "RandomizedSearchCV(cv=5,\n",
              "                   estimator=<catboost.core.CatBoostRegressor object at 0x7fb5c1c1bb10>,\n",
              "                   n_jobs=-1,\n",
              "                   param_distributions={'learning_rate': array([0.   , 0.075, 0.15 , 0.225, 0.3  ]),\n",
              "                                        'n_estimators': [5, 150]},\n",
              "                   random_state=42, return_train_score=True, scoring='r2')"
            ]
          },
          "execution_count": 61,
          "metadata": {},
          "output_type": "execute_result"
        }
      ],
      "source": [
        "rscv = RandomizedSearchCV(      estimator=cat, \n",
        "                                param_distributions=grid, \n",
        "                                n_iter = 10, \n",
        "                                scoring='r2',\n",
        "                                cv = 5, \n",
        "                                verbose=0, \n",
        "                                random_state=42,\n",
        "                                n_jobs=-1,\n",
        "                                return_train_score=True)\n",
        "\n",
        "rscv.fit(X_train, y_train)"
      ]
    },
    {
      "cell_type": "code",
      "execution_count": 62,
      "metadata": {
        "colab": {
          "base_uri": "https://localhost:8080/"
        },
        "id": "hKxz1qm5EaZj",
        "outputId": "e86a8218-1302-4abf-f0b4-55d03f3d07f7"
      },
      "outputs": [
        {
          "name": "stdout",
          "output_type": "stream",
          "text": [
            "{'n_estimators': 150, 'learning_rate': 0.3}\n",
            "0.7985137897505852\n"
          ]
        }
      ],
      "source": [
        "# summarize result\n",
        "print(rscv.best_params_)\n",
        "print(rscv.score(X_test , y_test))"
      ]
    },
    {
      "cell_type": "code",
      "execution_count": 63,
      "metadata": {
        "colab": {
          "base_uri": "https://localhost:8080/"
        },
        "id": "ixsqP3IIEeAp",
        "outputId": "8ee530ed-7c50-4221-ea30-3b3a21137876"
      },
      "outputs": [
        {
          "name": "stdout",
          "output_type": "stream",
          "text": [
            "\u001b[1m\n",
            "R2 score is  0.8\n",
            "\u001b[1m\n",
            "Adjusted R2 score is  0.77\n",
            "\u001b[1m\n",
            "Mean Absolute Error is 30031.11\n",
            "\u001b[1m\n",
            "Mean Squared Error is 1939207780.5\n",
            "\u001b[1m\n",
            "Root Mean Squared Error is 44036.44\n"
          ]
        }
      ],
      "source": [
        "#Predict on test data\n",
        "y_pred = rscv.predict(X_test)\n",
        "\n",
        "#Metrics Calculation\n",
        "r2 = round(metrics.r2_score(y_test, y_pred),2)\n",
        "Adj_r2 = round(1-(1-r2)*(9-1)/(9-1-1),2)\n",
        "\n",
        "#Display results\n",
        "print(color.BOLD + '\\nR2 score is ',r2)\n",
        "\n",
        "print(color.BOLD + '\\nAdjusted R2 score is ',Adj_r2)\n",
        "\n",
        "print(color.BOLD + '\\nMean Absolute Error is',round(metrics.mean_absolute_error(y_test,rscv.predict(X_test)),2))\n",
        "\n",
        "print(color.BOLD + '\\nMean Squared Error is',round(metrics.mean_squared_error(y_test,rscv.predict(X_test)),2))\n",
        "\n",
        "print(color.BOLD + '\\nRoot Mean Squared Error is',round(np.sqrt(mean_squared_error(y_test,rscv.predict(X_test))),2))"
      ]
    },
    {
      "cell_type": "markdown",
      "metadata": {
        "id": "64BPpQR-27-b"
      },
      "source": [
        "### Exporting the Model"
      ]
    },
    {
      "cell_type": "markdown",
      "metadata": {
        "id": "zPvnVPK9NwSx"
      },
      "source": [
        "\n",
        "\n",
        "> Based on hyperparameter tuning, we can either choose Catboost or LightGBM(top-performer)\n",
        "\n"
      ]
    },
    {
      "cell_type": "code",
      "execution_count": 65,
      "metadata": {
        "colab": {
          "base_uri": "https://localhost:8080/"
        },
        "id": "Kk6fLKUpExO6",
        "outputId": "9d7ae774-9ace-4b4f-8465-01f851147dce"
      },
      "outputs": [
        {
          "name": "stdout",
          "output_type": "stream",
          "text": [
            "Looking in indexes: https://pypi.org/simple, https://us-python.pkg.dev/colab-wheels/public/simple/\n",
            "Requirement already satisfied: joblib in /usr/local/lib/python3.7/dist-packages (1.1.0)\n"
          ]
        },
        {
          "data": {
            "text/plain": [
              "['model.pkl']"
            ]
          },
          "execution_count": 65,
          "metadata": {},
          "output_type": "execute_result"
        }
      ],
      "source": [
        "#Exporting the model using joblib library\n",
        "!pip install joblib\n",
        "import joblib\n",
        "joblib.dump(cat,\"model.pkl\")"
      ]
    }
  ],
  "metadata": {
    "accelerator": "TPU",
    "colab": {
      "collapsed_sections": [
        "3zT5YKE6ExOg",
        "5t_si0jdExOn",
        "3VFTmi27ExOt",
        "fcqcpuBnExOv",
        "xsKntNzWExOw",
        "WWXA1UPaExOx",
        "crwxCa3eExOy",
        "VM2qHHYBExOz",
        "0BLssVV1ExO0",
        "Oc89QA2kExO1",
        "MohqDtvSExO2",
        "-55vOHQ0ExO2",
        "mMKJqBBEExO3",
        "e5bLdMPdExO5",
        "BlhhyCA6EJYw",
        "iwS1FfCANahe",
        "64BPpQR-27-b"
      ],
      "provenance": []
    },
    "kernelspec": {
      "display_name": "Python 3.8.10 64-bit",
      "language": "python",
      "name": "python3"
    },
    "language_info": {
      "codemirror_mode": {
        "name": "ipython",
        "version": 3
      },
      "file_extension": ".py",
      "mimetype": "text/x-python",
      "name": "python",
      "nbconvert_exporter": "python",
      "pygments_lexer": "ipython3",
      "version": "3.8.10"
    },
    "vscode": {
      "interpreter": {
        "hash": "916dbcbb3f70747c44a77c7bcd40155683ae19c65e1c03b4aa3499c5328201f1"
      }
    }
  },
  "nbformat": 4,
  "nbformat_minor": 0
}
